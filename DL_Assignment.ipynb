{
  "nbformat": 4,
  "nbformat_minor": 0,
  "metadata": {
    "colab": {
      "provenance": []
    },
    "kernelspec": {
      "name": "python3",
      "display_name": "Python 3"
    },
    "language_info": {
      "name": "python"
    },
    "widgets": {
      "application/vnd.jupyter.widget-state+json": {
        "bd33d26082be4c838563bceffef6176c": {
          "model_module": "@jupyter-widgets/controls",
          "model_name": "VBoxModel",
          "model_module_version": "1.5.0",
          "state": {
            "_dom_classes": [],
            "_model_module": "@jupyter-widgets/controls",
            "_model_module_version": "1.5.0",
            "_model_name": "VBoxModel",
            "_view_count": null,
            "_view_module": "@jupyter-widgets/controls",
            "_view_module_version": "1.5.0",
            "_view_name": "VBoxView",
            "box_style": "",
            "children": [
              "IPY_MODEL_0d3ededf26b44383b988148bf77a5c58",
              "IPY_MODEL_722c16d7bcd74e88b4c24aefcb347c2f"
            ],
            "layout": "IPY_MODEL_4d2a7a2c38cf4dcbb37ef81180a04718"
          }
        },
        "0d3ededf26b44383b988148bf77a5c58": {
          "model_module": "@jupyter-widgets/controls",
          "model_name": "LabelModel",
          "model_module_version": "1.5.0",
          "state": {
            "_dom_classes": [],
            "_model_module": "@jupyter-widgets/controls",
            "_model_module_version": "1.5.0",
            "_model_name": "LabelModel",
            "_view_count": null,
            "_view_module": "@jupyter-widgets/controls",
            "_view_module_version": "1.5.0",
            "_view_name": "LabelView",
            "description": "",
            "description_tooltip": null,
            "layout": "IPY_MODEL_301e3491082e4d1f8892e42cf0a7841d",
            "placeholder": "​",
            "style": "IPY_MODEL_dc7241c77eec4258b558a178636f434c",
            "value": "0.016 MB of 0.016 MB uploaded\r"
          }
        },
        "722c16d7bcd74e88b4c24aefcb347c2f": {
          "model_module": "@jupyter-widgets/controls",
          "model_name": "FloatProgressModel",
          "model_module_version": "1.5.0",
          "state": {
            "_dom_classes": [],
            "_model_module": "@jupyter-widgets/controls",
            "_model_module_version": "1.5.0",
            "_model_name": "FloatProgressModel",
            "_view_count": null,
            "_view_module": "@jupyter-widgets/controls",
            "_view_module_version": "1.5.0",
            "_view_name": "ProgressView",
            "bar_style": "",
            "description": "",
            "description_tooltip": null,
            "layout": "IPY_MODEL_c9e114521b434271bfb9e53760dc8537",
            "max": 1,
            "min": 0,
            "orientation": "horizontal",
            "style": "IPY_MODEL_bba65a9af05d4626bd77c55dcd66ff2a",
            "value": 1
          }
        },
        "4d2a7a2c38cf4dcbb37ef81180a04718": {
          "model_module": "@jupyter-widgets/base",
          "model_name": "LayoutModel",
          "model_module_version": "1.2.0",
          "state": {
            "_model_module": "@jupyter-widgets/base",
            "_model_module_version": "1.2.0",
            "_model_name": "LayoutModel",
            "_view_count": null,
            "_view_module": "@jupyter-widgets/base",
            "_view_module_version": "1.2.0",
            "_view_name": "LayoutView",
            "align_content": null,
            "align_items": null,
            "align_self": null,
            "border": null,
            "bottom": null,
            "display": null,
            "flex": null,
            "flex_flow": null,
            "grid_area": null,
            "grid_auto_columns": null,
            "grid_auto_flow": null,
            "grid_auto_rows": null,
            "grid_column": null,
            "grid_gap": null,
            "grid_row": null,
            "grid_template_areas": null,
            "grid_template_columns": null,
            "grid_template_rows": null,
            "height": null,
            "justify_content": null,
            "justify_items": null,
            "left": null,
            "margin": null,
            "max_height": null,
            "max_width": null,
            "min_height": null,
            "min_width": null,
            "object_fit": null,
            "object_position": null,
            "order": null,
            "overflow": null,
            "overflow_x": null,
            "overflow_y": null,
            "padding": null,
            "right": null,
            "top": null,
            "visibility": null,
            "width": null
          }
        },
        "301e3491082e4d1f8892e42cf0a7841d": {
          "model_module": "@jupyter-widgets/base",
          "model_name": "LayoutModel",
          "model_module_version": "1.2.0",
          "state": {
            "_model_module": "@jupyter-widgets/base",
            "_model_module_version": "1.2.0",
            "_model_name": "LayoutModel",
            "_view_count": null,
            "_view_module": "@jupyter-widgets/base",
            "_view_module_version": "1.2.0",
            "_view_name": "LayoutView",
            "align_content": null,
            "align_items": null,
            "align_self": null,
            "border": null,
            "bottom": null,
            "display": null,
            "flex": null,
            "flex_flow": null,
            "grid_area": null,
            "grid_auto_columns": null,
            "grid_auto_flow": null,
            "grid_auto_rows": null,
            "grid_column": null,
            "grid_gap": null,
            "grid_row": null,
            "grid_template_areas": null,
            "grid_template_columns": null,
            "grid_template_rows": null,
            "height": null,
            "justify_content": null,
            "justify_items": null,
            "left": null,
            "margin": null,
            "max_height": null,
            "max_width": null,
            "min_height": null,
            "min_width": null,
            "object_fit": null,
            "object_position": null,
            "order": null,
            "overflow": null,
            "overflow_x": null,
            "overflow_y": null,
            "padding": null,
            "right": null,
            "top": null,
            "visibility": null,
            "width": null
          }
        },
        "dc7241c77eec4258b558a178636f434c": {
          "model_module": "@jupyter-widgets/controls",
          "model_name": "DescriptionStyleModel",
          "model_module_version": "1.5.0",
          "state": {
            "_model_module": "@jupyter-widgets/controls",
            "_model_module_version": "1.5.0",
            "_model_name": "DescriptionStyleModel",
            "_view_count": null,
            "_view_module": "@jupyter-widgets/base",
            "_view_module_version": "1.2.0",
            "_view_name": "StyleView",
            "description_width": ""
          }
        },
        "c9e114521b434271bfb9e53760dc8537": {
          "model_module": "@jupyter-widgets/base",
          "model_name": "LayoutModel",
          "model_module_version": "1.2.0",
          "state": {
            "_model_module": "@jupyter-widgets/base",
            "_model_module_version": "1.2.0",
            "_model_name": "LayoutModel",
            "_view_count": null,
            "_view_module": "@jupyter-widgets/base",
            "_view_module_version": "1.2.0",
            "_view_name": "LayoutView",
            "align_content": null,
            "align_items": null,
            "align_self": null,
            "border": null,
            "bottom": null,
            "display": null,
            "flex": null,
            "flex_flow": null,
            "grid_area": null,
            "grid_auto_columns": null,
            "grid_auto_flow": null,
            "grid_auto_rows": null,
            "grid_column": null,
            "grid_gap": null,
            "grid_row": null,
            "grid_template_areas": null,
            "grid_template_columns": null,
            "grid_template_rows": null,
            "height": null,
            "justify_content": null,
            "justify_items": null,
            "left": null,
            "margin": null,
            "max_height": null,
            "max_width": null,
            "min_height": null,
            "min_width": null,
            "object_fit": null,
            "object_position": null,
            "order": null,
            "overflow": null,
            "overflow_x": null,
            "overflow_y": null,
            "padding": null,
            "right": null,
            "top": null,
            "visibility": null,
            "width": null
          }
        },
        "bba65a9af05d4626bd77c55dcd66ff2a": {
          "model_module": "@jupyter-widgets/controls",
          "model_name": "ProgressStyleModel",
          "model_module_version": "1.5.0",
          "state": {
            "_model_module": "@jupyter-widgets/controls",
            "_model_module_version": "1.5.0",
            "_model_name": "ProgressStyleModel",
            "_view_count": null,
            "_view_module": "@jupyter-widgets/base",
            "_view_module_version": "1.2.0",
            "_view_name": "StyleView",
            "bar_color": null,
            "description_width": ""
          }
        },
        "459e03e6c1274cf3bc9fe2d5a45dea58": {
          "model_module": "@jupyter-widgets/controls",
          "model_name": "VBoxModel",
          "model_module_version": "1.5.0",
          "state": {
            "_dom_classes": [],
            "_model_module": "@jupyter-widgets/controls",
            "_model_module_version": "1.5.0",
            "_model_name": "VBoxModel",
            "_view_count": null,
            "_view_module": "@jupyter-widgets/controls",
            "_view_module_version": "1.5.0",
            "_view_name": "VBoxView",
            "box_style": "",
            "children": [
              "IPY_MODEL_0b8c44d36592475f86eee18c265233b3",
              "IPY_MODEL_8da5ea8ce8d34b05bf570410a9efefe5"
            ],
            "layout": "IPY_MODEL_597be873ac6e41bd89bf1b0e40c1a7fc"
          }
        },
        "0b8c44d36592475f86eee18c265233b3": {
          "model_module": "@jupyter-widgets/controls",
          "model_name": "LabelModel",
          "model_module_version": "1.5.0",
          "state": {
            "_dom_classes": [],
            "_model_module": "@jupyter-widgets/controls",
            "_model_module_version": "1.5.0",
            "_model_name": "LabelModel",
            "_view_count": null,
            "_view_module": "@jupyter-widgets/controls",
            "_view_module_version": "1.5.0",
            "_view_name": "LabelView",
            "description": "",
            "description_tooltip": null,
            "layout": "IPY_MODEL_c51011346b4f48e4914c4204c266395c",
            "placeholder": "​",
            "style": "IPY_MODEL_40bb32a612314d89b13cfc2d25d3ef83",
            "value": "0.011 MB of 0.011 MB uploaded\r"
          }
        },
        "8da5ea8ce8d34b05bf570410a9efefe5": {
          "model_module": "@jupyter-widgets/controls",
          "model_name": "FloatProgressModel",
          "model_module_version": "1.5.0",
          "state": {
            "_dom_classes": [],
            "_model_module": "@jupyter-widgets/controls",
            "_model_module_version": "1.5.0",
            "_model_name": "FloatProgressModel",
            "_view_count": null,
            "_view_module": "@jupyter-widgets/controls",
            "_view_module_version": "1.5.0",
            "_view_name": "ProgressView",
            "bar_style": "",
            "description": "",
            "description_tooltip": null,
            "layout": "IPY_MODEL_4f508fbb43c245789964905ef52db17e",
            "max": 1,
            "min": 0,
            "orientation": "horizontal",
            "style": "IPY_MODEL_dafa75bc67be4d098caa2fa38d29ac26",
            "value": 1
          }
        },
        "597be873ac6e41bd89bf1b0e40c1a7fc": {
          "model_module": "@jupyter-widgets/base",
          "model_name": "LayoutModel",
          "model_module_version": "1.2.0",
          "state": {
            "_model_module": "@jupyter-widgets/base",
            "_model_module_version": "1.2.0",
            "_model_name": "LayoutModel",
            "_view_count": null,
            "_view_module": "@jupyter-widgets/base",
            "_view_module_version": "1.2.0",
            "_view_name": "LayoutView",
            "align_content": null,
            "align_items": null,
            "align_self": null,
            "border": null,
            "bottom": null,
            "display": null,
            "flex": null,
            "flex_flow": null,
            "grid_area": null,
            "grid_auto_columns": null,
            "grid_auto_flow": null,
            "grid_auto_rows": null,
            "grid_column": null,
            "grid_gap": null,
            "grid_row": null,
            "grid_template_areas": null,
            "grid_template_columns": null,
            "grid_template_rows": null,
            "height": null,
            "justify_content": null,
            "justify_items": null,
            "left": null,
            "margin": null,
            "max_height": null,
            "max_width": null,
            "min_height": null,
            "min_width": null,
            "object_fit": null,
            "object_position": null,
            "order": null,
            "overflow": null,
            "overflow_x": null,
            "overflow_y": null,
            "padding": null,
            "right": null,
            "top": null,
            "visibility": null,
            "width": null
          }
        },
        "c51011346b4f48e4914c4204c266395c": {
          "model_module": "@jupyter-widgets/base",
          "model_name": "LayoutModel",
          "model_module_version": "1.2.0",
          "state": {
            "_model_module": "@jupyter-widgets/base",
            "_model_module_version": "1.2.0",
            "_model_name": "LayoutModel",
            "_view_count": null,
            "_view_module": "@jupyter-widgets/base",
            "_view_module_version": "1.2.0",
            "_view_name": "LayoutView",
            "align_content": null,
            "align_items": null,
            "align_self": null,
            "border": null,
            "bottom": null,
            "display": null,
            "flex": null,
            "flex_flow": null,
            "grid_area": null,
            "grid_auto_columns": null,
            "grid_auto_flow": null,
            "grid_auto_rows": null,
            "grid_column": null,
            "grid_gap": null,
            "grid_row": null,
            "grid_template_areas": null,
            "grid_template_columns": null,
            "grid_template_rows": null,
            "height": null,
            "justify_content": null,
            "justify_items": null,
            "left": null,
            "margin": null,
            "max_height": null,
            "max_width": null,
            "min_height": null,
            "min_width": null,
            "object_fit": null,
            "object_position": null,
            "order": null,
            "overflow": null,
            "overflow_x": null,
            "overflow_y": null,
            "padding": null,
            "right": null,
            "top": null,
            "visibility": null,
            "width": null
          }
        },
        "40bb32a612314d89b13cfc2d25d3ef83": {
          "model_module": "@jupyter-widgets/controls",
          "model_name": "DescriptionStyleModel",
          "model_module_version": "1.5.0",
          "state": {
            "_model_module": "@jupyter-widgets/controls",
            "_model_module_version": "1.5.0",
            "_model_name": "DescriptionStyleModel",
            "_view_count": null,
            "_view_module": "@jupyter-widgets/base",
            "_view_module_version": "1.2.0",
            "_view_name": "StyleView",
            "description_width": ""
          }
        },
        "4f508fbb43c245789964905ef52db17e": {
          "model_module": "@jupyter-widgets/base",
          "model_name": "LayoutModel",
          "model_module_version": "1.2.0",
          "state": {
            "_model_module": "@jupyter-widgets/base",
            "_model_module_version": "1.2.0",
            "_model_name": "LayoutModel",
            "_view_count": null,
            "_view_module": "@jupyter-widgets/base",
            "_view_module_version": "1.2.0",
            "_view_name": "LayoutView",
            "align_content": null,
            "align_items": null,
            "align_self": null,
            "border": null,
            "bottom": null,
            "display": null,
            "flex": null,
            "flex_flow": null,
            "grid_area": null,
            "grid_auto_columns": null,
            "grid_auto_flow": null,
            "grid_auto_rows": null,
            "grid_column": null,
            "grid_gap": null,
            "grid_row": null,
            "grid_template_areas": null,
            "grid_template_columns": null,
            "grid_template_rows": null,
            "height": null,
            "justify_content": null,
            "justify_items": null,
            "left": null,
            "margin": null,
            "max_height": null,
            "max_width": null,
            "min_height": null,
            "min_width": null,
            "object_fit": null,
            "object_position": null,
            "order": null,
            "overflow": null,
            "overflow_x": null,
            "overflow_y": null,
            "padding": null,
            "right": null,
            "top": null,
            "visibility": null,
            "width": null
          }
        },
        "dafa75bc67be4d098caa2fa38d29ac26": {
          "model_module": "@jupyter-widgets/controls",
          "model_name": "ProgressStyleModel",
          "model_module_version": "1.5.0",
          "state": {
            "_model_module": "@jupyter-widgets/controls",
            "_model_module_version": "1.5.0",
            "_model_name": "ProgressStyleModel",
            "_view_count": null,
            "_view_module": "@jupyter-widgets/base",
            "_view_module_version": "1.2.0",
            "_view_name": "StyleView",
            "bar_color": null,
            "description_width": ""
          }
        },
        "f2d66b9ff1e74b16aaf7f606ba5c5c3d": {
          "model_module": "@jupyter-widgets/controls",
          "model_name": "VBoxModel",
          "model_module_version": "1.5.0",
          "state": {
            "_dom_classes": [],
            "_model_module": "@jupyter-widgets/controls",
            "_model_module_version": "1.5.0",
            "_model_name": "VBoxModel",
            "_view_count": null,
            "_view_module": "@jupyter-widgets/controls",
            "_view_module_version": "1.5.0",
            "_view_name": "VBoxView",
            "box_style": "",
            "children": [
              "IPY_MODEL_bafa985817f0409787d7ce06c92cb56a",
              "IPY_MODEL_a425e4c54d8a4664961c49650810edcd"
            ],
            "layout": "IPY_MODEL_03a76567494f46febd1aedcdf04b18c2"
          }
        },
        "bafa985817f0409787d7ce06c92cb56a": {
          "model_module": "@jupyter-widgets/controls",
          "model_name": "LabelModel",
          "model_module_version": "1.5.0",
          "state": {
            "_dom_classes": [],
            "_model_module": "@jupyter-widgets/controls",
            "_model_module_version": "1.5.0",
            "_model_name": "LabelModel",
            "_view_count": null,
            "_view_module": "@jupyter-widgets/controls",
            "_view_module_version": "1.5.0",
            "_view_name": "LabelView",
            "description": "",
            "description_tooltip": null,
            "layout": "IPY_MODEL_ef4dee1f482c45148a9049b7ffd32645",
            "placeholder": "​",
            "style": "IPY_MODEL_fd1f3e9a347d431eaae7a13bc24f8576",
            "value": "0.012 MB of 0.012 MB uploaded\r"
          }
        },
        "a425e4c54d8a4664961c49650810edcd": {
          "model_module": "@jupyter-widgets/controls",
          "model_name": "FloatProgressModel",
          "model_module_version": "1.5.0",
          "state": {
            "_dom_classes": [],
            "_model_module": "@jupyter-widgets/controls",
            "_model_module_version": "1.5.0",
            "_model_name": "FloatProgressModel",
            "_view_count": null,
            "_view_module": "@jupyter-widgets/controls",
            "_view_module_version": "1.5.0",
            "_view_name": "ProgressView",
            "bar_style": "",
            "description": "",
            "description_tooltip": null,
            "layout": "IPY_MODEL_1318f74a490a4b6f8f322bc35cf1dc9c",
            "max": 1,
            "min": 0,
            "orientation": "horizontal",
            "style": "IPY_MODEL_1a712e19dd3642e09720d4a5bc82cd3c",
            "value": 1
          }
        },
        "03a76567494f46febd1aedcdf04b18c2": {
          "model_module": "@jupyter-widgets/base",
          "model_name": "LayoutModel",
          "model_module_version": "1.2.0",
          "state": {
            "_model_module": "@jupyter-widgets/base",
            "_model_module_version": "1.2.0",
            "_model_name": "LayoutModel",
            "_view_count": null,
            "_view_module": "@jupyter-widgets/base",
            "_view_module_version": "1.2.0",
            "_view_name": "LayoutView",
            "align_content": null,
            "align_items": null,
            "align_self": null,
            "border": null,
            "bottom": null,
            "display": null,
            "flex": null,
            "flex_flow": null,
            "grid_area": null,
            "grid_auto_columns": null,
            "grid_auto_flow": null,
            "grid_auto_rows": null,
            "grid_column": null,
            "grid_gap": null,
            "grid_row": null,
            "grid_template_areas": null,
            "grid_template_columns": null,
            "grid_template_rows": null,
            "height": null,
            "justify_content": null,
            "justify_items": null,
            "left": null,
            "margin": null,
            "max_height": null,
            "max_width": null,
            "min_height": null,
            "min_width": null,
            "object_fit": null,
            "object_position": null,
            "order": null,
            "overflow": null,
            "overflow_x": null,
            "overflow_y": null,
            "padding": null,
            "right": null,
            "top": null,
            "visibility": null,
            "width": null
          }
        },
        "ef4dee1f482c45148a9049b7ffd32645": {
          "model_module": "@jupyter-widgets/base",
          "model_name": "LayoutModel",
          "model_module_version": "1.2.0",
          "state": {
            "_model_module": "@jupyter-widgets/base",
            "_model_module_version": "1.2.0",
            "_model_name": "LayoutModel",
            "_view_count": null,
            "_view_module": "@jupyter-widgets/base",
            "_view_module_version": "1.2.0",
            "_view_name": "LayoutView",
            "align_content": null,
            "align_items": null,
            "align_self": null,
            "border": null,
            "bottom": null,
            "display": null,
            "flex": null,
            "flex_flow": null,
            "grid_area": null,
            "grid_auto_columns": null,
            "grid_auto_flow": null,
            "grid_auto_rows": null,
            "grid_column": null,
            "grid_gap": null,
            "grid_row": null,
            "grid_template_areas": null,
            "grid_template_columns": null,
            "grid_template_rows": null,
            "height": null,
            "justify_content": null,
            "justify_items": null,
            "left": null,
            "margin": null,
            "max_height": null,
            "max_width": null,
            "min_height": null,
            "min_width": null,
            "object_fit": null,
            "object_position": null,
            "order": null,
            "overflow": null,
            "overflow_x": null,
            "overflow_y": null,
            "padding": null,
            "right": null,
            "top": null,
            "visibility": null,
            "width": null
          }
        },
        "fd1f3e9a347d431eaae7a13bc24f8576": {
          "model_module": "@jupyter-widgets/controls",
          "model_name": "DescriptionStyleModel",
          "model_module_version": "1.5.0",
          "state": {
            "_model_module": "@jupyter-widgets/controls",
            "_model_module_version": "1.5.0",
            "_model_name": "DescriptionStyleModel",
            "_view_count": null,
            "_view_module": "@jupyter-widgets/base",
            "_view_module_version": "1.2.0",
            "_view_name": "StyleView",
            "description_width": ""
          }
        },
        "1318f74a490a4b6f8f322bc35cf1dc9c": {
          "model_module": "@jupyter-widgets/base",
          "model_name": "LayoutModel",
          "model_module_version": "1.2.0",
          "state": {
            "_model_module": "@jupyter-widgets/base",
            "_model_module_version": "1.2.0",
            "_model_name": "LayoutModel",
            "_view_count": null,
            "_view_module": "@jupyter-widgets/base",
            "_view_module_version": "1.2.0",
            "_view_name": "LayoutView",
            "align_content": null,
            "align_items": null,
            "align_self": null,
            "border": null,
            "bottom": null,
            "display": null,
            "flex": null,
            "flex_flow": null,
            "grid_area": null,
            "grid_auto_columns": null,
            "grid_auto_flow": null,
            "grid_auto_rows": null,
            "grid_column": null,
            "grid_gap": null,
            "grid_row": null,
            "grid_template_areas": null,
            "grid_template_columns": null,
            "grid_template_rows": null,
            "height": null,
            "justify_content": null,
            "justify_items": null,
            "left": null,
            "margin": null,
            "max_height": null,
            "max_width": null,
            "min_height": null,
            "min_width": null,
            "object_fit": null,
            "object_position": null,
            "order": null,
            "overflow": null,
            "overflow_x": null,
            "overflow_y": null,
            "padding": null,
            "right": null,
            "top": null,
            "visibility": null,
            "width": null
          }
        },
        "1a712e19dd3642e09720d4a5bc82cd3c": {
          "model_module": "@jupyter-widgets/controls",
          "model_name": "ProgressStyleModel",
          "model_module_version": "1.5.0",
          "state": {
            "_model_module": "@jupyter-widgets/controls",
            "_model_module_version": "1.5.0",
            "_model_name": "ProgressStyleModel",
            "_view_count": null,
            "_view_module": "@jupyter-widgets/base",
            "_view_module_version": "1.2.0",
            "_view_name": "StyleView",
            "bar_color": null,
            "description_width": ""
          }
        },
        "f77c8216607443a68605ac1e65d4b56b": {
          "model_module": "@jupyter-widgets/controls",
          "model_name": "VBoxModel",
          "model_module_version": "1.5.0",
          "state": {
            "_dom_classes": [],
            "_model_module": "@jupyter-widgets/controls",
            "_model_module_version": "1.5.0",
            "_model_name": "VBoxModel",
            "_view_count": null,
            "_view_module": "@jupyter-widgets/controls",
            "_view_module_version": "1.5.0",
            "_view_name": "VBoxView",
            "box_style": "",
            "children": [
              "IPY_MODEL_9429d78cda4245a8ab74a74c017873a3",
              "IPY_MODEL_c931896506584e82b668910cd2cf11e9"
            ],
            "layout": "IPY_MODEL_5f0b25a0e6fe411a82ce060e345a1f11"
          }
        },
        "9429d78cda4245a8ab74a74c017873a3": {
          "model_module": "@jupyter-widgets/controls",
          "model_name": "LabelModel",
          "model_module_version": "1.5.0",
          "state": {
            "_dom_classes": [],
            "_model_module": "@jupyter-widgets/controls",
            "_model_module_version": "1.5.0",
            "_model_name": "LabelModel",
            "_view_count": null,
            "_view_module": "@jupyter-widgets/controls",
            "_view_module_version": "1.5.0",
            "_view_name": "LabelView",
            "description": "",
            "description_tooltip": null,
            "layout": "IPY_MODEL_d232fcb6e164486aa92edd075ac26870",
            "placeholder": "​",
            "style": "IPY_MODEL_a10b3b9cb46c40f09dfd9c4186039cec",
            "value": "0.011 MB of 0.011 MB uploaded\r"
          }
        },
        "c931896506584e82b668910cd2cf11e9": {
          "model_module": "@jupyter-widgets/controls",
          "model_name": "FloatProgressModel",
          "model_module_version": "1.5.0",
          "state": {
            "_dom_classes": [],
            "_model_module": "@jupyter-widgets/controls",
            "_model_module_version": "1.5.0",
            "_model_name": "FloatProgressModel",
            "_view_count": null,
            "_view_module": "@jupyter-widgets/controls",
            "_view_module_version": "1.5.0",
            "_view_name": "ProgressView",
            "bar_style": "",
            "description": "",
            "description_tooltip": null,
            "layout": "IPY_MODEL_3f8549fef80347dc96fe9307277c8d03",
            "max": 1,
            "min": 0,
            "orientation": "horizontal",
            "style": "IPY_MODEL_c748715a2ede4a24901a9d0d7f686fb7",
            "value": 1
          }
        },
        "5f0b25a0e6fe411a82ce060e345a1f11": {
          "model_module": "@jupyter-widgets/base",
          "model_name": "LayoutModel",
          "model_module_version": "1.2.0",
          "state": {
            "_model_module": "@jupyter-widgets/base",
            "_model_module_version": "1.2.0",
            "_model_name": "LayoutModel",
            "_view_count": null,
            "_view_module": "@jupyter-widgets/base",
            "_view_module_version": "1.2.0",
            "_view_name": "LayoutView",
            "align_content": null,
            "align_items": null,
            "align_self": null,
            "border": null,
            "bottom": null,
            "display": null,
            "flex": null,
            "flex_flow": null,
            "grid_area": null,
            "grid_auto_columns": null,
            "grid_auto_flow": null,
            "grid_auto_rows": null,
            "grid_column": null,
            "grid_gap": null,
            "grid_row": null,
            "grid_template_areas": null,
            "grid_template_columns": null,
            "grid_template_rows": null,
            "height": null,
            "justify_content": null,
            "justify_items": null,
            "left": null,
            "margin": null,
            "max_height": null,
            "max_width": null,
            "min_height": null,
            "min_width": null,
            "object_fit": null,
            "object_position": null,
            "order": null,
            "overflow": null,
            "overflow_x": null,
            "overflow_y": null,
            "padding": null,
            "right": null,
            "top": null,
            "visibility": null,
            "width": null
          }
        },
        "d232fcb6e164486aa92edd075ac26870": {
          "model_module": "@jupyter-widgets/base",
          "model_name": "LayoutModel",
          "model_module_version": "1.2.0",
          "state": {
            "_model_module": "@jupyter-widgets/base",
            "_model_module_version": "1.2.0",
            "_model_name": "LayoutModel",
            "_view_count": null,
            "_view_module": "@jupyter-widgets/base",
            "_view_module_version": "1.2.0",
            "_view_name": "LayoutView",
            "align_content": null,
            "align_items": null,
            "align_self": null,
            "border": null,
            "bottom": null,
            "display": null,
            "flex": null,
            "flex_flow": null,
            "grid_area": null,
            "grid_auto_columns": null,
            "grid_auto_flow": null,
            "grid_auto_rows": null,
            "grid_column": null,
            "grid_gap": null,
            "grid_row": null,
            "grid_template_areas": null,
            "grid_template_columns": null,
            "grid_template_rows": null,
            "height": null,
            "justify_content": null,
            "justify_items": null,
            "left": null,
            "margin": null,
            "max_height": null,
            "max_width": null,
            "min_height": null,
            "min_width": null,
            "object_fit": null,
            "object_position": null,
            "order": null,
            "overflow": null,
            "overflow_x": null,
            "overflow_y": null,
            "padding": null,
            "right": null,
            "top": null,
            "visibility": null,
            "width": null
          }
        },
        "a10b3b9cb46c40f09dfd9c4186039cec": {
          "model_module": "@jupyter-widgets/controls",
          "model_name": "DescriptionStyleModel",
          "model_module_version": "1.5.0",
          "state": {
            "_model_module": "@jupyter-widgets/controls",
            "_model_module_version": "1.5.0",
            "_model_name": "DescriptionStyleModel",
            "_view_count": null,
            "_view_module": "@jupyter-widgets/base",
            "_view_module_version": "1.2.0",
            "_view_name": "StyleView",
            "description_width": ""
          }
        },
        "3f8549fef80347dc96fe9307277c8d03": {
          "model_module": "@jupyter-widgets/base",
          "model_name": "LayoutModel",
          "model_module_version": "1.2.0",
          "state": {
            "_model_module": "@jupyter-widgets/base",
            "_model_module_version": "1.2.0",
            "_model_name": "LayoutModel",
            "_view_count": null,
            "_view_module": "@jupyter-widgets/base",
            "_view_module_version": "1.2.0",
            "_view_name": "LayoutView",
            "align_content": null,
            "align_items": null,
            "align_self": null,
            "border": null,
            "bottom": null,
            "display": null,
            "flex": null,
            "flex_flow": null,
            "grid_area": null,
            "grid_auto_columns": null,
            "grid_auto_flow": null,
            "grid_auto_rows": null,
            "grid_column": null,
            "grid_gap": null,
            "grid_row": null,
            "grid_template_areas": null,
            "grid_template_columns": null,
            "grid_template_rows": null,
            "height": null,
            "justify_content": null,
            "justify_items": null,
            "left": null,
            "margin": null,
            "max_height": null,
            "max_width": null,
            "min_height": null,
            "min_width": null,
            "object_fit": null,
            "object_position": null,
            "order": null,
            "overflow": null,
            "overflow_x": null,
            "overflow_y": null,
            "padding": null,
            "right": null,
            "top": null,
            "visibility": null,
            "width": null
          }
        },
        "c748715a2ede4a24901a9d0d7f686fb7": {
          "model_module": "@jupyter-widgets/controls",
          "model_name": "ProgressStyleModel",
          "model_module_version": "1.5.0",
          "state": {
            "_model_module": "@jupyter-widgets/controls",
            "_model_module_version": "1.5.0",
            "_model_name": "ProgressStyleModel",
            "_view_count": null,
            "_view_module": "@jupyter-widgets/base",
            "_view_module_version": "1.2.0",
            "_view_name": "StyleView",
            "bar_color": null,
            "description_width": ""
          }
        },
        "11db88ab06ea4c71a308e89b5bf34f8e": {
          "model_module": "@jupyter-widgets/controls",
          "model_name": "VBoxModel",
          "model_module_version": "1.5.0",
          "state": {
            "_dom_classes": [],
            "_model_module": "@jupyter-widgets/controls",
            "_model_module_version": "1.5.0",
            "_model_name": "VBoxModel",
            "_view_count": null,
            "_view_module": "@jupyter-widgets/controls",
            "_view_module_version": "1.5.0",
            "_view_name": "VBoxView",
            "box_style": "",
            "children": [
              "IPY_MODEL_f3f24546a8c84b7db1d155f6155f5f02",
              "IPY_MODEL_7d1ed59d9f75470899fda6197f0760de"
            ],
            "layout": "IPY_MODEL_206a58e6ea8247e0aae6643441b9cee0"
          }
        },
        "f3f24546a8c84b7db1d155f6155f5f02": {
          "model_module": "@jupyter-widgets/controls",
          "model_name": "LabelModel",
          "model_module_version": "1.5.0",
          "state": {
            "_dom_classes": [],
            "_model_module": "@jupyter-widgets/controls",
            "_model_module_version": "1.5.0",
            "_model_name": "LabelModel",
            "_view_count": null,
            "_view_module": "@jupyter-widgets/controls",
            "_view_module_version": "1.5.0",
            "_view_name": "LabelView",
            "description": "",
            "description_tooltip": null,
            "layout": "IPY_MODEL_bb92d348fec64d5aa172c7ba12c96566",
            "placeholder": "​",
            "style": "IPY_MODEL_8e2152315ace46b59882431f7cb1407e",
            "value": "0.011 MB of 0.011 MB uploaded\r"
          }
        },
        "7d1ed59d9f75470899fda6197f0760de": {
          "model_module": "@jupyter-widgets/controls",
          "model_name": "FloatProgressModel",
          "model_module_version": "1.5.0",
          "state": {
            "_dom_classes": [],
            "_model_module": "@jupyter-widgets/controls",
            "_model_module_version": "1.5.0",
            "_model_name": "FloatProgressModel",
            "_view_count": null,
            "_view_module": "@jupyter-widgets/controls",
            "_view_module_version": "1.5.0",
            "_view_name": "ProgressView",
            "bar_style": "",
            "description": "",
            "description_tooltip": null,
            "layout": "IPY_MODEL_a8bf3b3ecece48efaa30be663d335b27",
            "max": 1,
            "min": 0,
            "orientation": "horizontal",
            "style": "IPY_MODEL_7a182f6bc60a4cdd8a214259a3bbd398",
            "value": 1
          }
        },
        "206a58e6ea8247e0aae6643441b9cee0": {
          "model_module": "@jupyter-widgets/base",
          "model_name": "LayoutModel",
          "model_module_version": "1.2.0",
          "state": {
            "_model_module": "@jupyter-widgets/base",
            "_model_module_version": "1.2.0",
            "_model_name": "LayoutModel",
            "_view_count": null,
            "_view_module": "@jupyter-widgets/base",
            "_view_module_version": "1.2.0",
            "_view_name": "LayoutView",
            "align_content": null,
            "align_items": null,
            "align_self": null,
            "border": null,
            "bottom": null,
            "display": null,
            "flex": null,
            "flex_flow": null,
            "grid_area": null,
            "grid_auto_columns": null,
            "grid_auto_flow": null,
            "grid_auto_rows": null,
            "grid_column": null,
            "grid_gap": null,
            "grid_row": null,
            "grid_template_areas": null,
            "grid_template_columns": null,
            "grid_template_rows": null,
            "height": null,
            "justify_content": null,
            "justify_items": null,
            "left": null,
            "margin": null,
            "max_height": null,
            "max_width": null,
            "min_height": null,
            "min_width": null,
            "object_fit": null,
            "object_position": null,
            "order": null,
            "overflow": null,
            "overflow_x": null,
            "overflow_y": null,
            "padding": null,
            "right": null,
            "top": null,
            "visibility": null,
            "width": null
          }
        },
        "bb92d348fec64d5aa172c7ba12c96566": {
          "model_module": "@jupyter-widgets/base",
          "model_name": "LayoutModel",
          "model_module_version": "1.2.0",
          "state": {
            "_model_module": "@jupyter-widgets/base",
            "_model_module_version": "1.2.0",
            "_model_name": "LayoutModel",
            "_view_count": null,
            "_view_module": "@jupyter-widgets/base",
            "_view_module_version": "1.2.0",
            "_view_name": "LayoutView",
            "align_content": null,
            "align_items": null,
            "align_self": null,
            "border": null,
            "bottom": null,
            "display": null,
            "flex": null,
            "flex_flow": null,
            "grid_area": null,
            "grid_auto_columns": null,
            "grid_auto_flow": null,
            "grid_auto_rows": null,
            "grid_column": null,
            "grid_gap": null,
            "grid_row": null,
            "grid_template_areas": null,
            "grid_template_columns": null,
            "grid_template_rows": null,
            "height": null,
            "justify_content": null,
            "justify_items": null,
            "left": null,
            "margin": null,
            "max_height": null,
            "max_width": null,
            "min_height": null,
            "min_width": null,
            "object_fit": null,
            "object_position": null,
            "order": null,
            "overflow": null,
            "overflow_x": null,
            "overflow_y": null,
            "padding": null,
            "right": null,
            "top": null,
            "visibility": null,
            "width": null
          }
        },
        "8e2152315ace46b59882431f7cb1407e": {
          "model_module": "@jupyter-widgets/controls",
          "model_name": "DescriptionStyleModel",
          "model_module_version": "1.5.0",
          "state": {
            "_model_module": "@jupyter-widgets/controls",
            "_model_module_version": "1.5.0",
            "_model_name": "DescriptionStyleModel",
            "_view_count": null,
            "_view_module": "@jupyter-widgets/base",
            "_view_module_version": "1.2.0",
            "_view_name": "StyleView",
            "description_width": ""
          }
        },
        "a8bf3b3ecece48efaa30be663d335b27": {
          "model_module": "@jupyter-widgets/base",
          "model_name": "LayoutModel",
          "model_module_version": "1.2.0",
          "state": {
            "_model_module": "@jupyter-widgets/base",
            "_model_module_version": "1.2.0",
            "_model_name": "LayoutModel",
            "_view_count": null,
            "_view_module": "@jupyter-widgets/base",
            "_view_module_version": "1.2.0",
            "_view_name": "LayoutView",
            "align_content": null,
            "align_items": null,
            "align_self": null,
            "border": null,
            "bottom": null,
            "display": null,
            "flex": null,
            "flex_flow": null,
            "grid_area": null,
            "grid_auto_columns": null,
            "grid_auto_flow": null,
            "grid_auto_rows": null,
            "grid_column": null,
            "grid_gap": null,
            "grid_row": null,
            "grid_template_areas": null,
            "grid_template_columns": null,
            "grid_template_rows": null,
            "height": null,
            "justify_content": null,
            "justify_items": null,
            "left": null,
            "margin": null,
            "max_height": null,
            "max_width": null,
            "min_height": null,
            "min_width": null,
            "object_fit": null,
            "object_position": null,
            "order": null,
            "overflow": null,
            "overflow_x": null,
            "overflow_y": null,
            "padding": null,
            "right": null,
            "top": null,
            "visibility": null,
            "width": null
          }
        },
        "7a182f6bc60a4cdd8a214259a3bbd398": {
          "model_module": "@jupyter-widgets/controls",
          "model_name": "ProgressStyleModel",
          "model_module_version": "1.5.0",
          "state": {
            "_model_module": "@jupyter-widgets/controls",
            "_model_module_version": "1.5.0",
            "_model_name": "ProgressStyleModel",
            "_view_count": null,
            "_view_module": "@jupyter-widgets/base",
            "_view_module_version": "1.2.0",
            "_view_name": "StyleView",
            "bar_color": null,
            "description_width": ""
          }
        },
        "3c25d0dce1fa41318e6f7e4b765d8a30": {
          "model_module": "@jupyter-widgets/controls",
          "model_name": "VBoxModel",
          "model_module_version": "1.5.0",
          "state": {
            "_dom_classes": [],
            "_model_module": "@jupyter-widgets/controls",
            "_model_module_version": "1.5.0",
            "_model_name": "VBoxModel",
            "_view_count": null,
            "_view_module": "@jupyter-widgets/controls",
            "_view_module_version": "1.5.0",
            "_view_name": "VBoxView",
            "box_style": "",
            "children": [
              "IPY_MODEL_0c6d3dfe4bd6472d97a87c88d522999a",
              "IPY_MODEL_f3ebe746be9645b6860322dfb7a31f47"
            ],
            "layout": "IPY_MODEL_0be07d6fe1db42cca32a8a9c2db996e5"
          }
        },
        "0c6d3dfe4bd6472d97a87c88d522999a": {
          "model_module": "@jupyter-widgets/controls",
          "model_name": "LabelModel",
          "model_module_version": "1.5.0",
          "state": {
            "_dom_classes": [],
            "_model_module": "@jupyter-widgets/controls",
            "_model_module_version": "1.5.0",
            "_model_name": "LabelModel",
            "_view_count": null,
            "_view_module": "@jupyter-widgets/controls",
            "_view_module_version": "1.5.0",
            "_view_name": "LabelView",
            "description": "",
            "description_tooltip": null,
            "layout": "IPY_MODEL_0970cb43bd534cd88352c1bb5ce6f31c",
            "placeholder": "​",
            "style": "IPY_MODEL_fb227e05e5de406d80fae39b1b7ead1e",
            "value": "0.012 MB of 0.012 MB uploaded\r"
          }
        },
        "f3ebe746be9645b6860322dfb7a31f47": {
          "model_module": "@jupyter-widgets/controls",
          "model_name": "FloatProgressModel",
          "model_module_version": "1.5.0",
          "state": {
            "_dom_classes": [],
            "_model_module": "@jupyter-widgets/controls",
            "_model_module_version": "1.5.0",
            "_model_name": "FloatProgressModel",
            "_view_count": null,
            "_view_module": "@jupyter-widgets/controls",
            "_view_module_version": "1.5.0",
            "_view_name": "ProgressView",
            "bar_style": "",
            "description": "",
            "description_tooltip": null,
            "layout": "IPY_MODEL_ebd8f2ccc74048c288b4916191b4e5d9",
            "max": 1,
            "min": 0,
            "orientation": "horizontal",
            "style": "IPY_MODEL_2a431beb1355401cb876dcc0684ce111",
            "value": 1
          }
        },
        "0be07d6fe1db42cca32a8a9c2db996e5": {
          "model_module": "@jupyter-widgets/base",
          "model_name": "LayoutModel",
          "model_module_version": "1.2.0",
          "state": {
            "_model_module": "@jupyter-widgets/base",
            "_model_module_version": "1.2.0",
            "_model_name": "LayoutModel",
            "_view_count": null,
            "_view_module": "@jupyter-widgets/base",
            "_view_module_version": "1.2.0",
            "_view_name": "LayoutView",
            "align_content": null,
            "align_items": null,
            "align_self": null,
            "border": null,
            "bottom": null,
            "display": null,
            "flex": null,
            "flex_flow": null,
            "grid_area": null,
            "grid_auto_columns": null,
            "grid_auto_flow": null,
            "grid_auto_rows": null,
            "grid_column": null,
            "grid_gap": null,
            "grid_row": null,
            "grid_template_areas": null,
            "grid_template_columns": null,
            "grid_template_rows": null,
            "height": null,
            "justify_content": null,
            "justify_items": null,
            "left": null,
            "margin": null,
            "max_height": null,
            "max_width": null,
            "min_height": null,
            "min_width": null,
            "object_fit": null,
            "object_position": null,
            "order": null,
            "overflow": null,
            "overflow_x": null,
            "overflow_y": null,
            "padding": null,
            "right": null,
            "top": null,
            "visibility": null,
            "width": null
          }
        },
        "0970cb43bd534cd88352c1bb5ce6f31c": {
          "model_module": "@jupyter-widgets/base",
          "model_name": "LayoutModel",
          "model_module_version": "1.2.0",
          "state": {
            "_model_module": "@jupyter-widgets/base",
            "_model_module_version": "1.2.0",
            "_model_name": "LayoutModel",
            "_view_count": null,
            "_view_module": "@jupyter-widgets/base",
            "_view_module_version": "1.2.0",
            "_view_name": "LayoutView",
            "align_content": null,
            "align_items": null,
            "align_self": null,
            "border": null,
            "bottom": null,
            "display": null,
            "flex": null,
            "flex_flow": null,
            "grid_area": null,
            "grid_auto_columns": null,
            "grid_auto_flow": null,
            "grid_auto_rows": null,
            "grid_column": null,
            "grid_gap": null,
            "grid_row": null,
            "grid_template_areas": null,
            "grid_template_columns": null,
            "grid_template_rows": null,
            "height": null,
            "justify_content": null,
            "justify_items": null,
            "left": null,
            "margin": null,
            "max_height": null,
            "max_width": null,
            "min_height": null,
            "min_width": null,
            "object_fit": null,
            "object_position": null,
            "order": null,
            "overflow": null,
            "overflow_x": null,
            "overflow_y": null,
            "padding": null,
            "right": null,
            "top": null,
            "visibility": null,
            "width": null
          }
        },
        "fb227e05e5de406d80fae39b1b7ead1e": {
          "model_module": "@jupyter-widgets/controls",
          "model_name": "DescriptionStyleModel",
          "model_module_version": "1.5.0",
          "state": {
            "_model_module": "@jupyter-widgets/controls",
            "_model_module_version": "1.5.0",
            "_model_name": "DescriptionStyleModel",
            "_view_count": null,
            "_view_module": "@jupyter-widgets/base",
            "_view_module_version": "1.2.0",
            "_view_name": "StyleView",
            "description_width": ""
          }
        },
        "ebd8f2ccc74048c288b4916191b4e5d9": {
          "model_module": "@jupyter-widgets/base",
          "model_name": "LayoutModel",
          "model_module_version": "1.2.0",
          "state": {
            "_model_module": "@jupyter-widgets/base",
            "_model_module_version": "1.2.0",
            "_model_name": "LayoutModel",
            "_view_count": null,
            "_view_module": "@jupyter-widgets/base",
            "_view_module_version": "1.2.0",
            "_view_name": "LayoutView",
            "align_content": null,
            "align_items": null,
            "align_self": null,
            "border": null,
            "bottom": null,
            "display": null,
            "flex": null,
            "flex_flow": null,
            "grid_area": null,
            "grid_auto_columns": null,
            "grid_auto_flow": null,
            "grid_auto_rows": null,
            "grid_column": null,
            "grid_gap": null,
            "grid_row": null,
            "grid_template_areas": null,
            "grid_template_columns": null,
            "grid_template_rows": null,
            "height": null,
            "justify_content": null,
            "justify_items": null,
            "left": null,
            "margin": null,
            "max_height": null,
            "max_width": null,
            "min_height": null,
            "min_width": null,
            "object_fit": null,
            "object_position": null,
            "order": null,
            "overflow": null,
            "overflow_x": null,
            "overflow_y": null,
            "padding": null,
            "right": null,
            "top": null,
            "visibility": null,
            "width": null
          }
        },
        "2a431beb1355401cb876dcc0684ce111": {
          "model_module": "@jupyter-widgets/controls",
          "model_name": "ProgressStyleModel",
          "model_module_version": "1.5.0",
          "state": {
            "_model_module": "@jupyter-widgets/controls",
            "_model_module_version": "1.5.0",
            "_model_name": "ProgressStyleModel",
            "_view_count": null,
            "_view_module": "@jupyter-widgets/base",
            "_view_module_version": "1.2.0",
            "_view_name": "StyleView",
            "bar_color": null,
            "description_width": ""
          }
        },
        "a453e0cfc4e64a67b07535e3b5e96197": {
          "model_module": "@jupyter-widgets/controls",
          "model_name": "VBoxModel",
          "model_module_version": "1.5.0",
          "state": {
            "_dom_classes": [],
            "_model_module": "@jupyter-widgets/controls",
            "_model_module_version": "1.5.0",
            "_model_name": "VBoxModel",
            "_view_count": null,
            "_view_module": "@jupyter-widgets/controls",
            "_view_module_version": "1.5.0",
            "_view_name": "VBoxView",
            "box_style": "",
            "children": [
              "IPY_MODEL_be84a354d92c461e9aadc54c6af47104",
              "IPY_MODEL_906eee82bf584dae9c175d57d29f9c25"
            ],
            "layout": "IPY_MODEL_39d985fee7f74606a69a8d07a5f57897"
          }
        },
        "be84a354d92c461e9aadc54c6af47104": {
          "model_module": "@jupyter-widgets/controls",
          "model_name": "LabelModel",
          "model_module_version": "1.5.0",
          "state": {
            "_dom_classes": [],
            "_model_module": "@jupyter-widgets/controls",
            "_model_module_version": "1.5.0",
            "_model_name": "LabelModel",
            "_view_count": null,
            "_view_module": "@jupyter-widgets/controls",
            "_view_module_version": "1.5.0",
            "_view_name": "LabelView",
            "description": "",
            "description_tooltip": null,
            "layout": "IPY_MODEL_26022903b9554c118d757eca8cf08219",
            "placeholder": "​",
            "style": "IPY_MODEL_8d119182716e4e07b071e65fe4faf534",
            "value": "Waiting for wandb.init()...\r"
          }
        },
        "906eee82bf584dae9c175d57d29f9c25": {
          "model_module": "@jupyter-widgets/controls",
          "model_name": "FloatProgressModel",
          "model_module_version": "1.5.0",
          "state": {
            "_dom_classes": [],
            "_model_module": "@jupyter-widgets/controls",
            "_model_module_version": "1.5.0",
            "_model_name": "FloatProgressModel",
            "_view_count": null,
            "_view_module": "@jupyter-widgets/controls",
            "_view_module_version": "1.5.0",
            "_view_name": "ProgressView",
            "bar_style": "",
            "description": "",
            "description_tooltip": null,
            "layout": "IPY_MODEL_06615607f2e74591ad1290f5fdb50c26",
            "max": 1,
            "min": 0,
            "orientation": "horizontal",
            "style": "IPY_MODEL_137d56e23cd44831be49b9244f3aa4d8",
            "value": 1
          }
        },
        "39d985fee7f74606a69a8d07a5f57897": {
          "model_module": "@jupyter-widgets/base",
          "model_name": "LayoutModel",
          "model_module_version": "1.2.0",
          "state": {
            "_model_module": "@jupyter-widgets/base",
            "_model_module_version": "1.2.0",
            "_model_name": "LayoutModel",
            "_view_count": null,
            "_view_module": "@jupyter-widgets/base",
            "_view_module_version": "1.2.0",
            "_view_name": "LayoutView",
            "align_content": null,
            "align_items": null,
            "align_self": null,
            "border": null,
            "bottom": null,
            "display": null,
            "flex": null,
            "flex_flow": null,
            "grid_area": null,
            "grid_auto_columns": null,
            "grid_auto_flow": null,
            "grid_auto_rows": null,
            "grid_column": null,
            "grid_gap": null,
            "grid_row": null,
            "grid_template_areas": null,
            "grid_template_columns": null,
            "grid_template_rows": null,
            "height": null,
            "justify_content": null,
            "justify_items": null,
            "left": null,
            "margin": null,
            "max_height": null,
            "max_width": null,
            "min_height": null,
            "min_width": null,
            "object_fit": null,
            "object_position": null,
            "order": null,
            "overflow": null,
            "overflow_x": null,
            "overflow_y": null,
            "padding": null,
            "right": null,
            "top": null,
            "visibility": null,
            "width": null
          }
        },
        "26022903b9554c118d757eca8cf08219": {
          "model_module": "@jupyter-widgets/base",
          "model_name": "LayoutModel",
          "model_module_version": "1.2.0",
          "state": {
            "_model_module": "@jupyter-widgets/base",
            "_model_module_version": "1.2.0",
            "_model_name": "LayoutModel",
            "_view_count": null,
            "_view_module": "@jupyter-widgets/base",
            "_view_module_version": "1.2.0",
            "_view_name": "LayoutView",
            "align_content": null,
            "align_items": null,
            "align_self": null,
            "border": null,
            "bottom": null,
            "display": null,
            "flex": null,
            "flex_flow": null,
            "grid_area": null,
            "grid_auto_columns": null,
            "grid_auto_flow": null,
            "grid_auto_rows": null,
            "grid_column": null,
            "grid_gap": null,
            "grid_row": null,
            "grid_template_areas": null,
            "grid_template_columns": null,
            "grid_template_rows": null,
            "height": null,
            "justify_content": null,
            "justify_items": null,
            "left": null,
            "margin": null,
            "max_height": null,
            "max_width": null,
            "min_height": null,
            "min_width": null,
            "object_fit": null,
            "object_position": null,
            "order": null,
            "overflow": null,
            "overflow_x": null,
            "overflow_y": null,
            "padding": null,
            "right": null,
            "top": null,
            "visibility": null,
            "width": null
          }
        },
        "8d119182716e4e07b071e65fe4faf534": {
          "model_module": "@jupyter-widgets/controls",
          "model_name": "DescriptionStyleModel",
          "model_module_version": "1.5.0",
          "state": {
            "_model_module": "@jupyter-widgets/controls",
            "_model_module_version": "1.5.0",
            "_model_name": "DescriptionStyleModel",
            "_view_count": null,
            "_view_module": "@jupyter-widgets/base",
            "_view_module_version": "1.2.0",
            "_view_name": "StyleView",
            "description_width": ""
          }
        },
        "06615607f2e74591ad1290f5fdb50c26": {
          "model_module": "@jupyter-widgets/base",
          "model_name": "LayoutModel",
          "model_module_version": "1.2.0",
          "state": {
            "_model_module": "@jupyter-widgets/base",
            "_model_module_version": "1.2.0",
            "_model_name": "LayoutModel",
            "_view_count": null,
            "_view_module": "@jupyter-widgets/base",
            "_view_module_version": "1.2.0",
            "_view_name": "LayoutView",
            "align_content": null,
            "align_items": null,
            "align_self": null,
            "border": null,
            "bottom": null,
            "display": null,
            "flex": null,
            "flex_flow": null,
            "grid_area": null,
            "grid_auto_columns": null,
            "grid_auto_flow": null,
            "grid_auto_rows": null,
            "grid_column": null,
            "grid_gap": null,
            "grid_row": null,
            "grid_template_areas": null,
            "grid_template_columns": null,
            "grid_template_rows": null,
            "height": null,
            "justify_content": null,
            "justify_items": null,
            "left": null,
            "margin": null,
            "max_height": null,
            "max_width": null,
            "min_height": null,
            "min_width": null,
            "object_fit": null,
            "object_position": null,
            "order": null,
            "overflow": null,
            "overflow_x": null,
            "overflow_y": null,
            "padding": null,
            "right": null,
            "top": null,
            "visibility": null,
            "width": null
          }
        },
        "137d56e23cd44831be49b9244f3aa4d8": {
          "model_module": "@jupyter-widgets/controls",
          "model_name": "ProgressStyleModel",
          "model_module_version": "1.5.0",
          "state": {
            "_model_module": "@jupyter-widgets/controls",
            "_model_module_version": "1.5.0",
            "_model_name": "ProgressStyleModel",
            "_view_count": null,
            "_view_module": "@jupyter-widgets/base",
            "_view_module_version": "1.2.0",
            "_view_name": "StyleView",
            "bar_color": null,
            "description_width": ""
          }
        },
        "36e62e2a1cbc4bee99d8bf78c3af1136": {
          "model_module": "@jupyter-widgets/controls",
          "model_name": "VBoxModel",
          "model_module_version": "1.5.0",
          "state": {
            "_dom_classes": [],
            "_model_module": "@jupyter-widgets/controls",
            "_model_module_version": "1.5.0",
            "_model_name": "VBoxModel",
            "_view_count": null,
            "_view_module": "@jupyter-widgets/controls",
            "_view_module_version": "1.5.0",
            "_view_name": "VBoxView",
            "box_style": "",
            "children": [
              "IPY_MODEL_886ac4a116844bb299cf27c6f28dbbf4",
              "IPY_MODEL_34e584b2549748b487366fb845e1439c"
            ],
            "layout": "IPY_MODEL_9cc6455911c647249a5d1c00cf95bebe"
          }
        },
        "886ac4a116844bb299cf27c6f28dbbf4": {
          "model_module": "@jupyter-widgets/controls",
          "model_name": "LabelModel",
          "model_module_version": "1.5.0",
          "state": {
            "_dom_classes": [],
            "_model_module": "@jupyter-widgets/controls",
            "_model_module_version": "1.5.0",
            "_model_name": "LabelModel",
            "_view_count": null,
            "_view_module": "@jupyter-widgets/controls",
            "_view_module_version": "1.5.0",
            "_view_name": "LabelView",
            "description": "",
            "description_tooltip": null,
            "layout": "IPY_MODEL_122b2e969321475f8637e0502e25f6c6",
            "placeholder": "​",
            "style": "IPY_MODEL_4e6d8b2117d34a34a1dabbc4ebb82cda",
            "value": "0.011 MB of 0.011 MB uploaded\r"
          }
        },
        "34e584b2549748b487366fb845e1439c": {
          "model_module": "@jupyter-widgets/controls",
          "model_name": "FloatProgressModel",
          "model_module_version": "1.5.0",
          "state": {
            "_dom_classes": [],
            "_model_module": "@jupyter-widgets/controls",
            "_model_module_version": "1.5.0",
            "_model_name": "FloatProgressModel",
            "_view_count": null,
            "_view_module": "@jupyter-widgets/controls",
            "_view_module_version": "1.5.0",
            "_view_name": "ProgressView",
            "bar_style": "",
            "description": "",
            "description_tooltip": null,
            "layout": "IPY_MODEL_144eb3f67a6f4d639fcc32b4cc721965",
            "max": 1,
            "min": 0,
            "orientation": "horizontal",
            "style": "IPY_MODEL_c4e647ca822d409ea26988bf1f5dfcb4",
            "value": 1
          }
        },
        "9cc6455911c647249a5d1c00cf95bebe": {
          "model_module": "@jupyter-widgets/base",
          "model_name": "LayoutModel",
          "model_module_version": "1.2.0",
          "state": {
            "_model_module": "@jupyter-widgets/base",
            "_model_module_version": "1.2.0",
            "_model_name": "LayoutModel",
            "_view_count": null,
            "_view_module": "@jupyter-widgets/base",
            "_view_module_version": "1.2.0",
            "_view_name": "LayoutView",
            "align_content": null,
            "align_items": null,
            "align_self": null,
            "border": null,
            "bottom": null,
            "display": null,
            "flex": null,
            "flex_flow": null,
            "grid_area": null,
            "grid_auto_columns": null,
            "grid_auto_flow": null,
            "grid_auto_rows": null,
            "grid_column": null,
            "grid_gap": null,
            "grid_row": null,
            "grid_template_areas": null,
            "grid_template_columns": null,
            "grid_template_rows": null,
            "height": null,
            "justify_content": null,
            "justify_items": null,
            "left": null,
            "margin": null,
            "max_height": null,
            "max_width": null,
            "min_height": null,
            "min_width": null,
            "object_fit": null,
            "object_position": null,
            "order": null,
            "overflow": null,
            "overflow_x": null,
            "overflow_y": null,
            "padding": null,
            "right": null,
            "top": null,
            "visibility": null,
            "width": null
          }
        },
        "122b2e969321475f8637e0502e25f6c6": {
          "model_module": "@jupyter-widgets/base",
          "model_name": "LayoutModel",
          "model_module_version": "1.2.0",
          "state": {
            "_model_module": "@jupyter-widgets/base",
            "_model_module_version": "1.2.0",
            "_model_name": "LayoutModel",
            "_view_count": null,
            "_view_module": "@jupyter-widgets/base",
            "_view_module_version": "1.2.0",
            "_view_name": "LayoutView",
            "align_content": null,
            "align_items": null,
            "align_self": null,
            "border": null,
            "bottom": null,
            "display": null,
            "flex": null,
            "flex_flow": null,
            "grid_area": null,
            "grid_auto_columns": null,
            "grid_auto_flow": null,
            "grid_auto_rows": null,
            "grid_column": null,
            "grid_gap": null,
            "grid_row": null,
            "grid_template_areas": null,
            "grid_template_columns": null,
            "grid_template_rows": null,
            "height": null,
            "justify_content": null,
            "justify_items": null,
            "left": null,
            "margin": null,
            "max_height": null,
            "max_width": null,
            "min_height": null,
            "min_width": null,
            "object_fit": null,
            "object_position": null,
            "order": null,
            "overflow": null,
            "overflow_x": null,
            "overflow_y": null,
            "padding": null,
            "right": null,
            "top": null,
            "visibility": null,
            "width": null
          }
        },
        "4e6d8b2117d34a34a1dabbc4ebb82cda": {
          "model_module": "@jupyter-widgets/controls",
          "model_name": "DescriptionStyleModel",
          "model_module_version": "1.5.0",
          "state": {
            "_model_module": "@jupyter-widgets/controls",
            "_model_module_version": "1.5.0",
            "_model_name": "DescriptionStyleModel",
            "_view_count": null,
            "_view_module": "@jupyter-widgets/base",
            "_view_module_version": "1.2.0",
            "_view_name": "StyleView",
            "description_width": ""
          }
        },
        "144eb3f67a6f4d639fcc32b4cc721965": {
          "model_module": "@jupyter-widgets/base",
          "model_name": "LayoutModel",
          "model_module_version": "1.2.0",
          "state": {
            "_model_module": "@jupyter-widgets/base",
            "_model_module_version": "1.2.0",
            "_model_name": "LayoutModel",
            "_view_count": null,
            "_view_module": "@jupyter-widgets/base",
            "_view_module_version": "1.2.0",
            "_view_name": "LayoutView",
            "align_content": null,
            "align_items": null,
            "align_self": null,
            "border": null,
            "bottom": null,
            "display": null,
            "flex": null,
            "flex_flow": null,
            "grid_area": null,
            "grid_auto_columns": null,
            "grid_auto_flow": null,
            "grid_auto_rows": null,
            "grid_column": null,
            "grid_gap": null,
            "grid_row": null,
            "grid_template_areas": null,
            "grid_template_columns": null,
            "grid_template_rows": null,
            "height": null,
            "justify_content": null,
            "justify_items": null,
            "left": null,
            "margin": null,
            "max_height": null,
            "max_width": null,
            "min_height": null,
            "min_width": null,
            "object_fit": null,
            "object_position": null,
            "order": null,
            "overflow": null,
            "overflow_x": null,
            "overflow_y": null,
            "padding": null,
            "right": null,
            "top": null,
            "visibility": null,
            "width": null
          }
        },
        "c4e647ca822d409ea26988bf1f5dfcb4": {
          "model_module": "@jupyter-widgets/controls",
          "model_name": "ProgressStyleModel",
          "model_module_version": "1.5.0",
          "state": {
            "_model_module": "@jupyter-widgets/controls",
            "_model_module_version": "1.5.0",
            "_model_name": "ProgressStyleModel",
            "_view_count": null,
            "_view_module": "@jupyter-widgets/base",
            "_view_module_version": "1.2.0",
            "_view_name": "StyleView",
            "bar_color": null,
            "description_width": ""
          }
        },
        "317ef9da3ffd4259baf143cdf478842f": {
          "model_module": "@jupyter-widgets/controls",
          "model_name": "VBoxModel",
          "model_module_version": "1.5.0",
          "state": {
            "_dom_classes": [],
            "_model_module": "@jupyter-widgets/controls",
            "_model_module_version": "1.5.0",
            "_model_name": "VBoxModel",
            "_view_count": null,
            "_view_module": "@jupyter-widgets/controls",
            "_view_module_version": "1.5.0",
            "_view_name": "VBoxView",
            "box_style": "",
            "children": [
              "IPY_MODEL_c9a3e64ef42e4fd1a7ef45a1961c3469",
              "IPY_MODEL_bad45e3458824c5c91a4be3f37dff6ac"
            ],
            "layout": "IPY_MODEL_1f957df4ec154edd8c5277aeef41ee60"
          }
        },
        "c9a3e64ef42e4fd1a7ef45a1961c3469": {
          "model_module": "@jupyter-widgets/controls",
          "model_name": "LabelModel",
          "model_module_version": "1.5.0",
          "state": {
            "_dom_classes": [],
            "_model_module": "@jupyter-widgets/controls",
            "_model_module_version": "1.5.0",
            "_model_name": "LabelModel",
            "_view_count": null,
            "_view_module": "@jupyter-widgets/controls",
            "_view_module_version": "1.5.0",
            "_view_name": "LabelView",
            "description": "",
            "description_tooltip": null,
            "layout": "IPY_MODEL_800ce4c870994dd094f5551117f8b1d4",
            "placeholder": "​",
            "style": "IPY_MODEL_923a29eeccb24bddbf4c9926be009f0d",
            "value": "0.012 MB of 0.012 MB uploaded\r"
          }
        },
        "bad45e3458824c5c91a4be3f37dff6ac": {
          "model_module": "@jupyter-widgets/controls",
          "model_name": "FloatProgressModel",
          "model_module_version": "1.5.0",
          "state": {
            "_dom_classes": [],
            "_model_module": "@jupyter-widgets/controls",
            "_model_module_version": "1.5.0",
            "_model_name": "FloatProgressModel",
            "_view_count": null,
            "_view_module": "@jupyter-widgets/controls",
            "_view_module_version": "1.5.0",
            "_view_name": "ProgressView",
            "bar_style": "",
            "description": "",
            "description_tooltip": null,
            "layout": "IPY_MODEL_808894560eb242529c77c769689342d2",
            "max": 1,
            "min": 0,
            "orientation": "horizontal",
            "style": "IPY_MODEL_95e7e14d8eae4749a789f36fe2e1ae7a",
            "value": 1
          }
        },
        "1f957df4ec154edd8c5277aeef41ee60": {
          "model_module": "@jupyter-widgets/base",
          "model_name": "LayoutModel",
          "model_module_version": "1.2.0",
          "state": {
            "_model_module": "@jupyter-widgets/base",
            "_model_module_version": "1.2.0",
            "_model_name": "LayoutModel",
            "_view_count": null,
            "_view_module": "@jupyter-widgets/base",
            "_view_module_version": "1.2.0",
            "_view_name": "LayoutView",
            "align_content": null,
            "align_items": null,
            "align_self": null,
            "border": null,
            "bottom": null,
            "display": null,
            "flex": null,
            "flex_flow": null,
            "grid_area": null,
            "grid_auto_columns": null,
            "grid_auto_flow": null,
            "grid_auto_rows": null,
            "grid_column": null,
            "grid_gap": null,
            "grid_row": null,
            "grid_template_areas": null,
            "grid_template_columns": null,
            "grid_template_rows": null,
            "height": null,
            "justify_content": null,
            "justify_items": null,
            "left": null,
            "margin": null,
            "max_height": null,
            "max_width": null,
            "min_height": null,
            "min_width": null,
            "object_fit": null,
            "object_position": null,
            "order": null,
            "overflow": null,
            "overflow_x": null,
            "overflow_y": null,
            "padding": null,
            "right": null,
            "top": null,
            "visibility": null,
            "width": null
          }
        },
        "800ce4c870994dd094f5551117f8b1d4": {
          "model_module": "@jupyter-widgets/base",
          "model_name": "LayoutModel",
          "model_module_version": "1.2.0",
          "state": {
            "_model_module": "@jupyter-widgets/base",
            "_model_module_version": "1.2.0",
            "_model_name": "LayoutModel",
            "_view_count": null,
            "_view_module": "@jupyter-widgets/base",
            "_view_module_version": "1.2.0",
            "_view_name": "LayoutView",
            "align_content": null,
            "align_items": null,
            "align_self": null,
            "border": null,
            "bottom": null,
            "display": null,
            "flex": null,
            "flex_flow": null,
            "grid_area": null,
            "grid_auto_columns": null,
            "grid_auto_flow": null,
            "grid_auto_rows": null,
            "grid_column": null,
            "grid_gap": null,
            "grid_row": null,
            "grid_template_areas": null,
            "grid_template_columns": null,
            "grid_template_rows": null,
            "height": null,
            "justify_content": null,
            "justify_items": null,
            "left": null,
            "margin": null,
            "max_height": null,
            "max_width": null,
            "min_height": null,
            "min_width": null,
            "object_fit": null,
            "object_position": null,
            "order": null,
            "overflow": null,
            "overflow_x": null,
            "overflow_y": null,
            "padding": null,
            "right": null,
            "top": null,
            "visibility": null,
            "width": null
          }
        },
        "923a29eeccb24bddbf4c9926be009f0d": {
          "model_module": "@jupyter-widgets/controls",
          "model_name": "DescriptionStyleModel",
          "model_module_version": "1.5.0",
          "state": {
            "_model_module": "@jupyter-widgets/controls",
            "_model_module_version": "1.5.0",
            "_model_name": "DescriptionStyleModel",
            "_view_count": null,
            "_view_module": "@jupyter-widgets/base",
            "_view_module_version": "1.2.0",
            "_view_name": "StyleView",
            "description_width": ""
          }
        },
        "808894560eb242529c77c769689342d2": {
          "model_module": "@jupyter-widgets/base",
          "model_name": "LayoutModel",
          "model_module_version": "1.2.0",
          "state": {
            "_model_module": "@jupyter-widgets/base",
            "_model_module_version": "1.2.0",
            "_model_name": "LayoutModel",
            "_view_count": null,
            "_view_module": "@jupyter-widgets/base",
            "_view_module_version": "1.2.0",
            "_view_name": "LayoutView",
            "align_content": null,
            "align_items": null,
            "align_self": null,
            "border": null,
            "bottom": null,
            "display": null,
            "flex": null,
            "flex_flow": null,
            "grid_area": null,
            "grid_auto_columns": null,
            "grid_auto_flow": null,
            "grid_auto_rows": null,
            "grid_column": null,
            "grid_gap": null,
            "grid_row": null,
            "grid_template_areas": null,
            "grid_template_columns": null,
            "grid_template_rows": null,
            "height": null,
            "justify_content": null,
            "justify_items": null,
            "left": null,
            "margin": null,
            "max_height": null,
            "max_width": null,
            "min_height": null,
            "min_width": null,
            "object_fit": null,
            "object_position": null,
            "order": null,
            "overflow": null,
            "overflow_x": null,
            "overflow_y": null,
            "padding": null,
            "right": null,
            "top": null,
            "visibility": null,
            "width": null
          }
        },
        "95e7e14d8eae4749a789f36fe2e1ae7a": {
          "model_module": "@jupyter-widgets/controls",
          "model_name": "ProgressStyleModel",
          "model_module_version": "1.5.0",
          "state": {
            "_model_module": "@jupyter-widgets/controls",
            "_model_module_version": "1.5.0",
            "_model_name": "ProgressStyleModel",
            "_view_count": null,
            "_view_module": "@jupyter-widgets/base",
            "_view_module_version": "1.2.0",
            "_view_name": "StyleView",
            "bar_color": null,
            "description_width": ""
          }
        },
        "e5cb1bb8fe544693b2702895204015ff": {
          "model_module": "@jupyter-widgets/controls",
          "model_name": "VBoxModel",
          "model_module_version": "1.5.0",
          "state": {
            "_dom_classes": [],
            "_model_module": "@jupyter-widgets/controls",
            "_model_module_version": "1.5.0",
            "_model_name": "VBoxModel",
            "_view_count": null,
            "_view_module": "@jupyter-widgets/controls",
            "_view_module_version": "1.5.0",
            "_view_name": "VBoxView",
            "box_style": "",
            "children": [
              "IPY_MODEL_e55bbe488ca841a284014ce7596f73eb",
              "IPY_MODEL_6fdbf70741e5407f95cbd470ef86d2a2"
            ],
            "layout": "IPY_MODEL_08e5849ff81340c39249d103881e8f49"
          }
        },
        "e55bbe488ca841a284014ce7596f73eb": {
          "model_module": "@jupyter-widgets/controls",
          "model_name": "LabelModel",
          "model_module_version": "1.5.0",
          "state": {
            "_dom_classes": [],
            "_model_module": "@jupyter-widgets/controls",
            "_model_module_version": "1.5.0",
            "_model_name": "LabelModel",
            "_view_count": null,
            "_view_module": "@jupyter-widgets/controls",
            "_view_module_version": "1.5.0",
            "_view_name": "LabelView",
            "description": "",
            "description_tooltip": null,
            "layout": "IPY_MODEL_1d77e3e3a2054be197ee2a2c13b59187",
            "placeholder": "​",
            "style": "IPY_MODEL_6e051c3d82fa4f949b9b418733c8acd5",
            "value": "0.011 MB of 0.011 MB uploaded\r"
          }
        },
        "6fdbf70741e5407f95cbd470ef86d2a2": {
          "model_module": "@jupyter-widgets/controls",
          "model_name": "FloatProgressModel",
          "model_module_version": "1.5.0",
          "state": {
            "_dom_classes": [],
            "_model_module": "@jupyter-widgets/controls",
            "_model_module_version": "1.5.0",
            "_model_name": "FloatProgressModel",
            "_view_count": null,
            "_view_module": "@jupyter-widgets/controls",
            "_view_module_version": "1.5.0",
            "_view_name": "ProgressView",
            "bar_style": "",
            "description": "",
            "description_tooltip": null,
            "layout": "IPY_MODEL_0617dbdec9ca4f5287644350c5460c34",
            "max": 1,
            "min": 0,
            "orientation": "horizontal",
            "style": "IPY_MODEL_5328b3e844f44e788cc2c4ead78db248",
            "value": 1
          }
        },
        "08e5849ff81340c39249d103881e8f49": {
          "model_module": "@jupyter-widgets/base",
          "model_name": "LayoutModel",
          "model_module_version": "1.2.0",
          "state": {
            "_model_module": "@jupyter-widgets/base",
            "_model_module_version": "1.2.0",
            "_model_name": "LayoutModel",
            "_view_count": null,
            "_view_module": "@jupyter-widgets/base",
            "_view_module_version": "1.2.0",
            "_view_name": "LayoutView",
            "align_content": null,
            "align_items": null,
            "align_self": null,
            "border": null,
            "bottom": null,
            "display": null,
            "flex": null,
            "flex_flow": null,
            "grid_area": null,
            "grid_auto_columns": null,
            "grid_auto_flow": null,
            "grid_auto_rows": null,
            "grid_column": null,
            "grid_gap": null,
            "grid_row": null,
            "grid_template_areas": null,
            "grid_template_columns": null,
            "grid_template_rows": null,
            "height": null,
            "justify_content": null,
            "justify_items": null,
            "left": null,
            "margin": null,
            "max_height": null,
            "max_width": null,
            "min_height": null,
            "min_width": null,
            "object_fit": null,
            "object_position": null,
            "order": null,
            "overflow": null,
            "overflow_x": null,
            "overflow_y": null,
            "padding": null,
            "right": null,
            "top": null,
            "visibility": null,
            "width": null
          }
        },
        "1d77e3e3a2054be197ee2a2c13b59187": {
          "model_module": "@jupyter-widgets/base",
          "model_name": "LayoutModel",
          "model_module_version": "1.2.0",
          "state": {
            "_model_module": "@jupyter-widgets/base",
            "_model_module_version": "1.2.0",
            "_model_name": "LayoutModel",
            "_view_count": null,
            "_view_module": "@jupyter-widgets/base",
            "_view_module_version": "1.2.0",
            "_view_name": "LayoutView",
            "align_content": null,
            "align_items": null,
            "align_self": null,
            "border": null,
            "bottom": null,
            "display": null,
            "flex": null,
            "flex_flow": null,
            "grid_area": null,
            "grid_auto_columns": null,
            "grid_auto_flow": null,
            "grid_auto_rows": null,
            "grid_column": null,
            "grid_gap": null,
            "grid_row": null,
            "grid_template_areas": null,
            "grid_template_columns": null,
            "grid_template_rows": null,
            "height": null,
            "justify_content": null,
            "justify_items": null,
            "left": null,
            "margin": null,
            "max_height": null,
            "max_width": null,
            "min_height": null,
            "min_width": null,
            "object_fit": null,
            "object_position": null,
            "order": null,
            "overflow": null,
            "overflow_x": null,
            "overflow_y": null,
            "padding": null,
            "right": null,
            "top": null,
            "visibility": null,
            "width": null
          }
        },
        "6e051c3d82fa4f949b9b418733c8acd5": {
          "model_module": "@jupyter-widgets/controls",
          "model_name": "DescriptionStyleModel",
          "model_module_version": "1.5.0",
          "state": {
            "_model_module": "@jupyter-widgets/controls",
            "_model_module_version": "1.5.0",
            "_model_name": "DescriptionStyleModel",
            "_view_count": null,
            "_view_module": "@jupyter-widgets/base",
            "_view_module_version": "1.2.0",
            "_view_name": "StyleView",
            "description_width": ""
          }
        },
        "0617dbdec9ca4f5287644350c5460c34": {
          "model_module": "@jupyter-widgets/base",
          "model_name": "LayoutModel",
          "model_module_version": "1.2.0",
          "state": {
            "_model_module": "@jupyter-widgets/base",
            "_model_module_version": "1.2.0",
            "_model_name": "LayoutModel",
            "_view_count": null,
            "_view_module": "@jupyter-widgets/base",
            "_view_module_version": "1.2.0",
            "_view_name": "LayoutView",
            "align_content": null,
            "align_items": null,
            "align_self": null,
            "border": null,
            "bottom": null,
            "display": null,
            "flex": null,
            "flex_flow": null,
            "grid_area": null,
            "grid_auto_columns": null,
            "grid_auto_flow": null,
            "grid_auto_rows": null,
            "grid_column": null,
            "grid_gap": null,
            "grid_row": null,
            "grid_template_areas": null,
            "grid_template_columns": null,
            "grid_template_rows": null,
            "height": null,
            "justify_content": null,
            "justify_items": null,
            "left": null,
            "margin": null,
            "max_height": null,
            "max_width": null,
            "min_height": null,
            "min_width": null,
            "object_fit": null,
            "object_position": null,
            "order": null,
            "overflow": null,
            "overflow_x": null,
            "overflow_y": null,
            "padding": null,
            "right": null,
            "top": null,
            "visibility": null,
            "width": null
          }
        },
        "5328b3e844f44e788cc2c4ead78db248": {
          "model_module": "@jupyter-widgets/controls",
          "model_name": "ProgressStyleModel",
          "model_module_version": "1.5.0",
          "state": {
            "_model_module": "@jupyter-widgets/controls",
            "_model_module_version": "1.5.0",
            "_model_name": "ProgressStyleModel",
            "_view_count": null,
            "_view_module": "@jupyter-widgets/base",
            "_view_module_version": "1.2.0",
            "_view_name": "StyleView",
            "bar_color": null,
            "description_width": ""
          }
        }
      }
    }
  },
  "cells": [
    {
      "cell_type": "code",
      "execution_count": null,
      "metadata": {
        "colab": {
          "base_uri": "https://localhost:8080/"
        },
        "id": "6iDZfsf-15KJ",
        "outputId": "dea62d9e-e4ca-49bc-a79a-9e5b9169074d"
      },
      "outputs": [
        {
          "output_type": "stream",
          "name": "stdout",
          "text": [
            "Collecting wandb\n",
            "  Downloading wandb-0.16.4-py3-none-any.whl (2.2 MB)\n",
            "\u001b[2K     \u001b[90m━━━━━━━━━━━━━━━━━━━━━━━━━━━━━━━━━━━━━━━━\u001b[0m \u001b[32m2.2/2.2 MB\u001b[0m \u001b[31m17.3 MB/s\u001b[0m eta \u001b[36m0:00:00\u001b[0m\n",
            "\u001b[?25hRequirement already satisfied: Click!=8.0.0,>=7.1 in /usr/local/lib/python3.10/dist-packages (from wandb) (8.1.7)\n",
            "Collecting GitPython!=3.1.29,>=1.0.0 (from wandb)\n",
            "  Downloading GitPython-3.1.42-py3-none-any.whl (195 kB)\n",
            "\u001b[2K     \u001b[90m━━━━━━━━━━━━━━━━━━━━━━━━━━━━━━━━━━━━━━━━\u001b[0m \u001b[32m195.4/195.4 kB\u001b[0m \u001b[31m26.1 MB/s\u001b[0m eta \u001b[36m0:00:00\u001b[0m\n",
            "\u001b[?25hRequirement already satisfied: requests<3,>=2.0.0 in /usr/local/lib/python3.10/dist-packages (from wandb) (2.31.0)\n",
            "Requirement already satisfied: psutil>=5.0.0 in /usr/local/lib/python3.10/dist-packages (from wandb) (5.9.5)\n",
            "Collecting sentry-sdk>=1.0.0 (from wandb)\n",
            "  Downloading sentry_sdk-1.41.0-py2.py3-none-any.whl (258 kB)\n",
            "\u001b[2K     \u001b[90m━━━━━━━━━━━━━━━━━━━━━━━━━━━━━━━━━━━━━━━━\u001b[0m \u001b[32m258.8/258.8 kB\u001b[0m \u001b[31m30.9 MB/s\u001b[0m eta \u001b[36m0:00:00\u001b[0m\n",
            "\u001b[?25hCollecting docker-pycreds>=0.4.0 (from wandb)\n",
            "  Downloading docker_pycreds-0.4.0-py2.py3-none-any.whl (9.0 kB)\n",
            "Requirement already satisfied: PyYAML in /usr/local/lib/python3.10/dist-packages (from wandb) (6.0.1)\n",
            "Collecting setproctitle (from wandb)\n",
            "  Downloading setproctitle-1.3.3-cp310-cp310-manylinux_2_5_x86_64.manylinux1_x86_64.manylinux_2_17_x86_64.manylinux2014_x86_64.whl (30 kB)\n",
            "Requirement already satisfied: setuptools in /usr/local/lib/python3.10/dist-packages (from wandb) (67.7.2)\n",
            "Requirement already satisfied: appdirs>=1.4.3 in /usr/local/lib/python3.10/dist-packages (from wandb) (1.4.4)\n",
            "Requirement already satisfied: protobuf!=4.21.0,<5,>=3.19.0 in /usr/local/lib/python3.10/dist-packages (from wandb) (3.20.3)\n",
            "Requirement already satisfied: six>=1.4.0 in /usr/local/lib/python3.10/dist-packages (from docker-pycreds>=0.4.0->wandb) (1.16.0)\n",
            "Collecting gitdb<5,>=4.0.1 (from GitPython!=3.1.29,>=1.0.0->wandb)\n",
            "  Downloading gitdb-4.0.11-py3-none-any.whl (62 kB)\n",
            "\u001b[2K     \u001b[90m━━━━━━━━━━━━━━━━━━━━━━━━━━━━━━━━━━━━━━━━\u001b[0m \u001b[32m62.7/62.7 kB\u001b[0m \u001b[31m9.4 MB/s\u001b[0m eta \u001b[36m0:00:00\u001b[0m\n",
            "\u001b[?25hRequirement already satisfied: charset-normalizer<4,>=2 in /usr/local/lib/python3.10/dist-packages (from requests<3,>=2.0.0->wandb) (3.3.2)\n",
            "Requirement already satisfied: idna<4,>=2.5 in /usr/local/lib/python3.10/dist-packages (from requests<3,>=2.0.0->wandb) (3.6)\n",
            "Requirement already satisfied: urllib3<3,>=1.21.1 in /usr/local/lib/python3.10/dist-packages (from requests<3,>=2.0.0->wandb) (2.0.7)\n",
            "Requirement already satisfied: certifi>=2017.4.17 in /usr/local/lib/python3.10/dist-packages (from requests<3,>=2.0.0->wandb) (2024.2.2)\n",
            "Collecting smmap<6,>=3.0.1 (from gitdb<5,>=4.0.1->GitPython!=3.1.29,>=1.0.0->wandb)\n",
            "  Downloading smmap-5.0.1-py3-none-any.whl (24 kB)\n",
            "Installing collected packages: smmap, setproctitle, sentry-sdk, docker-pycreds, gitdb, GitPython, wandb\n",
            "Successfully installed GitPython-3.1.42 docker-pycreds-0.4.0 gitdb-4.0.11 sentry-sdk-1.41.0 setproctitle-1.3.3 smmap-5.0.1 wandb-0.16.4\n"
          ]
        }
      ],
      "source": [
        "!pip install wandb"
      ]
    },
    {
      "cell_type": "code",
      "source": [
        "!wandb login"
      ],
      "metadata": {
        "colab": {
          "base_uri": "https://localhost:8080/"
        },
        "id": "Grssrur62HfI",
        "outputId": "de7ac011-e326-4367-b947-4300bb72e969"
      },
      "execution_count": null,
      "outputs": [
        {
          "output_type": "stream",
          "name": "stdout",
          "text": [
            "\u001b[34m\u001b[1mwandb\u001b[0m: Logging into wandb.ai. (Learn how to deploy a W&B server locally: https://wandb.me/wandb-server)\n",
            "\u001b[34m\u001b[1mwandb\u001b[0m: You can find your API key in your browser here: https://wandb.ai/authorize\n",
            "\u001b[34m\u001b[1mwandb\u001b[0m: Paste an API key from your profile and hit enter, or press ctrl+c to quit: \n",
            "\u001b[34m\u001b[1mwandb\u001b[0m: Appending key for api.wandb.ai to your netrc file: /root/.netrc\n"
          ]
        }
      ]
    },
    {
      "cell_type": "markdown",
      "source": [
        "Question 1"
      ],
      "metadata": {
        "id": "RhYKbNTutVed"
      }
    },
    {
      "cell_type": "code",
      "source": [
        "import wandb\n",
        "import numpy as np\n",
        "import matplotlib.pyplot as plt\n",
        "import math\n",
        "from keras.datasets import fashion_mnist\n",
        "# from keras.utils import to_categorical\n",
        "\n",
        "(x_train,y_train),(x_test,y_test)=fashion_mnist.load_data()\n",
        "output_class=[\"T-shirt/top\",\"Trouser\",\"Pullover\",\"Dress\",\"Coat\",\"Sandal\",\"Shirt\",\"Sneaker\",\"Bag\",\"Ankle boot\"]\n",
        "\n",
        "wandb.init(project=\"Pritam CS6910 - Assignment 1\",name=\"Question 1\")\n",
        "\n",
        "img,getPlot=plt.subplots(2,5,figsize=(20,6))\n",
        "getPlot=getPlot.flatten()\n",
        "output_images=[]\n",
        "for i in range(10):\n",
        "  imgClass=np.argmax(y_train==i)\n",
        "  getPlot[i].imshow(x_train[imgClass],cmap=\"gray\")\n",
        "  getPlot[i].set_title(output_class[i])\n",
        "  img=wandb.Image(x_train[imgClass],caption=[output_class[i]])\n",
        "  output_images.append(img)\n",
        "wandb.log({\"Question 1\":output_images})\n",
        "wandb.finish()"
      ],
      "metadata": {
        "colab": {
          "base_uri": "https://localhost:8080/",
          "height": 640,
          "referenced_widgets": [
            "bd33d26082be4c838563bceffef6176c",
            "0d3ededf26b44383b988148bf77a5c58",
            "722c16d7bcd74e88b4c24aefcb347c2f",
            "4d2a7a2c38cf4dcbb37ef81180a04718",
            "301e3491082e4d1f8892e42cf0a7841d",
            "dc7241c77eec4258b558a178636f434c",
            "c9e114521b434271bfb9e53760dc8537",
            "bba65a9af05d4626bd77c55dcd66ff2a"
          ]
        },
        "id": "Smv6RNQu2Ovr",
        "outputId": "0bb53a23-e9fe-4d70-98f5-330bd430c939"
      },
      "execution_count": null,
      "outputs": [
        {
          "output_type": "display_data",
          "data": {
            "text/plain": [
              "<IPython.core.display.HTML object>"
            ],
            "text/html": [
              "Tracking run with wandb version 0.16.4"
            ]
          },
          "metadata": {}
        },
        {
          "output_type": "display_data",
          "data": {
            "text/plain": [
              "<IPython.core.display.HTML object>"
            ],
            "text/html": [
              "Run data is saved locally in <code>/content/wandb/run-20240310_093215-qmg7jp9f</code>"
            ]
          },
          "metadata": {}
        },
        {
          "output_type": "display_data",
          "data": {
            "text/plain": [
              "<IPython.core.display.HTML object>"
            ],
            "text/html": [
              "Syncing run <strong><a href='https://wandb.ai/cs23m051/Pritam%20CS6910%20-%20Assignment%201/runs/qmg7jp9f' target=\"_blank\">Question 1</a></strong> to <a href='https://wandb.ai/cs23m051/Pritam%20CS6910%20-%20Assignment%201' target=\"_blank\">Weights & Biases</a> (<a href='https://wandb.me/run' target=\"_blank\">docs</a>)<br/>"
            ]
          },
          "metadata": {}
        },
        {
          "output_type": "display_data",
          "data": {
            "text/plain": [
              "<IPython.core.display.HTML object>"
            ],
            "text/html": [
              " View project at <a href='https://wandb.ai/cs23m051/Pritam%20CS6910%20-%20Assignment%201' target=\"_blank\">https://wandb.ai/cs23m051/Pritam%20CS6910%20-%20Assignment%201</a>"
            ]
          },
          "metadata": {}
        },
        {
          "output_type": "display_data",
          "data": {
            "text/plain": [
              "<IPython.core.display.HTML object>"
            ],
            "text/html": [
              " View run at <a href='https://wandb.ai/cs23m051/Pritam%20CS6910%20-%20Assignment%201/runs/qmg7jp9f' target=\"_blank\">https://wandb.ai/cs23m051/Pritam%20CS6910%20-%20Assignment%201/runs/qmg7jp9f</a>"
            ]
          },
          "metadata": {}
        },
        {
          "output_type": "display_data",
          "data": {
            "text/plain": [
              "VBox(children=(Label(value='0.006 MB of 0.016 MB uploaded\\r'), FloatProgress(value=0.38769704871399785, max=1.…"
            ],
            "application/vnd.jupyter.widget-view+json": {
              "version_major": 2,
              "version_minor": 0,
              "model_id": "bd33d26082be4c838563bceffef6176c"
            }
          },
          "metadata": {}
        },
        {
          "output_type": "display_data",
          "data": {
            "text/plain": [
              "<IPython.core.display.HTML object>"
            ],
            "text/html": [
              " View run <strong style=\"color:#cdcd00\">Question 1</strong> at: <a href='https://wandb.ai/cs23m051/Pritam%20CS6910%20-%20Assignment%201/runs/qmg7jp9f' target=\"_blank\">https://wandb.ai/cs23m051/Pritam%20CS6910%20-%20Assignment%201/runs/qmg7jp9f</a><br/>Synced 4 W&B file(s), 10 media file(s), 0 artifact file(s) and 0 other file(s)"
            ]
          },
          "metadata": {}
        },
        {
          "output_type": "display_data",
          "data": {
            "text/plain": [
              "<IPython.core.display.HTML object>"
            ],
            "text/html": [
              "Find logs at: <code>./wandb/run-20240310_093215-qmg7jp9f/logs</code>"
            ]
          },
          "metadata": {}
        },
        {
          "output_type": "display_data",
          "data": {
            "text/plain": [
              "<Figure size 2000x600 with 10 Axes>"
            ],
            "image/png": "[encoded data removed]"
          },
          "metadata": {}
        }
      ]
    },
    {
      "cell_type": "markdown",
      "source": [
        "Question 2"
      ],
      "metadata": {
        "id": "eIc-FbA1Bemx"
      }
    },
    {
      "cell_type": "code",
      "source": [
        "import wandb\n",
        "import numpy as np\n",
        "import matplotlib.pyplot as plt\n",
        "import math\n",
        "from keras.datasets import fashion_mnist\n",
        "# from keras.utils import to_categorical\n",
        "\n",
        "(x_train,y_train),(x_test,y_test)=fashion_mnist.load_data()\n",
        "validation_ratio=0.1\n",
        "num_validation_samples=int(validation_ratio*x_train.shape[0])\n",
        "\n",
        "validation_indices=np.random.choice(x_train.shape[0],num_validation_samples,replace=False)\n",
        "\n",
        "x_val,y_val=x_train[validation_indices],y_train[validation_indices]\n",
        "x_train, y_train=np.delete(x_train,validation_indices,axis=0),np.delete(y_train,validation_indices,axis=0)"
      ],
      "metadata": {
        "id": "f4QbEDVPtZom"
      },
      "execution_count": null,
      "outputs": []
    },
    {
      "cell_type": "code",
      "source": [
        "class Activation:\n",
        "  def sigmoid(x):\n",
        "    clipped_x=np.clip(x,-500,500)\n",
        "    return 1/(1+np.exp(-clipped_x))\n",
        "\n",
        "  def grad_sigmoid(x):\n",
        "    clipped_x=np.clip(x,-500,500)\n",
        "    s=1/(1+np.exp(-clipped_x))\n",
        "    return s*(1-s)\n",
        "\n",
        "  def tanh(x):\n",
        "    return np.tanh(x)\n",
        "\n",
        "  def grad_tanh(x):\n",
        "    return 1-(np.tanh(x)**2)\n",
        "\n",
        "  def relu(x):\n",
        "    return np.maximum(x,0)\n",
        "\n",
        "  def grad_relu(x):\n",
        "    return 1*(x>0)\n",
        "\n",
        "  def softmax(a):\n",
        "    max_a=np.max(a)\n",
        "    exp_a=np.exp(a-max_a)\n",
        "    sum_exp=np.sum(exp_a)\n",
        "    return exp_a/sum_exp\n",
        "    # clipped_a=np.clip(a,-500,500)\n",
        "    # return np.exp(clipped_a)/np.sum(np.exp(clipped_a),axis=0)"
      ],
      "metadata": {
        "id": "70dfB8nrBeNQ"
      },
      "execution_count": null,
      "outputs": []
    },
    {
      "cell_type": "code",
      "source": [
        "class UpdateParameters:\n",
        "  def update_parameters(W,B,eta,del_w,del_b):\n",
        "    for i in range(1,len(del_w)):\n",
        "      W[i]-=eta*del_w[i]\n",
        "    for i in range(1,len(del_b)):\n",
        "      B[i]-=eta*del_b[i]\n",
        "    return W,B\n",
        "\n",
        "  def update_parameters_mgd(W,B,del_w,del_b):\n",
        "    for i in range(1,len(del_w)):\n",
        "      W[i]-=del_w[i]\n",
        "    for i in range(1,len(del_b)):\n",
        "      B[i]-=del_b[i]\n",
        "    return W,B\n",
        "\n",
        "  def update_parameters_rms(W,B,eta,vw,vb,del_w,del_b,eps):\n",
        "    for i in range(1,len(vw)):\n",
        "      updated_eta=eta/(np.sqrt(np.sum(vw[i]))+eps)\n",
        "      W[i]-=updated_eta*del_w[i]\n",
        "    for i in range(1,len(vb)):\n",
        "      updated_eta=eta/(np.sqrt(np.sum(vb[i]))+eps)\n",
        "      B[i]-=updated_eta*del_b[i]\n",
        "    return W,B\n",
        "\n",
        "  def update_parameters_adam(W,B,eta,mw_hat,mb_hat,vw_hat,vb_hat,eps):\n",
        "    for i in range(1,len(vw_hat)):\n",
        "      updated_eta=eta/(np.sqrt(np.sum(vw_hat[i]))+eps)\n",
        "      W[i]-=updated_eta*mw_hat[i]\n",
        "    for i in range(1,len(vb_hat)):\n",
        "      updated_eta=eta/(np.sqrt(np.sum(vb_hat[i]))+eps)\n",
        "      B[i]-=updated_eta*mb_hat[i]\n",
        "    return W,B\n",
        "\n",
        "  def update_parameters_nadam(W,B,eta,mw_hat,mb_hat,vw_hat,vb_hat,beta1,beta2,del_w,del_b,eps):\n",
        "    for i in range(1,len(vw_hat)):\n",
        "      W[i]-=(eta/(np.sqrt(vw_hat[i])+eps))*((beta1*mw_hat[i])+(((1-beta1)*del_w[i])/(1-beta1**(i+1))))\n",
        "    for i in range(1,len(vb_hat)):\n",
        "      B[i]-=(eta/(np.sqrt(vb_hat[i])+eps))*((beta1*mb_hat[i])+(((1-beta1)*del_b[i])/(1-beta1**(i+1))))\n",
        "    return W,B\n",
        "\n",
        "  def normalizeParameters(W,B):\n",
        "    for i in range(1,len(W)):\n",
        "      W[i]=W[i]/np.linalg.norm(W[i])\n",
        "    for i in range(1,len(B)):\n",
        "      B[i]=B[i]/np.linalg.norm(B[i])\n",
        "    return W,B\n"
      ],
      "metadata": {
        "id": "ioOP_wfStxHv"
      },
      "execution_count": null,
      "outputs": []
    },
    {
      "cell_type": "code",
      "source": [
        "class ParamaterInitialization:\n",
        "  def initializeW(initialization,num_of_layers,neurons_in_hl,x_train_shape,y_train_shape):\n",
        "    w=dict()\n",
        "    if(initialization==\"random\"):\n",
        "      w[1]=np.random.randn(neurons_in_hl,x_train_shape).astype(np.float128)\n",
        "      for i in range(2,num_of_layers-1):\n",
        "        w[i]=np.random.randn(neurons_in_hl,neurons_in_hl).astype(np.float128)\n",
        "      w[num_of_layers-1]=np.random.randn(y_train_shape,neurons_in_hl).astype(np.float128)\n",
        "\n",
        "    else:\n",
        "      w[1]=(np.random.randn(neurons_in_hl,x_train_shape)/np.sqrt(x_train_shape)).astype(np.float128)\n",
        "      for i in range(2,num_of_layers-1):\n",
        "        w[i]=(np.random.randn(neurons_in_hl, neurons_in_hl)/np.sqrt(neurons_in_hl)).astype(np.float128)\n",
        "      w[num_of_layers-1]=(np.random.randn(y_train_shape,neurons_in_hl)/np.sqrt(neurons_in_hl)).astype(np.float128)\n",
        "\n",
        "    return w\n",
        "\n",
        "  def initializeB(initialization,num_of_layers,neurons_in_hl,x_train_shape,y_train_shape):\n",
        "    b=dict()\n",
        "    if(initialization==\"random\"):\n",
        "      for i in range(1,num_of_layers-1):\n",
        "        b[i]=np.random.randn(neurons_in_hl).astype(np.float128)\n",
        "      b[num_of_layers-1]=np.random.randn(y_train_shape).astype(np.float128)\n",
        "\n",
        "    else:\n",
        "      for i in range(1,num_of_layers-1):\n",
        "        b[i]=(np.random.randn(neurons_in_hl)/np.sqrt(neurons_in_hl)).astype(np.float128)\n",
        "      b[num_of_layers-1]=(np.random.randn(y_train_shape)/np.sqrt(neurons_in_hl)).astype(np.float128)\n",
        "\n",
        "    return b"
      ],
      "metadata": {
        "id": "AMOyi74u2dN7"
      },
      "execution_count": null,
      "outputs": []
    },
    {
      "cell_type": "code",
      "source": [
        "class FeedForwardNeuralNetwork:\n",
        "\n",
        "  epochs=0\n",
        "  hls=0\n",
        "  neurons_in_hl=0\n",
        "  eta=0.0\n",
        "  activation=0\n",
        "  num_of_layers=0\n",
        "  x_train=np.zeros(784)\n",
        "  y_train=np.zeros(10)\n",
        "  W=dict()\n",
        "  B=dict()\n",
        "\n",
        "  def __init__ (self,x_train1,y_train1,x_val1,y_val1,hls,neurons_in_hl,activation,initialization,epochs,eta):\n",
        "    self.epochs=epochs\n",
        "    self.hls=hls\n",
        "    self.neurons_in_hl=neurons_in_hl\n",
        "    self.eta=eta\n",
        "    self.activation=activation\n",
        "    self.num_of_layers=hls+2\n",
        "    self.initialization=initialization\n",
        "\n",
        "    self.x_train=self.input_flattening(x_train1)\n",
        "    self.y_train=self.one_hot_encoding(y_train1)\n",
        "\n",
        "    self.x_val=self.input_flattening(x_val1)\n",
        "    self.y_val=self.one_hot_encoding(y_val1)\n",
        "\n",
        "    self.W=ParamaterInitialization.initializeW(self.initialization,self.num_of_layers,self.neurons_in_hl,self.x_train.shape[1],self.y_train.shape[1])\n",
        "    self.B=ParamaterInitialization.initializeB(self.initialization,self.num_of_layers,self.neurons_in_hl,self.x_train.shape[1],self.y_train.shape[1])\n",
        "\n",
        "\n",
        "  def one_hot_encoding(self,y):\n",
        "    temp=list()\n",
        "    for i in range(y.shape[0]):\n",
        "      vector=np.zeros(10)\n",
        "      vector[y[i]]=1\n",
        "      temp.append(vector)\n",
        "    return np.array(temp)\n",
        "\n",
        "  def input_flattening(self,x):\n",
        "    return x.reshape(x.shape[0],-1)/255.0\n",
        "\n",
        "  def incerement_grad(self,a,x):\n",
        "    for i in range(1,len(a)):\n",
        "      a[i]+=x[i]\n",
        "    return a\n",
        "\n",
        "  def initGrads(self):\n",
        "    del_w=dict()\n",
        "    del_w[1]=np.zeros((self.neurons_in_hl,self.x_train.shape[1]), dtype=np.float128)\n",
        "    for i in range(2,self.num_of_layers-1):\n",
        "      del_w[i]=np.zeros((self.neurons_in_hl,self.neurons_in_hl), dtype=np.float128)\n",
        "    del_w[self.num_of_layers-1]=np.zeros((self.y_train.shape[1],self.neurons_in_hl), dtype=np.float128)\n",
        "\n",
        "    del_b=dict()\n",
        "    for i in range(1,self.num_of_layers-1):\n",
        "      del_b[i]=np.zeros(self.neurons_in_hl, dtype=np.float128)\n",
        "    del_b[self.num_of_layers-1]=np.zeros(self.y_train.shape[1], dtype=np.float128)\n",
        "\n",
        "    return del_w,del_b\n",
        "\n",
        "\n",
        "  def forward_propagation(self,w,b,x):\n",
        "    h=dict()\n",
        "    a=dict()\n",
        "\n",
        "    h[0]=x\n",
        "\n",
        "    for k in range(1,self.num_of_layers-1):\n",
        "      a[k]=b[k]+np.dot(w[k],h[k-1])\n",
        "      if(self.activation==\"sigmoid\"):\n",
        "        h[k]=Activation.sigmoid(a[k])\n",
        "      elif(self.activation==\"tanh\"):\n",
        "        h[k]=Activation.tanh(a[k])\n",
        "      else:\n",
        "        h[k]=Activation.relu(a[k])\n",
        "\n",
        "    a[self.num_of_layers-1]=b[self.num_of_layers-1]+np.dot(w[self.num_of_layers-1],h[self.num_of_layers-2])\n",
        "    y_cap=Activation.softmax(a[self.hls+1])\n",
        "\n",
        "    return a,h,y_cap\n",
        "\n",
        "  def backward_propagation(self,h,a,y,y_cap):\n",
        "    del_a=dict()\n",
        "    del_w=dict()\n",
        "    del_b=dict()\n",
        "    del_h=dict()\n",
        "\n",
        "    del_a[self.num_of_layers-1]=-(y-y_cap)\n",
        "    for k in range(self.num_of_layers-1,0,-1):\n",
        "      del_w[k]=np.outer(del_a[k],h[k-1])\n",
        "      del_b[k]=del_a[k]\n",
        "      del_h[k-1]=np.dot(self.W[k].T,del_a[k])\n",
        "      if k>1:\n",
        "        if(self.activation==\"sigmoid\"):\n",
        "          del_a[k-1]=np.multiply(del_h[k-1],Activation.grad_sigmoid(a[k-1]))\n",
        "        elif(self.activation==\"tanh\"):\n",
        "          del_a[k-1]=np.multiply(del_h[k-1],Activation.grad_tanh(a[k-1]))\n",
        "        else:\n",
        "          del_a[k-1]=np.multiply(del_h[k-1],Activation.grad_relu(a[k-1]))\n",
        "\n",
        "    return (del_w,del_b)\n",
        "\n",
        "  def gradient_descent(self):\n",
        "    for iter in range(self.epochs):\n",
        "      del_w,del_b=self.initGrads()\n",
        "      for x,y in zip(self.x_train,self.y_train):\n",
        "        A,H,y_cap=self.forward_propagation(self.W,self.B,x)\n",
        "        ret=self.backward_propagation(H,A,y,y_cap)\n",
        "        del_w=self.incerement_grad(del_w,ret[0])\n",
        "        del_b=self.incerement_grad(del_b,ret[1])\n",
        "      self.W,self.B=UpdateParameters.update_parameters(self.W,self.B,self.eta,del_w,del_b)\n",
        "    return self.W,self.B\n",
        "\n",
        "  def stochastic_gradient_descent(self,batch_size):\n",
        "    trainLossPerEpoch=list()\n",
        "    trainAccuracyPerEpoch=list()\n",
        "    valLossPerEpoch=list()\n",
        "    valAccuracyPerEpoch=list()\n",
        "\n",
        "    for iter in range(self.epochs):\n",
        "      predictions=list()\n",
        "      del_w,del_b=self.initGrads()\n",
        "      num_of_points_seen=0\n",
        "      for x,y in zip(self.x_train,self.y_train):\n",
        "        A,H,y_cap=self.forward_propagation(self.W,self.B,x)\n",
        "        predictions.append(y_cap)\n",
        "        ret=self.backward_propagation(H,A,y,y_cap)\n",
        "        del_w=self.incerement_grad(del_w,ret[0])\n",
        "        del_b=self.incerement_grad(del_b,ret[1])\n",
        "        num_of_points_seen+=1\n",
        "\n",
        "        if(num_of_points_seen%batch_size==0):\n",
        "          self.W,self.B=UpdateParameters.update_parameters(self.W,self.B,self.eta,del_w,del_b)\n",
        "          del_w,del_b=self.initGrads()\n",
        "\n",
        "      trainLossPerEpoch.append(Loss.trainCrossEntropyLoss(self.y_train,np.array(predictions))/x_train.shape[0])\n",
        "      trainAccuracyPerEpoch.append(Accuracy.trainAccuracy(self.y_train,np.array(predictions)))\n",
        "      valLossPerEpoch.append(Loss.valCrossEntropyLoss(self,self.W,self.B,self.x_val,self.y_val)/x_val.shape[0])\n",
        "      valAccuracyPerEpoch.append(Accuracy.valAccuracy(self,self.W,self.B,self.x_val,self.y_val))\n",
        "      if(math.isnan(trainLossPerEpoch[-1])):\n",
        "        trainLossPerEpoch[-1]=0\n",
        "      if(math.isnan(valLossPerEpoch[-1])):\n",
        "        valLossPerEpoch[-1]=0\n",
        "      print(\"********************************\")\n",
        "      print(\"Epoch Number = {}\".format(iter))\n",
        "      print(\"Training Accuracy = {}\".format(trainAccuracyPerEpoch[-1]))\n",
        "      print(\"Validation Accuracy = {}\".format(valAccuracyPerEpoch[-1]))\n",
        "      wandb.log({\"training accuracy\":trainAccuracyPerEpoch[-1],\"validation accuracy\":valAccuracyPerEpoch[-1],\"training loss\":trainLossPerEpoch[-1],\"validation loss\":valLossPerEpoch[-1],\"Epoch\":iter})\n",
        "      self.W,self.B=UpdateParameters.normalizeParameters(self.W,self.B)\n",
        "\n",
        "    return trainLossPerEpoch,trainAccuracyPerEpoch,valLossPerEpoch,valAccuracyPerEpoch\n",
        "\n",
        "  def momentum_gradient_descent(self,beta,batch_size):\n",
        "    trainLossPerEpoch=list()\n",
        "    trainAccuracyPerEpoch=list()\n",
        "    valLossPerEpoch=list()\n",
        "    valAccuracyPerEpoch=list()\n",
        "\n",
        "    prev_uw,prev_ub=self.initGrads()\n",
        "    for iter in range(self.epochs):\n",
        "      predictions=list()\n",
        "      del_w,del_b=self.initGrads()\n",
        "      num_of_points_seen=0\n",
        "      for x,y in zip(self.x_train,self.y_train):\n",
        "        A,H,y_cap=self.forward_propagation(self.W,self.B,x)\n",
        "        predictions.append(y_cap)\n",
        "        ret=self.backward_propagation(H,A,y,y_cap)\n",
        "        del_w=self.incerement_grad(del_w,ret[0])\n",
        "        del_b=self.incerement_grad(del_b,ret[1])\n",
        "        num_of_points_seen+=1\n",
        "\n",
        "        if(num_of_points_seen%batch_size==0):\n",
        "          uw,ub=dict(),dict()\n",
        "          for i in range(1,len(del_w)):\n",
        "            uw[i]=beta*prev_uw[i]+self.eta*del_w[i]\n",
        "            ub[i]=beta*prev_ub[i]+self.eta*del_b[i]\n",
        "\n",
        "          self.W,self.B=UpdateParameters.update_parameters_mgd(self.W,self.B,uw,ub)\n",
        "          prev_uw=uw\n",
        "          prev_ub=ub\n",
        "          del_w,del_b=self.initGrads()\n",
        "\n",
        "      trainLossPerEpoch.append(Loss.trainCrossEntropyLoss(self.y_train,np.array(predictions))/x_train.shape[0])\n",
        "      trainAccuracyPerEpoch.append(Accuracy.trainAccuracy(self.y_train,np.array(predictions)))\n",
        "      valLossPerEpoch.append(Loss.valCrossEntropyLoss(self,self.W,self.B,self.x_val,self.y_val)/x_val.shape[0])\n",
        "      valAccuracyPerEpoch.append(Accuracy.valAccuracy(self,self.W,self.B,self.x_val,self.y_val))\n",
        "      if(math.isnan(trainLossPerEpoch[-1])):\n",
        "        trainLossPerEpoch[-1]=0\n",
        "      if(math.isnan(valLossPerEpoch[-1])):\n",
        "        valLossPerEpoch[-1]=0\n",
        "      print(\"********************************\")\n",
        "      print(\"Epoch Number = {}\".format(iter))\n",
        "      print(\"Training Accuracy = {}\".format(trainAccuracyPerEpoch[-1]))\n",
        "      print(\"Validation Accuracy = {}\".format(valAccuracyPerEpoch[-1]))\n",
        "      wandb.log({\"training accuracy\":trainAccuracyPerEpoch[-1],\"validation accuracy\":valAccuracyPerEpoch[-1],\"training loss\":trainLossPerEpoch[-1],\"validation loss\":valLossPerEpoch[-1],\"Epoch\":iter})\n",
        "      self.W,self.B=UpdateParameters.normalizeParameters(self.W,self.B)\n",
        "\n",
        "    return trainLossPerEpoch,trainAccuracyPerEpoch,valLossPerEpoch,valAccuracyPerEpoch\n",
        "\n",
        "  def nestrov_gradient_descent(self,beta,batch_size):\n",
        "    trainLossPerEpoch=list()\n",
        "    trainAccuracyPerEpoch=list()\n",
        "    valLossPerEpoch=list()\n",
        "    valAccuracyPerEpoch=list()\n",
        "\n",
        "    prev_uw,prev_ub=self.initGrads()\n",
        "\n",
        "    for iter in range(self.epochs):\n",
        "      predictions=list()\n",
        "      del_w,del_b=self.initGrads()\n",
        "      uw,ub=dict(),dict()\n",
        "      for i in range(1,len(del_w)):\n",
        "        uw[i]=beta*prev_uw[i]\n",
        "        ub[i]=beta*prev_ub[i]\n",
        "\n",
        "      w,b=UpdateParameters.update_parameters_mgd(self.W,self.B,uw,ub)\n",
        "      num_of_points_seen=0\n",
        "\n",
        "      for x,y in zip(self.x_train,self.y_train):\n",
        "        A,H,y_cap=self.forward_propagation(w,b,x)\n",
        "        predictions.append(y_cap)\n",
        "        ret=self.backward_propagation(H,A,y,y_cap)\n",
        "        del_w=self.incerement_grad(del_w,ret[0])\n",
        "        del_b=self.incerement_grad(del_b,ret[1])\n",
        "        num_of_points_seen+=1\n",
        "\n",
        "        if(num_of_points_seen%batch_size==0):\n",
        "          for i in range(1,len(del_w)):\n",
        "            uw[i]=beta*prev_uw[i]+self.eta*del_w[i]\n",
        "            ub[i]=beta*prev_ub[i]+self.eta*del_b[i]\n",
        "\n",
        "          self.W,self.B=UpdateParameters.update_parameters_mgd(self.W,self.B,uw,ub)\n",
        "          prev_uw=uw\n",
        "          prev_ub=ub\n",
        "          del_w,del_b=self.initGrads()\n",
        "\n",
        "      trainLossPerEpoch.append(Loss.trainCrossEntropyLoss(self.y_train,np.array(predictions))/x_train.shape[0])\n",
        "      trainAccuracyPerEpoch.append(Accuracy.trainAccuracy(self.y_train,np.array(predictions)))\n",
        "      valLossPerEpoch.append(Loss.valCrossEntropyLoss(self,self.W,self.B,self.x_val,self.y_val)/x_val.shape[0])\n",
        "      valAccuracyPerEpoch.append(Accuracy.valAccuracy(self,self.W,self.B,self.x_val,self.y_val))\n",
        "      if(math.isnan(trainLossPerEpoch[-1])):\n",
        "        trainLossPerEpoch[-1]=0\n",
        "      if(math.isnan(valLossPerEpoch[-1])):\n",
        "        valLossPerEpoch[-1]=0\n",
        "      print(\"********************************\")\n",
        "      print(\"Epoch Number = {}\".format(iter))\n",
        "      print(\"Training Accuracy = {}\".format(trainAccuracyPerEpoch[-1]))\n",
        "      print(\"Validation Accuracy = {}\".format(valAccuracyPerEpoch[-1]))\n",
        "      wandb.log({\"training accuracy\":trainAccuracyPerEpoch[-1],\"validation accuracy\":valAccuracyPerEpoch[-1],\"training loss\":trainLossPerEpoch[-1],\"validation loss\":valLossPerEpoch[-1],\"Epoch\":iter})\n",
        "      self.W,self.B=UpdateParameters.normalizeParameters(self.W,self.B)\n",
        "\n",
        "    return trainLossPerEpoch,trainAccuracyPerEpoch,valLossPerEpoch,valAccuracyPerEpoch\n",
        "\n",
        "\n",
        "  def rmsprop(self,beta,eps,batch_size):\n",
        "    trainLossPerEpoch=list()\n",
        "    trainAccuracyPerEpoch=list()\n",
        "    valLossPerEpoch=list()\n",
        "    valAccuracyPerEpoch=list()\n",
        "\n",
        "    vw,vb=self.initGrads()\n",
        "\n",
        "    for iter in range(self.epochs):\n",
        "      predictions=list()\n",
        "      del_w,del_b=self.initGrads()\n",
        "      num_of_points_seen=0\n",
        "      for x,y in zip(self.x_train,self.y_train):\n",
        "        A,H,y_cap=self.forward_propagation(self.W,self.B,x)\n",
        "        predictions.append(y_cap)\n",
        "        ret=self.backward_propagation(H,A,y,y_cap)\n",
        "        del_w=self.incerement_grad(del_w,ret[0])\n",
        "        del_b=self.incerement_grad(del_b,ret[1])\n",
        "        num_of_points_seen+=1\n",
        "\n",
        "        if(num_of_points_seen%batch_size==0):\n",
        "          for i in range(1,len(del_w)):\n",
        "            vw[i]=(beta*vw[i])+((1-beta)*(del_w[i]**2))\n",
        "            vb[i]=(beta*vb[i])+((1-beta)*(del_b[i]**2))\n",
        "\n",
        "          self.W,self.B=UpdateParameters.update_parameters_rms(self.W,self.B,self.eta,vw,vb,del_w,del_b,eps)\n",
        "          del_w,del_b=self.initGrads()\n",
        "\n",
        "      trainLossPerEpoch.append(Loss.trainCrossEntropyLoss(self.y_train,np.array(predictions))/x_train.shape[0])\n",
        "      trainAccuracyPerEpoch.append(Accuracy.trainAccuracy(self.y_train,np.array(predictions)))\n",
        "      valLossPerEpoch.append(Loss.valCrossEntropyLoss(self,self.W,self.B,self.x_val,self.y_val)/x_val.shape[0])\n",
        "      valAccuracyPerEpoch.append(Accuracy.valAccuracy(self,self.W,self.B,self.x_val,self.y_val))\n",
        "      if(math.isnan(trainLossPerEpoch[-1])):\n",
        "        trainLossPerEpoch[-1]=0\n",
        "      if(math.isnan(valLossPerEpoch[-1])):\n",
        "        valLossPerEpoch[-1]=0\n",
        "      print(\"********************************\")\n",
        "      print(\"Epoch Number = {}\".format(iter))\n",
        "      print(\"Training Accuracy = {}\".format(trainAccuracyPerEpoch[-1]))\n",
        "      print(\"Validation Accuracy = {}\".format(valAccuracyPerEpoch[-1]))\n",
        "      wandb.log({\"training accuracy\":trainAccuracyPerEpoch[-1],\"validation accuracy\":valAccuracyPerEpoch[-1],\"training loss\":trainLossPerEpoch[-1],\"validation loss\":valLossPerEpoch[-1],\"Epoch\":iter})\n",
        "      self.W,self.B=UpdateParameters.normalizeParameters(self.W,self.B)\n",
        "\n",
        "    return trainLossPerEpoch,trainAccuracyPerEpoch,valLossPerEpoch,valAccuracyPerEpoch\n",
        "\n",
        "\n",
        "  def adam(self,beta1,beta2,eps,batch_size):\n",
        "    trainLossPerEpoch=list()\n",
        "    trainAccuracyPerEpoch=list()\n",
        "    valLossPerEpoch=list()\n",
        "    valAccuracyPerEpoch=list()\n",
        "\n",
        "    vw,vb=self.initGrads()\n",
        "    mw,mb=self.initGrads()\n",
        "    mw_hat,mb_hat=self.initGrads()\n",
        "    vw_hat,vb_hat=self.initGrads()\n",
        "\n",
        "    for iter in range(self.epochs):\n",
        "      predictions=list()\n",
        "      del_w,del_b=self.initGrads()\n",
        "      num_of_points_seen=0\n",
        "      for x,y in zip(self.x_train,self.y_train):\n",
        "        A,H,y_cap=self.forward_propagation(self.W,self.B,x)\n",
        "        predictions.append(y_cap)\n",
        "        ret=self.backward_propagation(H,A,y,y_cap)\n",
        "        del_w=self.incerement_grad(del_w,ret[0])\n",
        "        del_b=self.incerement_grad(del_b,ret[1])\n",
        "        num_of_points_seen+=1\n",
        "\n",
        "        if(num_of_points_seen%batch_size==0):\n",
        "          for i in range(1,len(del_w)):\n",
        "            mw[i]=(beta1*mw[i])+((1-beta1)*del_w[i])\n",
        "            mb[i]=(beta1*mb[i])+((1-beta1)*del_b[i])\n",
        "            vw[i]=(beta2*vw[i])+((1-beta2)*(del_w[i]**2))\n",
        "            vb[i]=(beta2*vb[i])+((1-beta2)*(del_b[i]**2))\n",
        "\n",
        "          for i in range(1,len(del_w)):\n",
        "            mw_hat[i]=mw[i]/(1-np.power(beta1,i+1))\n",
        "            mb_hat[i]=mb[i]/(1-np.power(beta1,i+1))\n",
        "            vw_hat[i]=vw[i]/(1-np.power(beta2,i+1))\n",
        "            vb_hat[i]=vb[i]/(1-np.power(beta2,i+1))\n",
        "\n",
        "          del_w,del_b=self.initGrads()\n",
        "          self.W,self.B=UpdateParameters.update_parameters_adam(self.W,self.B,self.eta,mw_hat,mb_hat,vw_hat,vb_hat,eps)\n",
        "\n",
        "      trainLossPerEpoch.append(Loss.trainCrossEntropyLoss(self.y_train,np.array(predictions))/x_train.shape[0])\n",
        "      trainAccuracyPerEpoch.append(Accuracy.trainAccuracy(self.y_train,np.array(predictions)))\n",
        "      valLossPerEpoch.append(Loss.valCrossEntropyLoss(self,self.W,self.B,self.x_val,self.y_val)/x_val.shape[0])\n",
        "      valAccuracyPerEpoch.append(Accuracy.valAccuracy(self,self.W,self.B,self.x_val,self.y_val))\n",
        "      if(math.isnan(trainLossPerEpoch[-1])):\n",
        "        trainLossPerEpoch[-1]=0\n",
        "      if(math.isnan(valLossPerEpoch[-1])):\n",
        "        valLossPerEpoch[-1]=0\n",
        "      print(\"********************************\")\n",
        "      print(\"Epoch Number = {}\".format(iter))\n",
        "      print(\"Training Accuracy = {}\".format(trainAccuracyPerEpoch[-1]))\n",
        "      print(\"Validation Accuracy = {}\".format(valAccuracyPerEpoch[-1]))\n",
        "      wandb.log({\"training accuracy\":trainAccuracyPerEpoch[-1],\"validation accuracy\":valAccuracyPerEpoch[-1],\"training loss\":trainLossPerEpoch[-1],\"validation loss\":valLossPerEpoch[-1],\"Epoch\":iter})\n",
        "      self.W,self.B=UpdateParameters.normalizeParameters(self.W,self.B)\n",
        "\n",
        "    return trainLossPerEpoch,trainAccuracyPerEpoch,valLossPerEpoch,valAccuracyPerEpoch\n",
        "\n",
        "\n",
        "  def nadam(self,beta1,beta2,eps,batch_size):\n",
        "    trainLossPerEpoch=list()\n",
        "    trainAccuracyPerEpoch=list()\n",
        "    valLossPerEpoch=list()\n",
        "    valAccuracyPerEpoch=list()\n",
        "\n",
        "    vw,vb=self.initGrads()\n",
        "    mw,mb=self.initGrads()\n",
        "    mw_hat,mb_hat=self.initGrads()\n",
        "    vw_hat,vb_hat=self.initGrads()\n",
        "\n",
        "    for iter in range(self.epochs):\n",
        "      predictions=list()\n",
        "      del_w,del_b=self.initGrads()\n",
        "      num_of_points_seen=0\n",
        "      for x,y in zip(self.x_train,self.y_train):\n",
        "        A,H,y_cap=self.forward_propagation(self.W,self.B,x)\n",
        "        predictions.append(y_cap)\n",
        "        ret=self.backward_propagation(H,A,y,y_cap)\n",
        "        del_w=self.incerement_grad(del_w,ret[0])\n",
        "        del_b=self.incerement_grad(del_b,ret[1])\n",
        "        num_of_points_seen+=1\n",
        "\n",
        "        if(num_of_points_seen%batch_size==0):\n",
        "          for i in range(1,len(del_w)):\n",
        "            mw[i]=(beta1*mw[i])+((1-beta1)*del_w[i])\n",
        "            mb[i]=(beta1*mb[i])+((1-beta1)*del_b[i])\n",
        "            vw[i]=(beta2*vw[i])+((1-beta2)*(del_w[i]**2))\n",
        "            vb[i]=(beta2*vb[i])+((1-beta2)*(del_b[i]**2))\n",
        "\n",
        "          for i in range(1,len(del_w)):\n",
        "            mw_hat[i]=mw[i]/(1-np.power(beta1,i+1))\n",
        "            mb_hat[i]=mb[i]/(1-np.power(beta1,i+1))\n",
        "            vw_hat[i]=vw[i]/(1-np.power(beta2,i+1))\n",
        "            vb_hat[i]=vb[i]/(1-np.power(beta2,i+1))\n",
        "\n",
        "          self.W,self.B=UpdateParameters.update_parameters_nadam(self.W,self.B,self.eta,mw_hat,mb_hat,vw_hat,vb_hat,beta1,beta2,del_w,del_b,eps)\n",
        "          del_w,del_b=self.initGrads()\n",
        "\n",
        "      trainLossPerEpoch.append(Loss.trainCrossEntropyLoss(self.y_train,np.array(predictions))/x_train.shape[0])\n",
        "      trainAccuracyPerEpoch.append(Accuracy.trainAccuracy(self.y_train,np.array(predictions)))\n",
        "      valLossPerEpoch.append(Loss.valCrossEntropyLoss(self,self.W,self.B,self.x_val,self.y_val)/x_val.shape[0])\n",
        "      valAccuracyPerEpoch.append(Accuracy.valAccuracy(self,self.W,self.B,self.x_val,self.y_val))\n",
        "      if(math.isnan(trainLossPerEpoch[-1])):\n",
        "        trainLossPerEpoch[-1]=0\n",
        "      if(math.isnan(valLossPerEpoch[-1])):\n",
        "        valLossPerEpoch[-1]=0\n",
        "      print(\"********************************\")\n",
        "      print(\"Epoch Number = {}\".format(iter))\n",
        "      print(\"Training Accuracy = {}\".format(trainAccuracyPerEpoch[-1]))\n",
        "      print(\"Validation Accuracy = {}\".format(valAccuracyPerEpoch[-1]))\n",
        "      wandb.log({\"training accuracy\":trainAccuracyPerEpoch[-1],\"validation accuracy\":valAccuracyPerEpoch[-1],\"training loss\":trainLossPerEpoch[-1],\"validation loss\":valLossPerEpoch[-1],\"Epoch\":iter})\n",
        "      self.W,self.B=UpdateParameters.normalizeParameters(self.W,self.B)\n",
        "\n",
        "    return trainLossPerEpoch,trainAccuracyPerEpoch,valLossPerEpoch,valAccuracyPerEpoch\n",
        "\n",
        "\n",
        "  def modelFitting(self,beta,beta1,beta2,eps,optimizer,batch_size,loss):\n",
        "    run_name=\"lr_{}_op_{}_bs_{}_loss_{}_wInit_{}_hls_{}_nhls_{}_ac_{}\".format(self.eta,optimizer,batch_size,loss,self.initialization,self.hls,self.neurons_in_hl, self.activation)\n",
        "    print(\"run name = {}\".format(run_name))\n",
        "    wandb.run.name=run_name\n",
        "    trainLossPerEpoch=list()\n",
        "    trainAccuracyPerEpoch=list()\n",
        "    valLossPerEpoch=list()\n",
        "    valAccuracyPerEpoch=list()\n",
        "\n",
        "    if(optimizer==\"sgd\"):\n",
        "      trainLossPerEpoch,trainAccuracyPerEpoch,valLossPerEpoch,valAccuracyPerEpoch=self.stochastic_gradient_descent(batch_size)\n",
        "    elif(optimizer==\"momentum\"):\n",
        "      trainLossPerEpoch,trainAccuracyPerEpoch,valLossPerEpoch,valAccuracyPerEpoch=self.momentum_gradient_descent(beta,batch_size)\n",
        "    elif(optimizer==\"nestrov\"):\n",
        "      trainLossPerEpoch,trainAccuracyPerEpoch,valLossPerEpoch,valAccuracyPerEpoch=self.nestrov_gradient_descent(beta,batch_size)\n",
        "    elif(optimizer==\"rmsprop\"):\n",
        "      trainLossPerEpoch,trainAccuracyPerEpoch,valLossPerEpoch,valAccuracyPerEpoch=self.rmsprop(beta,eps,batch_size)\n",
        "    elif(optimizer==\"adam\"):\n",
        "      trainLossPerEpoch,trainAccuracyPerEpoch,valLossPerEpoch,valAccuracyPerEpoch=self.adam(beta1,beta2,eps,batch_size)\n",
        "    elif(optimizer==\"nadam\"):\n",
        "      trainLossPerEpoch,trainAccuracyPerEpoch,valLossPerEpoch,valAccuracyPerEpoch=self.nadam(beta1,beta2,eps,batch_size)\n",
        "\n",
        "\n",
        "    plt.plot(trainLossPerEpoch,label='Train Loss')\n",
        "    plt.plot(valLossPerEpoch,label='Validation Loss')\n",
        "    plt.xlabel('Epoch')\n",
        "    plt.ylabel('cost')\n",
        "    plt.legend()\n",
        "    plt.show()\n",
        "    plt.plot(trainAccuracyPerEpoch,label='Train Accuracy')\n",
        "    plt.plot(valAccuracyPerEpoch,label='Validation Accuracy')\n",
        "    plt.xlabel('Epoch')\n",
        "    plt.ylabel('accuracy')\n",
        "    plt.legend()\n",
        "    plt.show()\n"
      ],
      "metadata": {
        "id": "clEgTY69AzJy"
      },
      "execution_count": null,
      "outputs": []
    },
    {
      "cell_type": "code",
      "source": [
        "class Accuracy:\n",
        "  def trainAccuracy(y,y_pred):\n",
        "    accuracy=0\n",
        "    for i in range(y.shape[0]):\n",
        "      if(np.argmax(y[i])==np.argmax(y_pred[i])):\n",
        "        accuracy+=1\n",
        "\n",
        "    return accuracy/y.shape[0]\n",
        "\n",
        "  def valAccuracy(Model,w,b,x,y):\n",
        "    accuracy=0\n",
        "    for i in range(x.shape[0]):\n",
        "      a,h,y_pred=Model.forward_propagation(w,b,x[i])\n",
        "      if(np.argmax(y[i])==np.argmax(y_pred)):\n",
        "        accuracy+=1\n",
        "\n",
        "    return accuracy/x.shape[0]\n"
      ],
      "metadata": {
        "id": "1SCDxTm449u1"
      },
      "execution_count": null,
      "outputs": []
    },
    {
      "cell_type": "code",
      "source": [
        "class Loss:\n",
        "  def trainCrossEntropyLoss(y,yPred):\n",
        "    return -np.sum(y*np.log(yPred+1e-9))\n",
        "\n",
        "  def valCrossEntropyLoss(Model,w,b,x,y):\n",
        "    yPred1=list()\n",
        "    for i in range(x.shape[0]):\n",
        "      a,h,y_pred=Model.forward_propagation(w,b,x[i])\n",
        "      yPred1.append(y_pred)\n",
        "    yPred=np.array(yPred1)\n",
        "    return -np.sum(y*np.log(yPred+1e-9))\n"
      ],
      "metadata": {
        "id": "AdETbhkL8WGe"
      },
      "execution_count": null,
      "outputs": []
    },
    {
      "cell_type": "code",
      "source": [
        "def main():\n",
        "  wandb.init(project=\"Pritam CS6910 - Assignment 1\")\n",
        "  config=wandb.config\n",
        "\n",
        "  Model=FeedForwardNeuralNetwork(x_train,y_train,x_val,y_val,hls=config.number_of_hidden_layers,neurons_in_hl=config.num_neurons_in_hidden_layers,activation=config.activation,initialization=config.initialization,epochs=config.epochs,eta=config.learning_rate)\n",
        "  Model.modelFitting(beta=config.beta,beta1=0.9,beta2=0.999,eps=1e-5,optimizer=config.optimizer,batch_size=config.batch_size,loss=config.loss)\n",
        "\n",
        "sweep_configuration = {\n",
        "    'method': 'bayes',\n",
        "    'name': 'ACCURACY VS EPOCH',\n",
        "    'metric': {\n",
        "        'goal': 'maximize',\n",
        "        'name': 'validation_accuracy'\n",
        "        },\n",
        "    'parameters': {\n",
        "        'initialization': {'values': ['xavier','random']},\n",
        "        'number_of_hidden_layers' : {'values' : [3,4,5]},\n",
        "        'num_neurons_in_hidden_layers' : {'values' : [32,64,128]},\n",
        "\n",
        "        'learning_rate': {'values':[1e-1,1e-2,1e-3]},\n",
        "        'beta' : {'values' : [0.9,0.999]},\n",
        "        'optimizer' : {'values' : ['sgd','momentum','rmsprop','adam','nadam','nestrov']},\n",
        "\n",
        "        'batch_size': {'values': [16,32,64]},\n",
        "        'epochs': {'values': [5,10]},\n",
        "        'loss' : {'values' : ['cross_entropy']},\n",
        "        'activation' : {'values' : ['sigmoid','relu','tanh']}\n",
        "       }\n",
        "    }\n",
        "\n",
        "sweep_id = wandb.sweep(sweep=sweep_configuration,project='Pritam CS6910 - Assignment 1')\n",
        "\n",
        "wandb.agent(sweep_id , function = main , count = 160)\n",
        "wandb.finish()\n",
        "\n",
        "# y_test1=Model.one_hot_encoding(y_test)\n",
        "# x_test1=Model.input_flattening(x_test)"
      ],
      "metadata": {
        "colab": {
          "base_uri": "https://localhost:8080/",
          "height": 1000,
          "referenced_widgets": [
            "459e03e6c1274cf3bc9fe2d5a45dea58",
            "0b8c44d36592475f86eee18c265233b3",
            "8da5ea8ce8d34b05bf570410a9efefe5",
            "597be873ac6e41bd89bf1b0e40c1a7fc",
            "c51011346b4f48e4914c4204c266395c",
            "40bb32a612314d89b13cfc2d25d3ef83",
            "4f508fbb43c245789964905ef52db17e",
            "dafa75bc67be4d098caa2fa38d29ac26",
            "f2d66b9ff1e74b16aaf7f606ba5c5c3d",
            "bafa985817f0409787d7ce06c92cb56a",
            "a425e4c54d8a4664961c49650810edcd",
            "03a76567494f46febd1aedcdf04b18c2",
            "ef4dee1f482c45148a9049b7ffd32645",
            "fd1f3e9a347d431eaae7a13bc24f8576",
            "1318f74a490a4b6f8f322bc35cf1dc9c",
            "1a712e19dd3642e09720d4a5bc82cd3c",
            "f77c8216607443a68605ac1e65d4b56b",
            "9429d78cda4245a8ab74a74c017873a3",
            "c931896506584e82b668910cd2cf11e9",
            "5f0b25a0e6fe411a82ce060e345a1f11",
            "d232fcb6e164486aa92edd075ac26870",
            "a10b3b9cb46c40f09dfd9c4186039cec",
            "3f8549fef80347dc96fe9307277c8d03",
            "c748715a2ede4a24901a9d0d7f686fb7",
            "11db88ab06ea4c71a308e89b5bf34f8e",
            "f3f24546a8c84b7db1d155f6155f5f02",
            "7d1ed59d9f75470899fda6197f0760de",
            "206a58e6ea8247e0aae6643441b9cee0",
            "bb92d348fec64d5aa172c7ba12c96566",
            "8e2152315ace46b59882431f7cb1407e",
            "a8bf3b3ecece48efaa30be663d335b27",
            "7a182f6bc60a4cdd8a214259a3bbd398",
            "3c25d0dce1fa41318e6f7e4b765d8a30",
            "0c6d3dfe4bd6472d97a87c88d522999a",
            "f3ebe746be9645b6860322dfb7a31f47",
            "0be07d6fe1db42cca32a8a9c2db996e5",
            "0970cb43bd534cd88352c1bb5ce6f31c",
            "fb227e05e5de406d80fae39b1b7ead1e",
            "ebd8f2ccc74048c288b4916191b4e5d9",
            "2a431beb1355401cb876dcc0684ce111",
            "a453e0cfc4e64a67b07535e3b5e96197",
            "be84a354d92c461e9aadc54c6af47104",
            "906eee82bf584dae9c175d57d29f9c25",
            "39d985fee7f74606a69a8d07a5f57897",
            "26022903b9554c118d757eca8cf08219",
            "8d119182716e4e07b071e65fe4faf534",
            "06615607f2e74591ad1290f5fdb50c26",
            "137d56e23cd44831be49b9244f3aa4d8",
            "36e62e2a1cbc4bee99d8bf78c3af1136",
            "886ac4a116844bb299cf27c6f28dbbf4",
            "34e584b2549748b487366fb845e1439c",
            "9cc6455911c647249a5d1c00cf95bebe",
            "122b2e969321475f8637e0502e25f6c6",
            "4e6d8b2117d34a34a1dabbc4ebb82cda",
            "144eb3f67a6f4d639fcc32b4cc721965",
            "c4e647ca822d409ea26988bf1f5dfcb4",
            "317ef9da3ffd4259baf143cdf478842f",
            "c9a3e64ef42e4fd1a7ef45a1961c3469",
            "bad45e3458824c5c91a4be3f37dff6ac",
            "1f957df4ec154edd8c5277aeef41ee60",
            "800ce4c870994dd094f5551117f8b1d4",
            "923a29eeccb24bddbf4c9926be009f0d",
            "808894560eb242529c77c769689342d2",
            "95e7e14d8eae4749a789f36fe2e1ae7a",
            "e5cb1bb8fe544693b2702895204015ff",
            "e55bbe488ca841a284014ce7596f73eb",
            "6fdbf70741e5407f95cbd470ef86d2a2",
            "08e5849ff81340c39249d103881e8f49",
            "1d77e3e3a2054be197ee2a2c13b59187",
            "6e051c3d82fa4f949b9b418733c8acd5",
            "0617dbdec9ca4f5287644350c5460c34",
            "5328b3e844f44e788cc2c4ead78db248"
          ]
        },
        "id": "i0lcoFIkA2Fl",
        "outputId": "57710548-893f-446d-be7d-af266a67b300"
      },
      "execution_count": null,
      "outputs": [
        {
          "output_type": "stream",
          "name": "stdout",
          "text": [
            "Create sweep with ID: tzsl545u\n",
            "Sweep URL: https://wandb.ai/cs23m051/Pritam%20CS6910%20-%20Assignment%201/sweeps/tzsl545u\n"
          ]
        },
        {
          "output_type": "stream",
          "name": "stderr",
          "text": [
            "\u001b[34m\u001b[1mwandb\u001b[0m: Agent Starting Run: 7swj2dp8 with config:\n",
            "\u001b[34m\u001b[1mwandb\u001b[0m: \tactivation: relu\n",
            "\u001b[34m\u001b[1mwandb\u001b[0m: \tbatch_size: 64\n",
            "\u001b[34m\u001b[1mwandb\u001b[0m: \tbeta: 0.999\n",
            "\u001b[34m\u001b[1mwandb\u001b[0m: \tepochs: 5\n",
            "\u001b[34m\u001b[1mwandb\u001b[0m: \tinitialization: xavier\n",
            "\u001b[34m\u001b[1mwandb\u001b[0m: \tlearning_rate: 0.01\n",
            "\u001b[34m\u001b[1mwandb\u001b[0m: \tloss: cross_entropy\n",
            "\u001b[34m\u001b[1mwandb\u001b[0m: \tnum_neurons_in_hidden_layers: 32\n",
            "\u001b[34m\u001b[1mwandb\u001b[0m: \tnumber_of_hidden_layers: 5\n",
            "\u001b[34m\u001b[1mwandb\u001b[0m: \toptimizer: nestrov\n",
            "\u001b[34m\u001b[1mwandb\u001b[0m: \u001b[33mWARNING\u001b[0m Ignored wandb.init() arg project when running a sweep.\n"
          ]
        },
        {
          "output_type": "display_data",
          "data": {
            "text/plain": [
              "<IPython.core.display.HTML object>"
            ],
            "text/html": [
              "Tracking run with wandb version 0.16.4"
            ]
          },
          "metadata": {}
        },
        {
          "output_type": "display_data",
          "data": {
            "text/plain": [
              "<IPython.core.display.HTML object>"
            ],
            "text/html": [
              "Run data is saved locally in <code>/content/wandb/run-20240310_185511-7swj2dp8</code>"
            ]
          },
          "metadata": {}
        },
        {
          "output_type": "display_data",
          "data": {
            "text/plain": [
              "<IPython.core.display.HTML object>"
            ],
            "text/html": [
              "Syncing run <strong><a href='https://wandb.ai/cs23m051/Pritam%20CS6910%20-%20Assignment%201/runs/7swj2dp8' target=\"_blank\">atomic-sweep-1</a></strong> to <a href='https://wandb.ai/cs23m051/Pritam%20CS6910%20-%20Assignment%201' target=\"_blank\">Weights & Biases</a> (<a href='https://wandb.me/run' target=\"_blank\">docs</a>)<br/>Sweep page: <a href='https://wandb.ai/cs23m051/Pritam%20CS6910%20-%20Assignment%201/sweeps/tzsl545u' target=\"_blank\">https://wandb.ai/cs23m051/Pritam%20CS6910%20-%20Assignment%201/sweeps/tzsl545u</a>"
            ]
          },
          "metadata": {}
        },
        {
          "output_type": "display_data",
          "data": {
            "text/plain": [
              "<IPython.core.display.HTML object>"
            ],
            "text/html": [
              " View project at <a href='https://wandb.ai/cs23m051/Pritam%20CS6910%20-%20Assignment%201' target=\"_blank\">https://wandb.ai/cs23m051/Pritam%20CS6910%20-%20Assignment%201</a>"
            ]
          },
          "metadata": {}
        },
        {
          "output_type": "display_data",
          "data": {
            "text/plain": [
              "<IPython.core.display.HTML object>"
            ],
            "text/html": [
              " View sweep at <a href='https://wandb.ai/cs23m051/Pritam%20CS6910%20-%20Assignment%201/sweeps/tzsl545u' target=\"_blank\">https://wandb.ai/cs23m051/Pritam%20CS6910%20-%20Assignment%201/sweeps/tzsl545u</a>"
            ]
          },
          "metadata": {}
        },
        {
          "output_type": "display_data",
          "data": {
            "text/plain": [
              "<IPython.core.display.HTML object>"
            ],
            "text/html": [
              " View run at <a href='https://wandb.ai/cs23m051/Pritam%20CS6910%20-%20Assignment%201/runs/7swj2dp8' target=\"_blank\">https://wandb.ai/cs23m051/Pritam%20CS6910%20-%20Assignment%201/runs/7swj2dp8</a>"
            ]
          },
          "metadata": {}
        },
        {
          "output_type": "stream",
          "name": "stdout",
          "text": [
            "run name = lr_0.01_op_nestrov_bs_64_loss_cross_entropy_wInit_xavier_hls_5_nhls_32_ac_relu\n",
            "********************************\n",
            "Epoch Number = 0\n",
            "Training Accuracy = 0.10416666666666667\n",
            "Validation Accuracy = 0.103\n",
            "********************************\n",
            "Epoch Number = 1\n",
            "Training Accuracy = 0.09966666666666667\n",
            "Validation Accuracy = 0.103\n",
            "********************************\n",
            "Epoch Number = 2\n",
            "Training Accuracy = 0.0994074074074074\n",
            "Validation Accuracy = 0.103\n",
            "********************************\n",
            "Epoch Number = 3\n",
            "Training Accuracy = 0.09966666666666667\n",
            "Validation Accuracy = 0.103\n",
            "********************************\n",
            "Epoch Number = 4\n",
            "Training Accuracy = 0.09966666666666667\n",
            "Validation Accuracy = 0.103\n"
          ]
        },
        {
          "output_type": "display_data",
          "data": {
            "text/plain": [
              "<Figure size 640x480 with 1 Axes>"
            ],
            "image/png": "[encoded data removed]"
          },
          "metadata": {}
        },
        {
          "output_type": "display_data",
          "data": {
            "text/plain": [
              "<Figure size 640x480 with 1 Axes>"
            ],
            "image/png": "[encoded data removed]"
          },
          "metadata": {}
        },
        {
          "output_type": "display_data",
          "data": {
            "text/plain": [
              "VBox(children=(Label(value='0.001 MB of 0.002 MB uploaded\\r'), FloatProgress(value=0.484643179765131, max=1.0)…"
            ],
            "application/vnd.jupyter.widget-view+json": {
              "version_major": 2,
              "version_minor": 0,
              "model_id": "459e03e6c1274cf3bc9fe2d5a45dea58"
            }
          },
          "metadata": {}
        },
        {
          "output_type": "display_data",
          "data": {
            "text/plain": [
              "<IPython.core.display.HTML object>"
            ],
            "text/html": [
              "<style>\n",
              "    table.wandb td:nth-child(1) { padding: 0 10px; text-align: left ; width: auto;} td:nth-child(2) {text-align: left ; width: 100%}\n",
              "    .wandb-row { display: flex; flex-direction: row; flex-wrap: wrap; justify-content: flex-start; width: 100% }\n",
              "    .wandb-col { display: flex; flex-direction: column; flex-basis: 100%; flex: 1; padding: 10px; }\n",
              "    </style>\n",
              "<div class=\"wandb-row\"><div class=\"wandb-col\"><h3>Run history:</h3><br/><table class=\"wandb\"><tr><td>Epoch</td><td>▁▃▅▆█</td></tr><tr><td>training accuracy</td><td>█▁▁▁▁</td></tr><tr><td>training loss</td><td>▁█▇██</td></tr><tr><td>validation accuracy</td><td>▁▁▁▁▁</td></tr><tr><td>validation loss</td><td>█▁▁▁▁</td></tr></table><br/></div><div class=\"wandb-col\"><h3>Run summary:</h3><br/><table class=\"wandb\"><tr><td>Epoch</td><td>4</td></tr><tr><td>training accuracy</td><td>0.09967</td></tr><tr><td>training loss</td><td>2.32375</td></tr><tr><td>validation accuracy</td><td>0.103</td></tr><tr><td>validation loss</td><td>2.32064</td></tr></table><br/></div></div>"
            ]
          },
          "metadata": {}
        },
        {
          "output_type": "display_data",
          "data": {
            "text/plain": [
              "<IPython.core.display.HTML object>"
            ],
            "text/html": [
              " View run <strong style=\"color:#cdcd00\">atomic-sweep-1</strong> at: <a href='https://wandb.ai/cs23m051/Pritam%20CS6910%20-%20Assignment%201/runs/7swj2dp8' target=\"_blank\">https://wandb.ai/cs23m051/Pritam%20CS6910%20-%20Assignment%201/runs/7swj2dp8</a><br/>Synced 5 W&B file(s), 0 media file(s), 0 artifact file(s) and 0 other file(s)"
            ]
          },
          "metadata": {}
        },
        {
          "output_type": "display_data",
          "data": {
            "text/plain": [
              "<IPython.core.display.HTML object>"
            ],
            "text/html": [
              "Find logs at: <code>./wandb/run-20240310_185511-7swj2dp8/logs</code>"
            ]
          },
          "metadata": {}
        },
        {
          "output_type": "stream",
          "name": "stderr",
          "text": [
            "\u001b[34m\u001b[1mwandb\u001b[0m: Agent Starting Run: poyyvncm with config:\n",
            "\u001b[34m\u001b[1mwandb\u001b[0m: \tactivation: relu\n",
            "\u001b[34m\u001b[1mwandb\u001b[0m: \tbatch_size: 64\n",
            "\u001b[34m\u001b[1mwandb\u001b[0m: \tbeta: 0.9\n",
            "\u001b[34m\u001b[1mwandb\u001b[0m: \tepochs: 10\n",
            "\u001b[34m\u001b[1mwandb\u001b[0m: \tinitialization: random\n",
            "\u001b[34m\u001b[1mwandb\u001b[0m: \tlearning_rate: 0.1\n",
            "\u001b[34m\u001b[1mwandb\u001b[0m: \tloss: cross_entropy\n",
            "\u001b[34m\u001b[1mwandb\u001b[0m: \tnum_neurons_in_hidden_layers: 64\n",
            "\u001b[34m\u001b[1mwandb\u001b[0m: \tnumber_of_hidden_layers: 4\n",
            "\u001b[34m\u001b[1mwandb\u001b[0m: \toptimizer: adam\n",
            "\u001b[34m\u001b[1mwandb\u001b[0m: \u001b[33mWARNING\u001b[0m Ignored wandb.init() arg project when running a sweep.\n"
          ]
        },
        {
          "output_type": "display_data",
          "data": {
            "text/plain": [
              "<IPython.core.display.HTML object>"
            ],
            "text/html": [
              "Tracking run with wandb version 0.16.4"
            ]
          },
          "metadata": {}
        },
        {
          "output_type": "display_data",
          "data": {
            "text/plain": [
              "<IPython.core.display.HTML object>"
            ],
            "text/html": [
              "Run data is saved locally in <code>/content/wandb/run-20240310_185817-poyyvncm</code>"
            ]
          },
          "metadata": {}
        },
        {
          "output_type": "display_data",
          "data": {
            "text/plain": [
              "<IPython.core.display.HTML object>"
            ],
            "text/html": [
              "Syncing run <strong><a href='https://wandb.ai/cs23m051/Pritam%20CS6910%20-%20Assignment%201/runs/poyyvncm' target=\"_blank\">balmy-sweep-2</a></strong> to <a href='https://wandb.ai/cs23m051/Pritam%20CS6910%20-%20Assignment%201' target=\"_blank\">Weights & Biases</a> (<a href='https://wandb.me/run' target=\"_blank\">docs</a>)<br/>Sweep page: <a href='https://wandb.ai/cs23m051/Pritam%20CS6910%20-%20Assignment%201/sweeps/tzsl545u' target=\"_blank\">https://wandb.ai/cs23m051/Pritam%20CS6910%20-%20Assignment%201/sweeps/tzsl545u</a>"
            ]
          },
          "metadata": {}
        },
        {
          "output_type": "display_data",
          "data": {
            "text/plain": [
              "<IPython.core.display.HTML object>"
            ],
            "text/html": [
              " View project at <a href='https://wandb.ai/cs23m051/Pritam%20CS6910%20-%20Assignment%201' target=\"_blank\">https://wandb.ai/cs23m051/Pritam%20CS6910%20-%20Assignment%201</a>"
            ]
          },
          "metadata": {}
        },
        {
          "output_type": "display_data",
          "data": {
            "text/plain": [
              "<IPython.core.display.HTML object>"
            ],
            "text/html": [
              " View sweep at <a href='https://wandb.ai/cs23m051/Pritam%20CS6910%20-%20Assignment%201/sweeps/tzsl545u' target=\"_blank\">https://wandb.ai/cs23m051/Pritam%20CS6910%20-%20Assignment%201/sweeps/tzsl545u</a>"
            ]
          },
          "metadata": {}
        },
        {
          "output_type": "display_data",
          "data": {
            "text/plain": [
              "<IPython.core.display.HTML object>"
            ],
            "text/html": [
              " View run at <a href='https://wandb.ai/cs23m051/Pritam%20CS6910%20-%20Assignment%201/runs/poyyvncm' target=\"_blank\">https://wandb.ai/cs23m051/Pritam%20CS6910%20-%20Assignment%201/runs/poyyvncm</a>"
            ]
          },
          "metadata": {}
        },
        {
          "output_type": "stream",
          "name": "stdout",
          "text": [
            "run name = lr_0.1_op_adam_bs_64_loss_cross_entropy_wInit_random_hls_4_nhls_64_ac_relu\n",
            "********************************\n",
            "Epoch Number = 0\n",
            "Training Accuracy = 0.5070740740740741\n",
            "Validation Accuracy = 0.5986666666666667\n",
            "********************************\n",
            "Epoch Number = 1\n",
            "Training Accuracy = 0.09985185185185186\n",
            "Validation Accuracy = 0.09283333333333334\n",
            "********************************\n",
            "Epoch Number = 2\n",
            "Training Accuracy = 0.1002962962962963\n",
            "Validation Accuracy = 0.09283333333333334\n",
            "********************************\n",
            "Epoch Number = 3\n",
            "Training Accuracy = 0.10037037037037037\n",
            "Validation Accuracy = 0.09283333333333334\n",
            "********************************\n",
            "Epoch Number = 5\n",
            "Training Accuracy = 0.09898148148148148\n",
            "Validation Accuracy = 0.09283333333333334\n",
            "********************************\n",
            "Epoch Number = 6\n",
            "Training Accuracy = 0.09614814814814815\n",
            "Validation Accuracy = 0.101\n",
            "********************************\n",
            "Epoch Number = 7\n",
            "Training Accuracy = 0.09638888888888889\n",
            "Validation Accuracy = 0.101\n",
            "********************************\n",
            "Epoch Number = 8\n",
            "Training Accuracy = 0.09568518518518518\n",
            "Validation Accuracy = 0.09283333333333334\n",
            "********************************\n",
            "Epoch Number = 9\n",
            "Training Accuracy = 0.09774074074074074\n",
            "Validation Accuracy = 0.09283333333333334\n"
          ]
        },
        {
          "output_type": "display_data",
          "data": {
            "text/plain": [
              "<Figure size 640x480 with 1 Axes>"
            ],
            "image/png": "[encoded data removed]"
          },
          "metadata": {}
        },
        {
          "output_type": "display_data",
          "data": {
            "text/plain": [
              "<Figure size 640x480 with 1 Axes>"
            ],
            "image/png": "[encoded data removed]"
          },
          "metadata": {}
        },
        {
          "output_type": "display_data",
          "data": {
            "text/plain": [
              "VBox(children=(Label(value='0.001 MB of 0.012 MB uploaded\\r'), FloatProgress(value=0.08529411764705883, max=1.…"
            ],
            "application/vnd.jupyter.widget-view+json": {
              "version_major": 2,
              "version_minor": 0,
              "model_id": "f2d66b9ff1e74b16aaf7f606ba5c5c3d"
            }
          },
          "metadata": {}
        },
        {
          "output_type": "display_data",
          "data": {
            "text/plain": [
              "<IPython.core.display.HTML object>"
            ],
            "text/html": [
              "<style>\n",
              "    table.wandb td:nth-child(1) { padding: 0 10px; text-align: left ; width: auto;} td:nth-child(2) {text-align: left ; width: 100%}\n",
              "    .wandb-row { display: flex; flex-direction: row; flex-wrap: wrap; justify-content: flex-start; width: 100% }\n",
              "    .wandb-col { display: flex; flex-direction: column; flex-basis: 100%; flex: 1; padding: 10px; }\n",
              "    </style>\n",
              "<div class=\"wandb-row\"><div class=\"wandb-col\"><h3>Run history:</h3><br/><table class=\"wandb\"><tr><td>Epoch</td><td>▁▂▃▃▄▅▆▆▇█</td></tr><tr><td>training accuracy</td><td>█▁▁▁▁▁▁▁▁▁</td></tr><tr><td>training loss</td><td>█▁▁▁▁▁▁▁▁▁</td></tr><tr><td>validation accuracy</td><td>█▁▁▁▁▁▁▁▁▁</td></tr><tr><td>validation loss</td><td>█▁▁▁▁▁▁▁▁▁</td></tr></table><br/></div><div class=\"wandb-col\"><h3>Run summary:</h3><br/><table class=\"wandb\"><tr><td>Epoch</td><td>9</td></tr><tr><td>training accuracy</td><td>0.09774</td></tr><tr><td>training loss</td><td>2.30607</td></tr><tr><td>validation accuracy</td><td>0.09283</td></tr><tr><td>validation loss</td><td>2.30629</td></tr></table><br/></div></div>"
            ]
          },
          "metadata": {}
        },
        {
          "output_type": "display_data",
          "data": {
            "text/plain": [
              "<IPython.core.display.HTML object>"
            ],
            "text/html": [
              " View run <strong style=\"color:#cdcd00\">balmy-sweep-2</strong> at: <a href='https://wandb.ai/cs23m051/Pritam%20CS6910%20-%20Assignment%201/runs/poyyvncm' target=\"_blank\">https://wandb.ai/cs23m051/Pritam%20CS6910%20-%20Assignment%201/runs/poyyvncm</a><br/>Synced 5 W&B file(s), 0 media file(s), 0 artifact file(s) and 0 other file(s)"
            ]
          },
          "metadata": {}
        },
        {
          "output_type": "display_data",
          "data": {
            "text/plain": [
              "<IPython.core.display.HTML object>"
            ],
            "text/html": [
              "Find logs at: <code>./wandb/run-20240310_185817-poyyvncm/logs</code>"
            ]
          },
          "metadata": {}
        },
        {
          "output_type": "stream",
          "name": "stderr",
          "text": [
            "\u001b[34m\u001b[1mwandb\u001b[0m: Agent Starting Run: l25h18nw with config:\n",
            "\u001b[34m\u001b[1mwandb\u001b[0m: \tactivation: tanh\n",
            "\u001b[34m\u001b[1mwandb\u001b[0m: \tbatch_size: 64\n",
            "\u001b[34m\u001b[1mwandb\u001b[0m: \tbeta: 0.9\n",
            "\u001b[34m\u001b[1mwandb\u001b[0m: \tepochs: 5\n",
            "\u001b[34m\u001b[1mwandb\u001b[0m: \tinitialization: random\n",
            "\u001b[34m\u001b[1mwandb\u001b[0m: \tlearning_rate: 0.001\n",
            "\u001b[34m\u001b[1mwandb\u001b[0m: \tloss: cross_entropy\n",
            "\u001b[34m\u001b[1mwandb\u001b[0m: \tnum_neurons_in_hidden_layers: 64\n",
            "\u001b[34m\u001b[1mwandb\u001b[0m: \tnumber_of_hidden_layers: 4\n",
            "\u001b[34m\u001b[1mwandb\u001b[0m: \toptimizer: sgd\n",
            "\u001b[34m\u001b[1mwandb\u001b[0m: \u001b[33mWARNING\u001b[0m Ignored wandb.init() arg project when running a sweep.\n"
          ]
        },
        {
          "output_type": "display_data",
          "data": {
            "text/plain": [
              "<IPython.core.display.HTML object>"
            ],
            "text/html": [
              "Tracking run with wandb version 0.16.4"
            ]
          },
          "metadata": {}
        },
        {
          "output_type": "display_data",
          "data": {
            "text/plain": [
              "<IPython.core.display.HTML object>"
            ],
            "text/html": [
              "Run data is saved locally in <code>/content/wandb/run-20240310_190834-l25h18nw</code>"
            ]
          },
          "metadata": {}
        },
        {
          "output_type": "display_data",
          "data": {
            "text/plain": [
              "<IPython.core.display.HTML object>"
            ],
            "text/html": [
              "Syncing run <strong><a href='https://wandb.ai/cs23m051/Pritam%20CS6910%20-%20Assignment%201/runs/l25h18nw' target=\"_blank\">feasible-sweep-3</a></strong> to <a href='https://wandb.ai/cs23m051/Pritam%20CS6910%20-%20Assignment%201' target=\"_blank\">Weights & Biases</a> (<a href='https://wandb.me/run' target=\"_blank\">docs</a>)<br/>Sweep page: <a href='https://wandb.ai/cs23m051/Pritam%20CS6910%20-%20Assignment%201/sweeps/tzsl545u' target=\"_blank\">https://wandb.ai/cs23m051/Pritam%20CS6910%20-%20Assignment%201/sweeps/tzsl545u</a>"
            ]
          },
          "metadata": {}
        },
        {
          "output_type": "display_data",
          "data": {
            "text/plain": [
              "<IPython.core.display.HTML object>"
            ],
            "text/html": [
              " View project at <a href='https://wandb.ai/cs23m051/Pritam%20CS6910%20-%20Assignment%201' target=\"_blank\">https://wandb.ai/cs23m051/Pritam%20CS6910%20-%20Assignment%201</a>"
            ]
          },
          "metadata": {}
        },
        {
          "output_type": "display_data",
          "data": {
            "text/plain": [
              "<IPython.core.display.HTML object>"
            ],
            "text/html": [
              " View sweep at <a href='https://wandb.ai/cs23m051/Pritam%20CS6910%20-%20Assignment%201/sweeps/tzsl545u' target=\"_blank\">https://wandb.ai/cs23m051/Pritam%20CS6910%20-%20Assignment%201/sweeps/tzsl545u</a>"
            ]
          },
          "metadata": {}
        },
        {
          "output_type": "display_data",
          "data": {
            "text/plain": [
              "<IPython.core.display.HTML object>"
            ],
            "text/html": [
              " View run at <a href='https://wandb.ai/cs23m051/Pritam%20CS6910%20-%20Assignment%201/runs/l25h18nw' target=\"_blank\">https://wandb.ai/cs23m051/Pritam%20CS6910%20-%20Assignment%201/runs/l25h18nw</a>"
            ]
          },
          "metadata": {}
        },
        {
          "output_type": "stream",
          "name": "stdout",
          "text": [
            "run name = lr_0.001_op_sgd_bs_64_loss_cross_entropy_wInit_random_hls_4_nhls_64_ac_tanh\n",
            "********************************\n",
            "Epoch Number = 0\n",
            "Training Accuracy = 0.5024814814814815\n",
            "Validation Accuracy = 0.5966666666666667\n",
            "********************************\n",
            "Epoch Number = 1\n",
            "Training Accuracy = 0.6080555555555556\n",
            "Validation Accuracy = 0.7516666666666667\n",
            "********************************\n",
            "Epoch Number = 2\n",
            "Training Accuracy = 0.7503148148148148\n",
            "Validation Accuracy = 0.79\n",
            "********************************\n",
            "Epoch Number = 3\n",
            "Training Accuracy = 0.7705555555555555\n",
            "Validation Accuracy = 0.7866666666666666\n",
            "********************************\n",
            "Epoch Number = 4\n",
            "Training Accuracy = 0.7761851851851852\n",
            "Validation Accuracy = 0.7996666666666666\n"
          ]
        },
        {
          "output_type": "display_data",
          "data": {
            "text/plain": [
              "<Figure size 640x480 with 1 Axes>"
            ],
            "image/png": "[encoded data removed]"
          },
          "metadata": {}
        },
        {
          "output_type": "display_data",
          "data": {
            "text/plain": [
              "<Figure size 640x480 with 1 Axes>"
            ],
            "image/png": "[encoded data removed]"
          },
          "metadata": {}
        },
        {
          "output_type": "display_data",
          "data": {
            "text/plain": [
              "VBox(children=(Label(value='0.001 MB of 0.011 MB uploaded\\r'), FloatProgress(value=0.089895178197065, max=1.0)…"
            ],
            "application/vnd.jupyter.widget-view+json": {
              "version_major": 2,
              "version_minor": 0,
              "model_id": "f77c8216607443a68605ac1e65d4b56b"
            }
          },
          "metadata": {}
        },
        {
          "output_type": "display_data",
          "data": {
            "text/plain": [
              "<IPython.core.display.HTML object>"
            ],
            "text/html": [
              "<style>\n",
              "    table.wandb td:nth-child(1) { padding: 0 10px; text-align: left ; width: auto;} td:nth-child(2) {text-align: left ; width: 100%}\n",
              "    .wandb-row { display: flex; flex-direction: row; flex-wrap: wrap; justify-content: flex-start; width: 100% }\n",
              "    .wandb-col { display: flex; flex-direction: column; flex-basis: 100%; flex: 1; padding: 10px; }\n",
              "    </style>\n",
              "<div class=\"wandb-row\"><div class=\"wandb-col\"><h3>Run history:</h3><br/><table class=\"wandb\"><tr><td>Epoch</td><td>▁▃▅▆█</td></tr><tr><td>training accuracy</td><td>▁▄▇██</td></tr><tr><td>training loss</td><td>█▃▁▁▁</td></tr><tr><td>validation accuracy</td><td>▁▆███</td></tr><tr><td>validation loss</td><td>█▂▁▁▁</td></tr></table><br/></div><div class=\"wandb-col\"><h3>Run summary:</h3><br/><table class=\"wandb\"><tr><td>Epoch</td><td>4</td></tr><tr><td>training accuracy</td><td>0.77619</td></tr><tr><td>training loss</td><td>0.60796</td></tr><tr><td>validation accuracy</td><td>0.79967</td></tr><tr><td>validation loss</td><td>0.54254</td></tr></table><br/></div></div>"
            ]
          },
          "metadata": {}
        },
        {
          "output_type": "display_data",
          "data": {
            "text/plain": [
              "<IPython.core.display.HTML object>"
            ],
            "text/html": [
              " View run <strong style=\"color:#cdcd00\">feasible-sweep-3</strong> at: <a href='https://wandb.ai/cs23m051/Pritam%20CS6910%20-%20Assignment%201/runs/l25h18nw' target=\"_blank\">https://wandb.ai/cs23m051/Pritam%20CS6910%20-%20Assignment%201/runs/l25h18nw</a><br/>Synced 5 W&B file(s), 0 media file(s), 0 artifact file(s) and 0 other file(s)"
            ]
          },
          "metadata": {}
        },
        {
          "output_type": "display_data",
          "data": {
            "text/plain": [
              "<IPython.core.display.HTML object>"
            ],
            "text/html": [
              "Find logs at: <code>./wandb/run-20240310_190834-l25h18nw/logs</code>"
            ]
          },
          "metadata": {}
        },
        {
          "output_type": "stream",
          "name": "stderr",
          "text": [
            "\u001b[34m\u001b[1mwandb\u001b[0m: Agent Starting Run: g9808sxg with config:\n",
            "\u001b[34m\u001b[1mwandb\u001b[0m: \tactivation: sigmoid\n",
            "\u001b[34m\u001b[1mwandb\u001b[0m: \tbatch_size: 64\n",
            "\u001b[34m\u001b[1mwandb\u001b[0m: \tbeta: 0.999\n",
            "\u001b[34m\u001b[1mwandb\u001b[0m: \tepochs: 5\n",
            "\u001b[34m\u001b[1mwandb\u001b[0m: \tinitialization: xavier\n",
            "\u001b[34m\u001b[1mwandb\u001b[0m: \tlearning_rate: 0.01\n",
            "\u001b[34m\u001b[1mwandb\u001b[0m: \tloss: cross_entropy\n",
            "\u001b[34m\u001b[1mwandb\u001b[0m: \tnum_neurons_in_hidden_layers: 128\n",
            "\u001b[34m\u001b[1mwandb\u001b[0m: \tnumber_of_hidden_layers: 5\n",
            "\u001b[34m\u001b[1mwandb\u001b[0m: \toptimizer: adam\n",
            "\u001b[34m\u001b[1mwandb\u001b[0m: \u001b[33mWARNING\u001b[0m Ignored wandb.init() arg project when running a sweep.\n"
          ]
        },
        {
          "output_type": "display_data",
          "data": {
            "text/plain": [
              "<IPython.core.display.HTML object>"
            ],
            "text/html": [
              "Tracking run with wandb version 0.16.4"
            ]
          },
          "metadata": {}
        },
        {
          "output_type": "display_data",
          "data": {
            "text/plain": [
              "<IPython.core.display.HTML object>"
            ],
            "text/html": [
              "Run data is saved locally in <code>/content/wandb/run-20240310_191354-g9808sxg</code>"
            ]
          },
          "metadata": {}
        },
        {
          "output_type": "display_data",
          "data": {
            "text/plain": [
              "<IPython.core.display.HTML object>"
            ],
            "text/html": [
              "Syncing run <strong><a href='https://wandb.ai/cs23m051/Pritam%20CS6910%20-%20Assignment%201/runs/g9808sxg' target=\"_blank\">chocolate-sweep-4</a></strong> to <a href='https://wandb.ai/cs23m051/Pritam%20CS6910%20-%20Assignment%201' target=\"_blank\">Weights & Biases</a> (<a href='https://wandb.me/run' target=\"_blank\">docs</a>)<br/>Sweep page: <a href='https://wandb.ai/cs23m051/Pritam%20CS6910%20-%20Assignment%201/sweeps/tzsl545u' target=\"_blank\">https://wandb.ai/cs23m051/Pritam%20CS6910%20-%20Assignment%201/sweeps/tzsl545u</a>"
            ]
          },
          "metadata": {}
        },
        {
          "output_type": "display_data",
          "data": {
            "text/plain": [
              "<IPython.core.display.HTML object>"
            ],
            "text/html": [
              " View project at <a href='https://wandb.ai/cs23m051/Pritam%20CS6910%20-%20Assignment%201' target=\"_blank\">https://wandb.ai/cs23m051/Pritam%20CS6910%20-%20Assignment%201</a>"
            ]
          },
          "metadata": {}
        },
        {
          "output_type": "display_data",
          "data": {
            "text/plain": [
              "<IPython.core.display.HTML object>"
            ],
            "text/html": [
              " View sweep at <a href='https://wandb.ai/cs23m051/Pritam%20CS6910%20-%20Assignment%201/sweeps/tzsl545u' target=\"_blank\">https://wandb.ai/cs23m051/Pritam%20CS6910%20-%20Assignment%201/sweeps/tzsl545u</a>"
            ]
          },
          "metadata": {}
        },
        {
          "output_type": "display_data",
          "data": {
            "text/plain": [
              "<IPython.core.display.HTML object>"
            ],
            "text/html": [
              " View run at <a href='https://wandb.ai/cs23m051/Pritam%20CS6910%20-%20Assignment%201/runs/g9808sxg' target=\"_blank\">https://wandb.ai/cs23m051/Pritam%20CS6910%20-%20Assignment%201/runs/g9808sxg</a>"
            ]
          },
          "metadata": {}
        },
        {
          "output_type": "stream",
          "name": "stdout",
          "text": [
            "run name = lr_0.01_op_adam_bs_64_loss_cross_entropy_wInit_xavier_hls_5_nhls_128_ac_sigmoid\n",
            "********************************\n",
            "Epoch Number = 0\n",
            "Training Accuracy = 0.13368518518518518\n",
            "Validation Accuracy = 0.20333333333333334\n",
            "********************************\n",
            "Epoch Number = 1\n",
            "Training Accuracy = 0.09966666666666667\n",
            "Validation Accuracy = 0.103\n",
            "********************************\n",
            "Epoch Number = 2\n",
            "Training Accuracy = 0.09868518518518518\n",
            "Validation Accuracy = 0.10083333333333333\n",
            "********************************\n",
            "Epoch Number = 3\n",
            "Training Accuracy = 0.0995925925925926\n",
            "Validation Accuracy = 0.10083333333333333\n",
            "********************************\n",
            "Epoch Number = 4\n",
            "Training Accuracy = 0.09737037037037037\n",
            "Validation Accuracy = 0.10016666666666667\n"
          ]
        },
        {
          "output_type": "display_data",
          "data": {
            "text/plain": [
              "<Figure size 640x480 with 1 Axes>"
            ],
            "image/png": "[encoded data removed]"
          },
          "metadata": {}
        },
        {
          "output_type": "display_data",
          "data": {
            "text/plain": [
              "<Figure size 640x480 with 1 Axes>"
            ],
            "image/png": "[encoded data removed]"
          },
          "metadata": {}
        },
        {
          "output_type": "display_data",
          "data": {
            "text/plain": [
              "VBox(children=(Label(value='0.001 MB of 0.011 MB uploaded\\r'), FloatProgress(value=0.08982086053909258, max=1.…"
            ],
            "application/vnd.jupyter.widget-view+json": {
              "version_major": 2,
              "version_minor": 0,
              "model_id": "11db88ab06ea4c71a308e89b5bf34f8e"
            }
          },
          "metadata": {}
        },
        {
          "output_type": "display_data",
          "data": {
            "text/plain": [
              "<IPython.core.display.HTML object>"
            ],
            "text/html": [
              "<style>\n",
              "    table.wandb td:nth-child(1) { padding: 0 10px; text-align: left ; width: auto;} td:nth-child(2) {text-align: left ; width: 100%}\n",
              "    .wandb-row { display: flex; flex-direction: row; flex-wrap: wrap; justify-content: flex-start; width: 100% }\n",
              "    .wandb-col { display: flex; flex-direction: column; flex-basis: 100%; flex: 1; padding: 10px; }\n",
              "    </style>\n",
              "<div class=\"wandb-row\"><div class=\"wandb-col\"><h3>Run history:</h3><br/><table class=\"wandb\"><tr><td>Epoch</td><td>▁▃▅▆█</td></tr><tr><td>training accuracy</td><td>█▁▁▁▁</td></tr><tr><td>training loss</td><td>▂█▂▁▁</td></tr><tr><td>validation accuracy</td><td>█▁▁▁▁</td></tr><tr><td>validation loss</td><td>▁████</td></tr></table><br/></div><div class=\"wandb-col\"><h3>Run summary:</h3><br/><table class=\"wandb\"><tr><td>Epoch</td><td>4</td></tr><tr><td>training accuracy</td><td>0.09737</td></tr><tr><td>training loss</td><td>2.30277</td></tr><tr><td>validation accuracy</td><td>0.10017</td></tr><tr><td>validation loss</td><td>2.3027</td></tr></table><br/></div></div>"
            ]
          },
          "metadata": {}
        },
        {
          "output_type": "display_data",
          "data": {
            "text/plain": [
              "<IPython.core.display.HTML object>"
            ],
            "text/html": [
              " View run <strong style=\"color:#cdcd00\">chocolate-sweep-4</strong> at: <a href='https://wandb.ai/cs23m051/Pritam%20CS6910%20-%20Assignment%201/runs/g9808sxg' target=\"_blank\">https://wandb.ai/cs23m051/Pritam%20CS6910%20-%20Assignment%201/runs/g9808sxg</a><br/>Synced 5 W&B file(s), 0 media file(s), 0 artifact file(s) and 0 other file(s)"
            ]
          },
          "metadata": {}
        },
        {
          "output_type": "display_data",
          "data": {
            "text/plain": [
              "<IPython.core.display.HTML object>"
            ],
            "text/html": [
              "Find logs at: <code>./wandb/run-20240310_191354-g9808sxg/logs</code>"
            ]
          },
          "metadata": {}
        },
        {
          "output_type": "stream",
          "name": "stderr",
          "text": [
            "\u001b[34m\u001b[1mwandb\u001b[0m: Agent Starting Run: 41klw1zy with config:\n",
            "\u001b[34m\u001b[1mwandb\u001b[0m: \tactivation: relu\n",
            "\u001b[34m\u001b[1mwandb\u001b[0m: \tbatch_size: 64\n",
            "\u001b[34m\u001b[1mwandb\u001b[0m: \tbeta: 0.999\n",
            "\u001b[34m\u001b[1mwandb\u001b[0m: \tepochs: 10\n",
            "\u001b[34m\u001b[1mwandb\u001b[0m: \tinitialization: xavier\n",
            "\u001b[34m\u001b[1mwandb\u001b[0m: \tlearning_rate: 0.001\n",
            "\u001b[34m\u001b[1mwandb\u001b[0m: \tloss: cross_entropy\n",
            "\u001b[34m\u001b[1mwandb\u001b[0m: \tnum_neurons_in_hidden_layers: 64\n",
            "\u001b[34m\u001b[1mwandb\u001b[0m: \tnumber_of_hidden_layers: 3\n",
            "\u001b[34m\u001b[1mwandb\u001b[0m: \toptimizer: momentum\n",
            "\u001b[34m\u001b[1mwandb\u001b[0m: \u001b[33mWARNING\u001b[0m Ignored wandb.init() arg project when running a sweep.\n"
          ]
        },
        {
          "output_type": "display_data",
          "data": {
            "text/plain": [
              "<IPython.core.display.HTML object>"
            ],
            "text/html": [
              "Tracking run with wandb version 0.16.4"
            ]
          },
          "metadata": {}
        },
        {
          "output_type": "display_data",
          "data": {
            "text/plain": [
              "<IPython.core.display.HTML object>"
            ],
            "text/html": [
              "Run data is saved locally in <code>/content/wandb/run-20240310_192818-41klw1zy</code>"
            ]
          },
          "metadata": {}
        },
        {
          "output_type": "display_data",
          "data": {
            "text/plain": [
              "<IPython.core.display.HTML object>"
            ],
            "text/html": [
              "Syncing run <strong><a href='https://wandb.ai/cs23m051/Pritam%20CS6910%20-%20Assignment%201/runs/41klw1zy' target=\"_blank\">silvery-sweep-5</a></strong> to <a href='https://wandb.ai/cs23m051/Pritam%20CS6910%20-%20Assignment%201' target=\"_blank\">Weights & Biases</a> (<a href='https://wandb.me/run' target=\"_blank\">docs</a>)<br/>Sweep page: <a href='https://wandb.ai/cs23m051/Pritam%20CS6910%20-%20Assignment%201/sweeps/tzsl545u' target=\"_blank\">https://wandb.ai/cs23m051/Pritam%20CS6910%20-%20Assignment%201/sweeps/tzsl545u</a>"
            ]
          },
          "metadata": {}
        },
        {
          "output_type": "display_data",
          "data": {
            "text/plain": [
              "<IPython.core.display.HTML object>"
            ],
            "text/html": [
              " View project at <a href='https://wandb.ai/cs23m051/Pritam%20CS6910%20-%20Assignment%201' target=\"_blank\">https://wandb.ai/cs23m051/Pritam%20CS6910%20-%20Assignment%201</a>"
            ]
          },
          "metadata": {}
        },
        {
          "output_type": "display_data",
          "data": {
            "text/plain": [
              "<IPython.core.display.HTML object>"
            ],
            "text/html": [
              " View sweep at <a href='https://wandb.ai/cs23m051/Pritam%20CS6910%20-%20Assignment%201/sweeps/tzsl545u' target=\"_blank\">https://wandb.ai/cs23m051/Pritam%20CS6910%20-%20Assignment%201/sweeps/tzsl545u</a>"
            ]
          },
          "metadata": {}
        },
        {
          "output_type": "display_data",
          "data": {
            "text/plain": [
              "<IPython.core.display.HTML object>"
            ],
            "text/html": [
              " View run at <a href='https://wandb.ai/cs23m051/Pritam%20CS6910%20-%20Assignment%201/runs/41klw1zy' target=\"_blank\">https://wandb.ai/cs23m051/Pritam%20CS6910%20-%20Assignment%201/runs/41klw1zy</a>"
            ]
          },
          "metadata": {}
        },
        {
          "output_type": "stream",
          "name": "stdout",
          "text": [
            "run name = lr_0.001_op_momentum_bs_64_loss_cross_entropy_wInit_xavier_hls_3_nhls_64_ac_relu\n",
            "********************************\n",
            "Epoch Number = 0\n",
            "Training Accuracy = 0.5510555555555555\n",
            "Validation Accuracy = 0.2728333333333333\n",
            "********************************\n",
            "Epoch Number = 1\n",
            "Training Accuracy = 0.2608888888888889\n",
            "Validation Accuracy = 0.30783333333333335\n",
            "********************************\n",
            "Epoch Number = 2\n",
            "Training Accuracy = 0.45725925925925925\n",
            "Validation Accuracy = 0.49483333333333335\n",
            "********************************\n",
            "Epoch Number = 3\n",
            "Training Accuracy = 0.4446481481481481\n",
            "Validation Accuracy = 0.44433333333333336\n",
            "********************************\n",
            "Epoch Number = 4\n",
            "Training Accuracy = 0.2911666666666667\n",
            "Validation Accuracy = 0.30416666666666664\n",
            "********************************\n",
            "Epoch Number = 5\n",
            "Training Accuracy = 0.16683333333333333\n",
            "Validation Accuracy = 0.22783333333333333\n",
            "********************************\n",
            "Epoch Number = 6\n",
            "Training Accuracy = 0.20725925925925925\n",
            "Validation Accuracy = 0.23216666666666666\n",
            "********************************\n",
            "Epoch Number = 7\n",
            "Training Accuracy = 0.1019074074074074\n",
            "Validation Accuracy = 0.10016666666666667\n",
            "********************************\n",
            "Epoch Number = 8\n",
            "Training Accuracy = 0.09966666666666667\n",
            "Validation Accuracy = 0.103\n",
            "********************************\n",
            "Epoch Number = 9\n",
            "Training Accuracy = 0.09966666666666667\n",
            "Validation Accuracy = 0.103\n"
          ]
        },
        {
          "output_type": "display_data",
          "data": {
            "text/plain": [
              "<Figure size 640x480 with 1 Axes>"
            ],
            "image/png": "[encoded data removed]"
          },
          "metadata": {}
        },
        {
          "output_type": "display_data",
          "data": {
            "text/plain": [
              "<Figure size 640x480 with 1 Axes>"
            ],
            "image/png": "[encoded data removed]"
          },
          "metadata": {}
        },
        {
          "output_type": "display_data",
          "data": {
            "text/plain": [
              "VBox(children=(Label(value='0.001 MB of 0.001 MB uploaded\\r'), FloatProgress(value=1.0, max=1.0)))"
            ],
            "application/vnd.jupyter.widget-view+json": {
              "version_major": 2,
              "version_minor": 0,
              "model_id": "3c25d0dce1fa41318e6f7e4b765d8a30"
            }
          },
          "metadata": {}
        },
        {
          "output_type": "display_data",
          "data": {
            "text/plain": [
              "<IPython.core.display.HTML object>"
            ],
            "text/html": [
              "<style>\n",
              "    table.wandb td:nth-child(1) { padding: 0 10px; text-align: left ; width: auto;} td:nth-child(2) {text-align: left ; width: 100%}\n",
              "    .wandb-row { display: flex; flex-direction: row; flex-wrap: wrap; justify-content: flex-start; width: 100% }\n",
              "    .wandb-col { display: flex; flex-direction: column; flex-basis: 100%; flex: 1; padding: 10px; }\n",
              "    </style>\n",
              "<div class=\"wandb-row\"><div class=\"wandb-col\"><h3>Run history:</h3><br/><table class=\"wandb\"><tr><td>Epoch</td><td>▁▂▃▃▄▅▆▆▇█</td></tr><tr><td>training accuracy</td><td>█▄▇▆▄▂▃▁▁▁</td></tr><tr><td>training loss</td><td>▁▅▂▂▄▇▆███</td></tr><tr><td>validation accuracy</td><td>▄▅█▇▅▃▃▁▁▁</td></tr><tr><td>validation loss</td><td>▅▃▁▂▄▅▅███</td></tr></table><br/></div><div class=\"wandb-col\"><h3>Run summary:</h3><br/><table class=\"wandb\"><tr><td>Epoch</td><td>9</td></tr><tr><td>training accuracy</td><td>0.09967</td></tr><tr><td>training loss</td><td>2.31608</td></tr><tr><td>validation accuracy</td><td>0.103</td></tr><tr><td>validation loss</td><td>2.31606</td></tr></table><br/></div></div>"
            ]
          },
          "metadata": {}
        },
        {
          "output_type": "display_data",
          "data": {
            "text/plain": [
              "<IPython.core.display.HTML object>"
            ],
            "text/html": [
              " View run <strong style=\"color:#cdcd00\">silvery-sweep-5</strong> at: <a href='https://wandb.ai/cs23m051/Pritam%20CS6910%20-%20Assignment%201/runs/41klw1zy' target=\"_blank\">https://wandb.ai/cs23m051/Pritam%20CS6910%20-%20Assignment%201/runs/41klw1zy</a><br/>Synced 5 W&B file(s), 0 media file(s), 0 artifact file(s) and 0 other file(s)"
            ]
          },
          "metadata": {}
        },
        {
          "output_type": "display_data",
          "data": {
            "text/plain": [
              "<IPython.core.display.HTML object>"
            ],
            "text/html": [
              "Find logs at: <code>./wandb/run-20240310_192818-41klw1zy/logs</code>"
            ]
          },
          "metadata": {}
        },
        {
          "output_type": "stream",
          "name": "stderr",
          "text": [
            "\u001b[34m\u001b[1mwandb\u001b[0m: Agent Starting Run: dsvvv8es with config:\n",
            "\u001b[34m\u001b[1mwandb\u001b[0m: \tactivation: relu\n",
            "\u001b[34m\u001b[1mwandb\u001b[0m: \tbatch_size: 16\n",
            "\u001b[34m\u001b[1mwandb\u001b[0m: \tbeta: 0.9\n",
            "\u001b[34m\u001b[1mwandb\u001b[0m: \tepochs: 5\n",
            "\u001b[34m\u001b[1mwandb\u001b[0m: \tinitialization: random\n",
            "\u001b[34m\u001b[1mwandb\u001b[0m: \tlearning_rate: 0.001\n",
            "\u001b[34m\u001b[1mwandb\u001b[0m: \tloss: cross_entropy\n",
            "\u001b[34m\u001b[1mwandb\u001b[0m: \tnum_neurons_in_hidden_layers: 64\n",
            "\u001b[34m\u001b[1mwandb\u001b[0m: \tnumber_of_hidden_layers: 5\n",
            "\u001b[34m\u001b[1mwandb\u001b[0m: \toptimizer: rmsprop\n",
            "\u001b[34m\u001b[1mwandb\u001b[0m: \u001b[33mWARNING\u001b[0m Ignored wandb.init() arg project when running a sweep.\n"
          ]
        },
        {
          "output_type": "display_data",
          "data": {
            "text/plain": [
              "VBox(children=(Label(value='Waiting for wandb.init()...\\r'), FloatProgress(value=0.011113663066670497, max=1.0…"
            ],
            "application/vnd.jupyter.widget-view+json": {
              "version_major": 2,
              "version_minor": 0,
              "model_id": "a453e0cfc4e64a67b07535e3b5e96197"
            }
          },
          "metadata": {}
        },
        {
          "output_type": "display_data",
          "data": {
            "text/plain": [
              "<IPython.core.display.HTML object>"
            ],
            "text/html": [
              "Tracking run with wandb version 0.16.4"
            ]
          },
          "metadata": {}
        },
        {
          "output_type": "display_data",
          "data": {
            "text/plain": [
              "<IPython.core.display.HTML object>"
            ],
            "text/html": [
              "Run data is saved locally in <code>/content/wandb/run-20240310_193801-dsvvv8es</code>"
            ]
          },
          "metadata": {}
        },
        {
          "output_type": "display_data",
          "data": {
            "text/plain": [
              "<IPython.core.display.HTML object>"
            ],
            "text/html": [
              "Syncing run <strong><a href='https://wandb.ai/cs23m051/Pritam%20CS6910%20-%20Assignment%201/runs/dsvvv8es' target=\"_blank\">eager-sweep-6</a></strong> to <a href='https://wandb.ai/cs23m051/Pritam%20CS6910%20-%20Assignment%201' target=\"_blank\">Weights & Biases</a> (<a href='https://wandb.me/run' target=\"_blank\">docs</a>)<br/>Sweep page: <a href='https://wandb.ai/cs23m051/Pritam%20CS6910%20-%20Assignment%201/sweeps/tzsl545u' target=\"_blank\">https://wandb.ai/cs23m051/Pritam%20CS6910%20-%20Assignment%201/sweeps/tzsl545u</a>"
            ]
          },
          "metadata": {}
        },
        {
          "output_type": "display_data",
          "data": {
            "text/plain": [
              "<IPython.core.display.HTML object>"
            ],
            "text/html": [
              " View project at <a href='https://wandb.ai/cs23m051/Pritam%20CS6910%20-%20Assignment%201' target=\"_blank\">https://wandb.ai/cs23m051/Pritam%20CS6910%20-%20Assignment%201</a>"
            ]
          },
          "metadata": {}
        },
        {
          "output_type": "display_data",
          "data": {
            "text/plain": [
              "<IPython.core.display.HTML object>"
            ],
            "text/html": [
              " View sweep at <a href='https://wandb.ai/cs23m051/Pritam%20CS6910%20-%20Assignment%201/sweeps/tzsl545u' target=\"_blank\">https://wandb.ai/cs23m051/Pritam%20CS6910%20-%20Assignment%201/sweeps/tzsl545u</a>"
            ]
          },
          "metadata": {}
        },
        {
          "output_type": "display_data",
          "data": {
            "text/plain": [
              "<IPython.core.display.HTML object>"
            ],
            "text/html": [
              " View run at <a href='https://wandb.ai/cs23m051/Pritam%20CS6910%20-%20Assignment%201/runs/dsvvv8es' target=\"_blank\">https://wandb.ai/cs23m051/Pritam%20CS6910%20-%20Assignment%201/runs/dsvvv8es</a>"
            ]
          },
          "metadata": {}
        },
        {
          "output_type": "stream",
          "name": "stdout",
          "text": [
            "run name = lr_0.001_op_rmsprop_bs_16_loss_cross_entropy_wInit_random_hls_5_nhls_64_ac_relu\n",
            "********************************\n",
            "Epoch Number = 0\n",
            "Training Accuracy = 0.18574074074074073\n",
            "Validation Accuracy = 0.2628333333333333\n",
            "********************************\n",
            "Epoch Number = 1\n",
            "Training Accuracy = 0.13387037037037036\n",
            "Validation Accuracy = 0.2625\n",
            "********************************\n",
            "Epoch Number = 2\n",
            "Training Accuracy = 0.2563888888888889\n",
            "Validation Accuracy = 0.2901666666666667\n",
            "********************************\n",
            "Epoch Number = 3\n",
            "Training Accuracy = 0.28429629629629627\n",
            "Validation Accuracy = 0.314\n",
            "********************************\n",
            "Epoch Number = 4\n",
            "Training Accuracy = 0.31507407407407406\n",
            "Validation Accuracy = 0.3421666666666667\n"
          ]
        },
        {
          "output_type": "display_data",
          "data": {
            "text/plain": [
              "<Figure size 640x480 with 1 Axes>"
            ],
            "image/png": "[encoded data removed]"
          },
          "metadata": {}
        },
        {
          "output_type": "display_data",
          "data": {
            "text/plain": [
              "<Figure size 640x480 with 1 Axes>"
            ],
            "image/png": "[encoded data removed]"
          },
          "metadata": {}
        },
        {
          "output_type": "display_data",
          "data": {
            "text/plain": [
              "VBox(children=(Label(value='0.001 MB of 0.011 MB uploaded\\r'), FloatProgress(value=0.08988010396579191, max=1.…"
            ],
            "application/vnd.jupyter.widget-view+json": {
              "version_major": 2,
              "version_minor": 0,
              "model_id": "36e62e2a1cbc4bee99d8bf78c3af1136"
            }
          },
          "metadata": {}
        },
        {
          "output_type": "display_data",
          "data": {
            "text/plain": [
              "<IPython.core.display.HTML object>"
            ],
            "text/html": [
              "<style>\n",
              "    table.wandb td:nth-child(1) { padding: 0 10px; text-align: left ; width: auto;} td:nth-child(2) {text-align: left ; width: 100%}\n",
              "    .wandb-row { display: flex; flex-direction: row; flex-wrap: wrap; justify-content: flex-start; width: 100% }\n",
              "    .wandb-col { display: flex; flex-direction: column; flex-basis: 100%; flex: 1; padding: 10px; }\n",
              "    </style>\n",
              "<div class=\"wandb-row\"><div class=\"wandb-col\"><h3>Run history:</h3><br/><table class=\"wandb\"><tr><td>Epoch</td><td>▁▃▅▆█</td></tr><tr><td>training accuracy</td><td>▃▁▆▇█</td></tr><tr><td>training loss</td><td>█▁▁▁▁</td></tr><tr><td>validation accuracy</td><td>▁▁▃▆█</td></tr><tr><td>validation loss</td><td>█▁▁▁▁</td></tr></table><br/></div><div class=\"wandb-col\"><h3>Run summary:</h3><br/><table class=\"wandb\"><tr><td>Epoch</td><td>4</td></tr><tr><td>training accuracy</td><td>0.31507</td></tr><tr><td>training loss</td><td>1.72823</td></tr><tr><td>validation accuracy</td><td>0.34217</td></tr><tr><td>validation loss</td><td>1.6434</td></tr></table><br/></div></div>"
            ]
          },
          "metadata": {}
        },
        {
          "output_type": "display_data",
          "data": {
            "text/plain": [
              "<IPython.core.display.HTML object>"
            ],
            "text/html": [
              " View run <strong style=\"color:#cdcd00\">eager-sweep-6</strong> at: <a href='https://wandb.ai/cs23m051/Pritam%20CS6910%20-%20Assignment%201/runs/dsvvv8es' target=\"_blank\">https://wandb.ai/cs23m051/Pritam%20CS6910%20-%20Assignment%201/runs/dsvvv8es</a><br/>Synced 5 W&B file(s), 0 media file(s), 0 artifact file(s) and 0 other file(s)"
            ]
          },
          "metadata": {}
        },
        {
          "output_type": "display_data",
          "data": {
            "text/plain": [
              "<IPython.core.display.HTML object>"
            ],
            "text/html": [
              "Find logs at: <code>./wandb/run-20240310_193801-dsvvv8es/logs</code>"
            ]
          },
          "metadata": {}
        },
        {
          "output_type": "stream",
          "name": "stderr",
          "text": [
            "\u001b[34m\u001b[1mwandb\u001b[0m: Sweep Agent: Waiting for job.\n",
            "\u001b[34m\u001b[1mwandb\u001b[0m: Job received.\n",
            "\u001b[34m\u001b[1mwandb\u001b[0m: Agent Starting Run: 27r28jo3 with config:\n",
            "\u001b[34m\u001b[1mwandb\u001b[0m: \tactivation: relu\n",
            "\u001b[34m\u001b[1mwandb\u001b[0m: \tbatch_size: 16\n",
            "\u001b[34m\u001b[1mwandb\u001b[0m: \tbeta: 0.9\n",
            "\u001b[34m\u001b[1mwandb\u001b[0m: \tepochs: 10\n",
            "\u001b[34m\u001b[1mwandb\u001b[0m: \tinitialization: xavier\n",
            "\u001b[34m\u001b[1mwandb\u001b[0m: \tlearning_rate: 0.1\n",
            "\u001b[34m\u001b[1mwandb\u001b[0m: \tloss: cross_entropy\n",
            "\u001b[34m\u001b[1mwandb\u001b[0m: \tnum_neurons_in_hidden_layers: 128\n",
            "\u001b[34m\u001b[1mwandb\u001b[0m: \tnumber_of_hidden_layers: 3\n",
            "\u001b[34m\u001b[1mwandb\u001b[0m: \toptimizer: nadam\n",
            "\u001b[34m\u001b[1mwandb\u001b[0m: \u001b[33mWARNING\u001b[0m Ignored wandb.init() arg project when running a sweep.\n"
          ]
        },
        {
          "output_type": "display_data",
          "data": {
            "text/plain": [
              "<IPython.core.display.HTML object>"
            ],
            "text/html": [
              "Tracking run with wandb version 0.16.4"
            ]
          },
          "metadata": {}
        },
        {
          "output_type": "display_data",
          "data": {
            "text/plain": [
              "<IPython.core.display.HTML object>"
            ],
            "text/html": [
              "Run data is saved locally in <code>/content/wandb/run-20240310_194439-27r28jo3</code>"
            ]
          },
          "metadata": {}
        },
        {
          "output_type": "display_data",
          "data": {
            "text/plain": [
              "<IPython.core.display.HTML object>"
            ],
            "text/html": [
              "Syncing run <strong><a href='https://wandb.ai/cs23m051/Pritam%20CS6910%20-%20Assignment%201/runs/27r28jo3' target=\"_blank\">amber-sweep-7</a></strong> to <a href='https://wandb.ai/cs23m051/Pritam%20CS6910%20-%20Assignment%201' target=\"_blank\">Weights & Biases</a> (<a href='https://wandb.me/run' target=\"_blank\">docs</a>)<br/>Sweep page: <a href='https://wandb.ai/cs23m051/Pritam%20CS6910%20-%20Assignment%201/sweeps/tzsl545u' target=\"_blank\">https://wandb.ai/cs23m051/Pritam%20CS6910%20-%20Assignment%201/sweeps/tzsl545u</a>"
            ]
          },
          "metadata": {}
        },
        {
          "output_type": "display_data",
          "data": {
            "text/plain": [
              "<IPython.core.display.HTML object>"
            ],
            "text/html": [
              " View project at <a href='https://wandb.ai/cs23m051/Pritam%20CS6910%20-%20Assignment%201' target=\"_blank\">https://wandb.ai/cs23m051/Pritam%20CS6910%20-%20Assignment%201</a>"
            ]
          },
          "metadata": {}
        },
        {
          "output_type": "display_data",
          "data": {
            "text/plain": [
              "<IPython.core.display.HTML object>"
            ],
            "text/html": [
              " View sweep at <a href='https://wandb.ai/cs23m051/Pritam%20CS6910%20-%20Assignment%201/sweeps/tzsl545u' target=\"_blank\">https://wandb.ai/cs23m051/Pritam%20CS6910%20-%20Assignment%201/sweeps/tzsl545u</a>"
            ]
          },
          "metadata": {}
        },
        {
          "output_type": "display_data",
          "data": {
            "text/plain": [
              "<IPython.core.display.HTML object>"
            ],
            "text/html": [
              " View run at <a href='https://wandb.ai/cs23m051/Pritam%20CS6910%20-%20Assignment%201/runs/27r28jo3' target=\"_blank\">https://wandb.ai/cs23m051/Pritam%20CS6910%20-%20Assignment%201/runs/27r28jo3</a>"
            ]
          },
          "metadata": {}
        },
        {
          "output_type": "stream",
          "name": "stdout",
          "text": [
            "run name = lr_0.1_op_nadam_bs_16_loss_cross_entropy_wInit_xavier_hls_3_nhls_128_ac_relu\n",
            "********************************\n",
            "Epoch Number = 0\n",
            "Training Accuracy = 0.40564814814814815\n",
            "Validation Accuracy = 0.49083333333333334\n",
            "********************************\n",
            "Epoch Number = 1\n",
            "Training Accuracy = 0.49992592592592594\n",
            "Validation Accuracy = 0.6241666666666666\n",
            "********************************\n",
            "Epoch Number = 2\n",
            "Training Accuracy = 0.6838148148148148\n",
            "Validation Accuracy = 0.7705\n",
            "********************************\n",
            "Epoch Number = 3\n",
            "Training Accuracy = 0.6131851851851852\n",
            "Validation Accuracy = 0.683\n",
            "********************************\n",
            "Epoch Number = 4\n",
            "Training Accuracy = 0.6589259259259259\n",
            "Validation Accuracy = 0.7073333333333334\n",
            "********************************\n",
            "Epoch Number = 5\n",
            "Training Accuracy = 0.7098333333333333\n",
            "Validation Accuracy = 0.7558333333333334\n",
            "********************************\n",
            "Epoch Number = 6\n",
            "Training Accuracy = 0.6934814814814815\n",
            "Validation Accuracy = 0.7558333333333334\n",
            "********************************\n",
            "Epoch Number = 7\n",
            "Training Accuracy = 0.7025\n",
            "Validation Accuracy = 0.7385\n",
            "********************************\n",
            "Epoch Number = 8\n",
            "Training Accuracy = 0.7047592592592593\n",
            "Validation Accuracy = 0.7438333333333333\n",
            "********************************\n",
            "Epoch Number = 9\n",
            "Training Accuracy = 0.7018333333333333\n",
            "Validation Accuracy = 0.752\n"
          ]
        },
        {
          "output_type": "display_data",
          "data": {
            "text/plain": [
              "<Figure size 640x480 with 1 Axes>"
            ],
            "image/png": "[encoded data removed]"
          },
          "metadata": {}
        },
        {
          "output_type": "display_data",
          "data": {
            "text/plain": [
              "<Figure size 640x480 with 1 Axes>"
            ],
            "image/png": "[encoded data removed]"
          },
          "metadata": {}
        },
        {
          "output_type": "display_data",
          "data": {
            "text/plain": [
              "VBox(children=(Label(value='0.001 MB of 0.001 MB uploaded\\r'), FloatProgress(value=1.0, max=1.0)))"
            ],
            "application/vnd.jupyter.widget-view+json": {
              "version_major": 2,
              "version_minor": 0,
              "model_id": "317ef9da3ffd4259baf143cdf478842f"
            }
          },
          "metadata": {}
        },
        {
          "output_type": "display_data",
          "data": {
            "text/plain": [
              "<IPython.core.display.HTML object>"
            ],
            "text/html": [
              "<style>\n",
              "    table.wandb td:nth-child(1) { padding: 0 10px; text-align: left ; width: auto;} td:nth-child(2) {text-align: left ; width: 100%}\n",
              "    .wandb-row { display: flex; flex-direction: row; flex-wrap: wrap; justify-content: flex-start; width: 100% }\n",
              "    .wandb-col { display: flex; flex-direction: column; flex-basis: 100%; flex: 1; padding: 10px; }\n",
              "    </style>\n",
              "<div class=\"wandb-row\"><div class=\"wandb-col\"><h3>Run history:</h3><br/><table class=\"wandb\"><tr><td>Epoch</td><td>▁▂▃▃▄▅▆▆▇█</td></tr><tr><td>training accuracy</td><td>▁▃▇▆▇█████</td></tr><tr><td>training loss</td><td>█▅▂▃▂▁▁▁▂▂</td></tr><tr><td>validation accuracy</td><td>▁▄█▆▆██▇▇█</td></tr><tr><td>validation loss</td><td>█▅▁▂▂▁▁▂▂▂</td></tr></table><br/></div><div class=\"wandb-col\"><h3>Run summary:</h3><br/><table class=\"wandb\"><tr><td>Epoch</td><td>9</td></tr><tr><td>training accuracy</td><td>0.70183</td></tr><tr><td>training loss</td><td>0.83929</td></tr><tr><td>validation accuracy</td><td>0.752</td></tr><tr><td>validation loss</td><td>0.72129</td></tr></table><br/></div></div>"
            ]
          },
          "metadata": {}
        },
        {
          "output_type": "display_data",
          "data": {
            "text/plain": [
              "<IPython.core.display.HTML object>"
            ],
            "text/html": [
              " View run <strong style=\"color:#cdcd00\">amber-sweep-7</strong> at: <a href='https://wandb.ai/cs23m051/Pritam%20CS6910%20-%20Assignment%201/runs/27r28jo3' target=\"_blank\">https://wandb.ai/cs23m051/Pritam%20CS6910%20-%20Assignment%201/runs/27r28jo3</a><br/>Synced 5 W&B file(s), 0 media file(s), 0 artifact file(s) and 0 other file(s)"
            ]
          },
          "metadata": {}
        },
        {
          "output_type": "display_data",
          "data": {
            "text/plain": [
              "<IPython.core.display.HTML object>"
            ],
            "text/html": [
              "Find logs at: <code>./wandb/run-20240310_194439-27r28jo3/logs</code>"
            ]
          },
          "metadata": {}
        },
        {
          "output_type": "stream",
          "name": "stderr",
          "text": [
            "\u001b[34m\u001b[1mwandb\u001b[0m: Agent Starting Run: 6ocxwebl with config:\n",
            "\u001b[34m\u001b[1mwandb\u001b[0m: \tactivation: relu\n",
            "\u001b[34m\u001b[1mwandb\u001b[0m: \tbatch_size: 32\n",
            "\u001b[34m\u001b[1mwandb\u001b[0m: \tbeta: 0.999\n",
            "\u001b[34m\u001b[1mwandb\u001b[0m: \tepochs: 5\n",
            "\u001b[34m\u001b[1mwandb\u001b[0m: \tinitialization: xavier\n",
            "\u001b[34m\u001b[1mwandb\u001b[0m: \tlearning_rate: 0.01\n",
            "\u001b[34m\u001b[1mwandb\u001b[0m: \tloss: cross_entropy\n",
            "\u001b[34m\u001b[1mwandb\u001b[0m: \tnum_neurons_in_hidden_layers: 32\n",
            "\u001b[34m\u001b[1mwandb\u001b[0m: \tnumber_of_hidden_layers: 3\n",
            "\u001b[34m\u001b[1mwandb\u001b[0m: \toptimizer: nadam\n",
            "\u001b[34m\u001b[1mwandb\u001b[0m: \u001b[33mWARNING\u001b[0m Ignored wandb.init() arg project when running a sweep.\n"
          ]
        },
        {
          "output_type": "display_data",
          "data": {
            "text/plain": [
              "<IPython.core.display.HTML object>"
            ],
            "text/html": [
              "Tracking run with wandb version 0.16.4"
            ]
          },
          "metadata": {}
        },
        {
          "output_type": "display_data",
          "data": {
            "text/plain": [
              "<IPython.core.display.HTML object>"
            ],
            "text/html": [
              "Run data is saved locally in <code>/content/wandb/run-20240310_201001-6ocxwebl</code>"
            ]
          },
          "metadata": {}
        },
        {
          "output_type": "display_data",
          "data": {
            "text/plain": [
              "<IPython.core.display.HTML object>"
            ],
            "text/html": [
              "Syncing run <strong><a href='https://wandb.ai/cs23m051/Pritam%20CS6910%20-%20Assignment%201/runs/6ocxwebl' target=\"_blank\">trim-sweep-8</a></strong> to <a href='https://wandb.ai/cs23m051/Pritam%20CS6910%20-%20Assignment%201' target=\"_blank\">Weights & Biases</a> (<a href='https://wandb.me/run' target=\"_blank\">docs</a>)<br/>Sweep page: <a href='https://wandb.ai/cs23m051/Pritam%20CS6910%20-%20Assignment%201/sweeps/tzsl545u' target=\"_blank\">https://wandb.ai/cs23m051/Pritam%20CS6910%20-%20Assignment%201/sweeps/tzsl545u</a>"
            ]
          },
          "metadata": {}
        },
        {
          "output_type": "display_data",
          "data": {
            "text/plain": [
              "<IPython.core.display.HTML object>"
            ],
            "text/html": [
              " View project at <a href='https://wandb.ai/cs23m051/Pritam%20CS6910%20-%20Assignment%201' target=\"_blank\">https://wandb.ai/cs23m051/Pritam%20CS6910%20-%20Assignment%201</a>"
            ]
          },
          "metadata": {}
        },
        {
          "output_type": "display_data",
          "data": {
            "text/plain": [
              "<IPython.core.display.HTML object>"
            ],
            "text/html": [
              " View sweep at <a href='https://wandb.ai/cs23m051/Pritam%20CS6910%20-%20Assignment%201/sweeps/tzsl545u' target=\"_blank\">https://wandb.ai/cs23m051/Pritam%20CS6910%20-%20Assignment%201/sweeps/tzsl545u</a>"
            ]
          },
          "metadata": {}
        },
        {
          "output_type": "display_data",
          "data": {
            "text/plain": [
              "<IPython.core.display.HTML object>"
            ],
            "text/html": [
              " View run at <a href='https://wandb.ai/cs23m051/Pritam%20CS6910%20-%20Assignment%201/runs/6ocxwebl' target=\"_blank\">https://wandb.ai/cs23m051/Pritam%20CS6910%20-%20Assignment%201/runs/6ocxwebl</a>"
            ]
          },
          "metadata": {}
        },
        {
          "output_type": "stream",
          "name": "stdout",
          "text": [
            "run name = lr_0.01_op_nadam_bs_32_loss_cross_entropy_wInit_xavier_hls_3_nhls_32_ac_relu\n",
            "********************************\n",
            "Epoch Number = 0\n",
            "Training Accuracy = 0.7991851851851852\n",
            "Validation Accuracy = 0.8415\n",
            "********************************\n",
            "Epoch Number = 1\n",
            "Training Accuracy = 0.7635\n",
            "Validation Accuracy = 0.831\n",
            "********************************\n",
            "Epoch Number = 2\n",
            "Training Accuracy = 0.7511296296296296\n",
            "Validation Accuracy = 0.825\n",
            "********************************\n",
            "Epoch Number = 3\n",
            "Training Accuracy = 0.7558148148148148\n",
            "Validation Accuracy = 0.8345\n",
            "********************************\n",
            "Epoch Number = 4\n",
            "Training Accuracy = 0.7614814814814815\n",
            "Validation Accuracy = 0.8365\n"
          ]
        },
        {
          "output_type": "display_data",
          "data": {
            "text/plain": [
              "<Figure size 640x480 with 1 Axes>"
            ],
            "image/png": "[encoded data removed]"
          },
          "metadata": {}
        },
        {
          "output_type": "display_data",
          "data": {
            "text/plain": [
              "<Figure size 640x480 with 1 Axes>"
            ],
            "image/png": "[encoded data removed]"
          },
          "metadata": {}
        },
        {
          "output_type": "display_data",
          "data": {
            "text/plain": [
              "VBox(children=(Label(value='0.011 MB of 0.011 MB uploaded\\r'), FloatProgress(value=1.0, max=1.0)))"
            ],
            "application/vnd.jupyter.widget-view+json": {
              "version_major": 2,
              "version_minor": 0,
              "model_id": "e5cb1bb8fe544693b2702895204015ff"
            }
          },
          "metadata": {}
        },
        {
          "output_type": "display_data",
          "data": {
            "text/plain": [
              "<IPython.core.display.HTML object>"
            ],
            "text/html": [
              "<style>\n",
              "    table.wandb td:nth-child(1) { padding: 0 10px; text-align: left ; width: auto;} td:nth-child(2) {text-align: left ; width: 100%}\n",
              "    .wandb-row { display: flex; flex-direction: row; flex-wrap: wrap; justify-content: flex-start; width: 100% }\n",
              "    .wandb-col { display: flex; flex-direction: column; flex-basis: 100%; flex: 1; padding: 10px; }\n",
              "    </style>\n",
              "<div class=\"wandb-row\"><div class=\"wandb-col\"><h3>Run history:</h3><br/><table class=\"wandb\"><tr><td>Epoch</td><td>▁▃▅▆█</td></tr><tr><td>training accuracy</td><td>█▃▁▂▃</td></tr><tr><td>training loss</td><td>▁▆██▇</td></tr><tr><td>validation accuracy</td><td>█▄▁▅▆</td></tr><tr><td>validation loss</td><td>▁▅█▆▅</td></tr></table><br/></div><div class=\"wandb-col\"><h3>Run summary:</h3><br/><table class=\"wandb\"><tr><td>Epoch</td><td>4</td></tr><tr><td>training accuracy</td><td>0.76148</td></tr><tr><td>training loss</td><td>0.66861</td></tr><tr><td>validation accuracy</td><td>0.8365</td></tr><tr><td>validation loss</td><td>0.48525</td></tr></table><br/></div></div>"
            ]
          },
          "metadata": {}
        },
        {
          "output_type": "display_data",
          "data": {
            "text/plain": [
              "<IPython.core.display.HTML object>"
            ],
            "text/html": [
              " View run <strong style=\"color:#cdcd00\">trim-sweep-8</strong> at: <a href='https://wandb.ai/cs23m051/Pritam%20CS6910%20-%20Assignment%201/runs/6ocxwebl' target=\"_blank\">https://wandb.ai/cs23m051/Pritam%20CS6910%20-%20Assignment%201/runs/6ocxwebl</a><br/>Synced 5 W&B file(s), 0 media file(s), 0 artifact file(s) and 0 other file(s)"
            ]
          },
          "metadata": {}
        },
        {
          "output_type": "display_data",
          "data": {
            "text/plain": [
              "<IPython.core.display.HTML object>"
            ],
            "text/html": [
              "Find logs at: <code>./wandb/run-20240310_201001-6ocxwebl/logs</code>"
            ]
          },
          "metadata": {}
        },
        {
          "output_type": "stream",
          "name": "stderr",
          "text": [
            "\u001b[34m\u001b[1mwandb\u001b[0m: Agent Starting Run: 0kxzeysk with config:\n",
            "\u001b[34m\u001b[1mwandb\u001b[0m: \tactivation: relu\n",
            "\u001b[34m\u001b[1mwandb\u001b[0m: \tbatch_size: 16\n",
            "\u001b[34m\u001b[1mwandb\u001b[0m: \tbeta: 0.9\n",
            "\u001b[34m\u001b[1mwandb\u001b[0m: \tepochs: 5\n",
            "\u001b[34m\u001b[1mwandb\u001b[0m: \tinitialization: xavier\n",
            "\u001b[34m\u001b[1mwandb\u001b[0m: \tlearning_rate: 0.01\n",
            "\u001b[34m\u001b[1mwandb\u001b[0m: \tloss: cross_entropy\n",
            "\u001b[34m\u001b[1mwandb\u001b[0m: \tnum_neurons_in_hidden_layers: 128\n",
            "\u001b[34m\u001b[1mwandb\u001b[0m: \tnumber_of_hidden_layers: 4\n",
            "\u001b[34m\u001b[1mwandb\u001b[0m: \toptimizer: sgd\n",
            "\u001b[34m\u001b[1mwandb\u001b[0m: \u001b[33mWARNING\u001b[0m Ignored wandb.init() arg project when running a sweep.\n"
          ]
        },
        {
          "output_type": "display_data",
          "data": {
            "text/plain": [
              "<IPython.core.display.HTML object>"
            ],
            "text/html": [
              "Tracking run with wandb version 0.16.4"
            ]
          },
          "metadata": {}
        },
        {
          "output_type": "display_data",
          "data": {
            "text/plain": [
              "<IPython.core.display.HTML object>"
            ],
            "text/html": [
              "Run data is saved locally in <code>/content/wandb/run-20240310_201300-0kxzeysk</code>"
            ]
          },
          "metadata": {}
        },
        {
          "output_type": "display_data",
          "data": {
            "text/plain": [
              "<IPython.core.display.HTML object>"
            ],
            "text/html": [
              "Syncing run <strong><a href='https://wandb.ai/cs23m051/Pritam%20CS6910%20-%20Assignment%201/runs/0kxzeysk' target=\"_blank\">worthy-sweep-9</a></strong> to <a href='https://wandb.ai/cs23m051/Pritam%20CS6910%20-%20Assignment%201' target=\"_blank\">Weights & Biases</a> (<a href='https://wandb.me/run' target=\"_blank\">docs</a>)<br/>Sweep page: <a href='https://wandb.ai/cs23m051/Pritam%20CS6910%20-%20Assignment%201/sweeps/tzsl545u' target=\"_blank\">https://wandb.ai/cs23m051/Pritam%20CS6910%20-%20Assignment%201/sweeps/tzsl545u</a>"
            ]
          },
          "metadata": {}
        },
        {
          "output_type": "display_data",
          "data": {
            "text/plain": [
              "<IPython.core.display.HTML object>"
            ],
            "text/html": [
              " View project at <a href='https://wandb.ai/cs23m051/Pritam%20CS6910%20-%20Assignment%201' target=\"_blank\">https://wandb.ai/cs23m051/Pritam%20CS6910%20-%20Assignment%201</a>"
            ]
          },
          "metadata": {}
        },
        {
          "output_type": "display_data",
          "data": {
            "text/plain": [
              "<IPython.core.display.HTML object>"
            ],
            "text/html": [
              " View sweep at <a href='https://wandb.ai/cs23m051/Pritam%20CS6910%20-%20Assignment%201/sweeps/tzsl545u' target=\"_blank\">https://wandb.ai/cs23m051/Pritam%20CS6910%20-%20Assignment%201/sweeps/tzsl545u</a>"
            ]
          },
          "metadata": {}
        },
        {
          "output_type": "display_data",
          "data": {
            "text/plain": [
              "<IPython.core.display.HTML object>"
            ],
            "text/html": [
              " View run at <a href='https://wandb.ai/cs23m051/Pritam%20CS6910%20-%20Assignment%201/runs/0kxzeysk' target=\"_blank\">https://wandb.ai/cs23m051/Pritam%20CS6910%20-%20Assignment%201/runs/0kxzeysk</a>"
            ]
          },
          "metadata": {}
        },
        {
          "output_type": "stream",
          "name": "stdout",
          "text": [
            "run name = lr_0.01_op_sgd_bs_16_loss_cross_entropy_wInit_xavier_hls_4_nhls_128_ac_relu\n"
          ]
        },
        {
          "output_type": "stream",
          "name": "stderr",
          "text": [
            "\u001b[34m\u001b[1mwandb\u001b[0m: Ctrl + C detected. Stopping sweep.\n",
            "\u001b[34m\u001b[1mwandb\u001b[0m: \u001b[32m\u001b[41mERROR\u001b[0m Control-C detected -- Run data was not synced\n"
          ]
        }
      ]
    }
  ]
}